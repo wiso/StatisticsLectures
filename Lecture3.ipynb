{
 "cells": [
  {
   "cell_type": "code",
   "execution_count": 1,
   "metadata": {
    "slideshow": {
     "slide_type": "skip"
    }
   },
   "outputs": [
    {
     "name": "stdout",
     "output_type": "stream",
     "text": [
      "Welcome to JupyROOT 6.18/00\n"
     ]
    }
   ],
   "source": [
    "from matplotlib import pyplot as plt\n",
    "import numpy as np\n",
    "from scipy import stats\n",
    "import pandas as pd\n",
    "from IPython.display import HTML, IFrame, Image, SVG, Latex\n",
    "import re\n",
    "import ROOT\n",
    "from ROOT import RooFit, RooStats\n",
    "%matplotlib inline\n",
    "#%matplotlib nbagg\n",
    "#%matplotlib notebook\n",
    "from ipywidgets import interact, interactive, fixed"
   ]
  },
  {
   "cell_type": "code",
   "execution_count": 5,
   "metadata": {},
   "outputs": [],
   "source": [
    "ROOT.RooMsgService.instance().getStream(1).removeTopic(ROOT.RooFit.NumIntegration)\n",
    "ROOT.RooMsgService.instance().getStream(1).removeTopic(ROOT.RooFit.Fitting)\n",
    "ROOT.RooMsgService.instance().getStream(1).removeTopic(ROOT.RooFit.Minimization)\n",
    "ROOT.RooMsgService.instance().getStream(1).removeTopic(ROOT.RooFit.InputArguments)\n",
    "ROOT.RooMsgService.instance().getStream(1).removeTopic(ROOT.RooFit.Eval)\n",
    "ROOT.RooMsgService.instance().getStream(1).removeTopic(ROOT.RooFit.DataHandling)\n",
    "ROOT.RooMsgService.instance().setGlobalKillBelow(ROOT.RooFit.ERROR)\n",
    "ROOT.RooMsgService.instance().setSilentMode(True)"
   ]
  },
  {
   "cell_type": "code",
   "execution_count": 2,
   "metadata": {
    "slideshow": {
     "slide_type": "skip"
    }
   },
   "outputs": [
    {
     "data": {
      "text/html": [
       "<link rel=\"stylesheet\" href=\"custom.css\" type=\"text/css\">"
      ],
      "text/plain": [
       "<IPython.core.display.HTML object>"
      ]
     },
     "execution_count": 2,
     "metadata": {},
     "output_type": "execute_result"
    }
   ],
   "source": [
    "HTML('<link rel=\"stylesheet\" href=\"custom.css\" type=\"text/css\">')"
   ]
  },
  {
   "cell_type": "code",
   "execution_count": 3,
   "metadata": {
    "slideshow": {
     "slide_type": "skip"
    }
   },
   "outputs": [],
   "source": [
    "#from notebook.services.config import ConfigManager\n",
    "#cm = ConfigManager()\n",
    "#cm.update('livereveal', {\n",
    "#          'theme': 'sans',\n",
    "#          'transition': 'zoom',\n",
    "#})"
   ]
  },
  {
   "cell_type": "code",
   "execution_count": 4,
   "metadata": {
    "slideshow": {
     "slide_type": "skip"
    }
   },
   "outputs": [],
   "source": [
    "def iter_collection(rooAbsCollection):\n",
    "    iterator = rooAbsCollection.createIterator()\n",
    "    object = iterator.Next()\n",
    "    while object:\n",
    "        yield object\n",
    "        object = iterator.Next()"
   ]
  },
  {
   "cell_type": "markdown",
   "metadata": {
    "slideshow": {
     "slide_type": "slide"
    }
   },
   "source": [
    "# Lecture 3\n",
    "\n",
    "<p style=\"text-align: center;\"><i class=\"icon-user icon-2x\"><a href=\"mailto:ruggero.turra@mi.infn.it\">ruggero.turra@mi.infn.it</a></i></p>\n",
    "<br/>\n",
    "\n",
    "## Content of the lecture\n",
    "\n",
    "   * Systematics\n",
    "   * Shape analysis\n",
    "   * Test statistic for discovery and exclusions"
   ]
  },
  {
   "cell_type": "markdown",
   "metadata": {
    "slideshow": {
     "slide_type": "slide"
    }
   },
   "source": [
    "Restart from the on/off problem.\n",
    "\n",
    "We observe the number of events in the signal region $n_{SR}$ and in the control region $n_{CR}$. $\\alpha$ is the ratio of the expected background in the CR with respect to the SR. We can write the likelihood as:\n",
    "\n",
    "$$L(s, b|n_{SR}, n_{CR}) = \\text{Pois}(n_{SR}|s + b) \\text{Pois}(n_{CR}|\\alpha b)$$\n",
    "\n",
    "The test statistics is based on the profiled likelihood ratio:\n",
    "\n",
    "$$-2\\log\\lambda = -2\\log\\frac{\\sup_{b \\in [0, \\infty], s\\in\\{0\\}}{L(s, b)}}{\\sup_{b\\in [0, \\infty], s\\in [0, \\infty]}{L(s, b)}} = -2\\log\\frac{L(0, \\hat{\\hat{b}}(s=0))}{L(\\hat{s}, \\hat{b})}$$"
   ]
  },
  {
   "cell_type": "markdown",
   "metadata": {
    "slideshow": {
     "slide_type": "slide"
    }
   },
   "source": [
    "## Systematics\n",
    "\n",
    "How we can incorporate systematics inside our model? Suppose we know the parameter $\\alpha$ with a relative uncertainty $\\sigma_\\alpha$. We can imagine that there is another measurement (auxiliary measurement), that measured $\\alpha$ (the parameter of the model of the auxiliary measurement) and observed $a$. We can write the likelihood of the auxiliary measurement as $L(a|\\alpha) = N(a|\\alpha, \\delta_\\alpha)$, if assume that $a$ is normally distributed aroud the true value $\\alpha$ and $\\delta\\alpha$ is the absolute error on $\\alpha$ ($\\delta\\alpha=\\sigma_\\alpha a$)\n",
    "\n",
    "\n",
    "\n"
   ]
  },
  {
   "cell_type": "markdown",
   "metadata": {
    "slideshow": {
     "slide_type": "subslide"
    }
   },
   "source": [
    "We can join the auxiliary measurement with our on/off model:\n",
    "\n",
    "$$L(s, b, a|N_{SR}, N_{CR}, \\alpha) = L(s, b|N_{SR}, N_{CR}) L(a|\\alpha)$$\n",
    "\n",
    "or more explicitely:\n",
    "\n",
    "$$\\text{Pois}(N_{SR}|s + b) \\text{Pois}(N_{CR}|\\alpha b) \\times N(a|\\alpha, \\delta_\\alpha)$$\n",
    "\n",
    "Usually this is written as:\n",
    "\n",
    "$$\\text{Pois}(N_{SR}|s + b) \\text{Pois}(N_{CR}|a (1 + \\sigma_\\alpha\\theta_\\alpha) b) \\times N(0|\\theta_\\alpha, 1)$$\n",
    "\n",
    "The first term is called the \"physical\" pdf, while the second is called the \"constraints\".\n"
   ]
  },
  {
   "cell_type": "code",
   "execution_count": 5,
   "metadata": {
    "scrolled": true,
    "slideshow": {
     "slide_type": "subslide"
    }
   },
   "outputs": [],
   "source": [
    "#ws = ws_onoff_withsys = ws_onoff.Clone(\"ws_onoff_withsys\")\n",
    "f = ROOT.TFile.Open(\"onoff.root\")\n",
    "ws_onoff = f.Get(\"ws_onoff\")\n",
    "\n",
    "# create the term kalpha = (1 + sigma * theta) with a relative error of 20%\n",
    "ws_onoff.factory('expr:kalpha(\"1 + @0 * @1\", {sigma_alpha[0.2], theta_alpha[0, -5, 5]})')\n",
    "ws_onoff.factory('prod:alpha_x_kappa(alpha, kalpha)')\n",
    "# create new pdf model replacing alpha -> alpha_x_kalpha\n",
    "ws_onoff.factory('EDIT:model_with_sys(model, alpha=alpha_x_kappa)')\n",
    " \n",
    "# create new workspace\n",
    "ws_onoff_sys = ROOT.RooWorkspace('ws_onoff_sys')\n",
    "getattr(ws_onoff_sys, 'import')(ws_onoff.pdf('model_with_sys'))\n",
    "# create the constraint\n",
    "ws_onoff_sys.factory(\"Gaussian:constraint_alpha(global_alpha[0, -5, 5], theta_alpha, 1)\")\n",
    "ws_onoff_sys.var(\"global_alpha\").setConstant(True)\n",
    "# final pdf\n",
    "model = ws_onoff_sys.factory(\"PROD:model_constrained(model_with_sys, constraint_alpha)\")"
   ]
  },
  {
   "cell_type": "code",
   "execution_count": 6,
   "metadata": {
    "slideshow": {
     "slide_type": "subslide"
    }
   },
   "outputs": [
    {
     "name": "stdout",
     "output_type": "stream",
     "text": [
      "\n",
      "RooWorkspace(ws_onoff_sys) ws_onoff_sys contents\n",
      "\n",
      "variables\n",
      "---------\n",
      "(alpha,b,global_alpha,n_cr,n_sr,s,sigma_alpha,theta_alpha)\n",
      "\n",
      "p.d.f.s\n",
      "-------\n",
      "RooPoisson::N_CR_model_with_sys[ x=n_cr mean=alpha_x_b_model_with_sys ] = 0\n",
      "RooPoisson::N_SR[ x=n_sr mean=s_plus_b ] = 0\n",
      "RooGaussian::constraint_alpha[ x=global_alpha mean=theta_alpha sigma=1 ] = 1\n",
      "RooProdPdf::model_constrained[ model_with_sys * constraint_alpha ] = 0\n",
      "RooProdPdf::model_with_sys[ N_SR * N_CR_model_with_sys ] = 0\n",
      "\n",
      "functions\n",
      "--------\n",
      "RooProduct::alpha_x_b_model_with_sys[ alpha_x_kappa * b ] = 500\n",
      "RooProduct::alpha_x_kappa[ alpha * kalpha ] = 10\n",
      "RooFormulaVar::kalpha[ actualVars=(sigma_alpha,theta_alpha) formula=\"1+@0*@1\" ] = 1\n",
      "RooAddition::s_plus_b[ s + b ] = 50\n",
      "\n"
     ]
    }
   ],
   "source": [
    "ws_onoff_sys.Print()"
   ]
  },
  {
   "cell_type": "code",
   "execution_count": 7,
   "metadata": {
    "slideshow": {
     "slide_type": "subslide"
    }
   },
   "outputs": [
    {
     "data": {
      "image/svg+xml": [
       "<svg height=\"\" viewBox=\"0.00 0.00 1166.66 600.18\" width=\"90%\" xmlns=\"http://www.w3.org/2000/svg\" xmlns:xlink=\"http://www.w3.org/1999/xlink\">\n",
       "<g class=\"graph\" id=\"graph0\" transform=\"scale(1 1) rotate(0) translate(4 596.1808)\">\n",
       "<title>model_constrained</title>\n",
       "<polygon fill=\"#ffffff\" points=\"-4,4 -4,-596.1808 1162.664,-596.1808 1162.664,4 -4,4\" stroke=\"transparent\"/>\n",
       "<!-- model_constrained -->\n",
       "<g class=\"node\" id=\"node1\">\n",
       "<title>model_constrained</title>\n",
       "<ellipse cx=\"702.0036\" cy=\"-565.3107\" fill=\"none\" rx=\"107.4605\" ry=\"26.7407\" stroke=\"#ff0000\"/>\n",
       "<text fill=\"#000000\" font-family=\"Times,serif\" font-size=\"14.00\" text-anchor=\"middle\" x=\"702.0036\" y=\"-569.1107\">RooProdPdf</text>\n",
       "<text fill=\"#000000\" font-family=\"Times,serif\" font-size=\"14.00\" text-anchor=\"middle\" x=\"702.0036\" y=\"-554.1107\">model_constrained</text>\n",
       "</g>\n",
       "<!-- model_with_sys -->\n",
       "<g class=\"node\" id=\"node2\">\n",
       "<title>model_with_sys</title>\n",
       "<ellipse cx=\"522.0036\" cy=\"-475.5706\" fill=\"none\" rx=\"91.8478\" ry=\"26.7407\" stroke=\"#ff0000\"/>\n",
       "<text fill=\"#000000\" font-family=\"Times,serif\" font-size=\"14.00\" text-anchor=\"middle\" x=\"522.0036\" y=\"-479.3706\">RooProdPdf</text>\n",
       "<text fill=\"#000000\" font-family=\"Times,serif\" font-size=\"14.00\" text-anchor=\"middle\" x=\"522.0036\" y=\"-464.3706\">model_with_sys</text>\n",
       "</g>\n",
       "<!-- model_constrained&#45;&gt;model_with_sys -->\n",
       "<g class=\"edge\" id=\"edge15\">\n",
       "<title>model_constrained-&gt;model_with_sys</title>\n",
       "<path d=\"M653.7669,-541.262C630.3124,-529.5687 601.9957,-515.4512 577.6332,-503.3051\" fill=\"none\" stroke=\"#000000\"/>\n",
       "<polygon fill=\"#000000\" points=\"579.0191,-500.0852 568.508,-498.7557 575.8958,-506.3498 579.0191,-500.0852\" stroke=\"#000000\"/>\n",
       "</g>\n",
       "<!-- constraint_alpha -->\n",
       "<g class=\"node\" id=\"node16\">\n",
       "<title>constraint_alpha</title>\n",
       "<ellipse cx=\"859.0036\" cy=\"-475.5706\" fill=\"none\" rx=\"96.7474\" ry=\"26.7407\" stroke=\"#ff0000\"/>\n",
       "<text fill=\"#000000\" font-family=\"Times,serif\" font-size=\"14.00\" text-anchor=\"middle\" x=\"859.0036\" y=\"-479.3706\">RooGaussian</text>\n",
       "<text fill=\"#000000\" font-family=\"Times,serif\" font-size=\"14.00\" text-anchor=\"middle\" x=\"859.0036\" y=\"-464.3706\">constraint_alpha</text>\n",
       "</g>\n",
       "<!-- model_constrained&#45;&gt;constraint_alpha -->\n",
       "<g class=\"edge\" id=\"edge16\">\n",
       "<title>model_constrained-&gt;constraint_alpha</title>\n",
       "<path d=\"M745.3201,-540.5513C764.6907,-529.4792 787.6651,-516.3472 807.8734,-504.7963\" fill=\"none\" stroke=\"#000000\"/>\n",
       "<polygon fill=\"#000000\" points=\"809.6974,-507.7852 816.6424,-499.784 806.2237,-501.7079 809.6974,-507.7852\" stroke=\"#000000\"/>\n",
       "</g>\n",
       "<!-- N_SR -->\n",
       "<g class=\"node\" id=\"node3\">\n",
       "<title>N_SR</title>\n",
       "<ellipse cx=\"232.0036\" cy=\"-385.8305\" fill=\"none\" rx=\"69.0935\" ry=\"26.7407\" stroke=\"#ff0000\"/>\n",
       "<text fill=\"#000000\" font-family=\"Times,serif\" font-size=\"14.00\" text-anchor=\"middle\" x=\"232.0036\" y=\"-389.6305\">RooPoisson</text>\n",
       "<text fill=\"#000000\" font-family=\"Times,serif\" font-size=\"14.00\" text-anchor=\"middle\" x=\"232.0036\" y=\"-374.6305\">N_SR</text>\n",
       "</g>\n",
       "<!-- model_with_sys&#45;&gt;N_SR -->\n",
       "<g class=\"edge\" id=\"edge4\">\n",
       "<title>model_with_sys-&gt;N_SR</title>\n",
       "<path d=\"M458.7202,-455.9877C410.5418,-441.0789 344.4925,-420.6401 296.1117,-405.6687\" fill=\"none\" stroke=\"#000000\"/>\n",
       "<polygon fill=\"#000000\" points=\"296.9633,-402.2685 286.3755,-402.6558 294.8939,-408.9557 296.9633,-402.2685\" stroke=\"#000000\"/>\n",
       "</g>\n",
       "<!-- N_CR_model_with_sys -->\n",
       "<g class=\"node\" id=\"node8\">\n",
       "<title>N_CR_model_with_sys</title>\n",
       "<ellipse cx=\"522.0036\" cy=\"-385.8305\" fill=\"none\" rx=\"126.6443\" ry=\"26.7407\" stroke=\"#ff0000\"/>\n",
       "<text fill=\"#000000\" font-family=\"Times,serif\" font-size=\"14.00\" text-anchor=\"middle\" x=\"522.0036\" y=\"-389.6305\">RooPoisson</text>\n",
       "<text fill=\"#000000\" font-family=\"Times,serif\" font-size=\"14.00\" text-anchor=\"middle\" x=\"522.0036\" y=\"-374.6305\">N_CR_model_with_sys</text>\n",
       "</g>\n",
       "<!-- model_with_sys&#45;&gt;N_CR_model_with_sys -->\n",
       "<g class=\"edge\" id=\"edge3\">\n",
       "<title>model_with_sys-&gt;N_CR_model_with_sys</title>\n",
       "<path d=\"M522.0036,-448.6456C522.0036,-440.5707 522.0036,-431.5674 522.0036,-422.9565\" fill=\"none\" stroke=\"#000000\"/>\n",
       "<polygon fill=\"#000000\" points=\"525.5037,-422.7365 522.0036,-412.7365 518.5037,-422.7365 525.5037,-422.7365\" stroke=\"#000000\"/>\n",
       "</g>\n",
       "<!-- n_sr -->\n",
       "<g class=\"node\" id=\"node4\">\n",
       "<title>n_sr</title>\n",
       "<ellipse cx=\"70.0036\" cy=\"-296.0904\" fill=\"none\" rx=\"70.0071\" ry=\"26.7407\" stroke=\"#0000ff\"/>\n",
       "<text fill=\"#000000\" font-family=\"Times,serif\" font-size=\"14.00\" text-anchor=\"middle\" x=\"70.0036\" y=\"-299.8904\">RooRealVar</text>\n",
       "<text fill=\"#000000\" font-family=\"Times,serif\" font-size=\"14.00\" text-anchor=\"middle\" x=\"70.0036\" y=\"-284.8904\">n_sr</text>\n",
       "</g>\n",
       "<!-- N_SR&#45;&gt;n_sr -->\n",
       "<g class=\"edge\" id=\"edge14\">\n",
       "<title>N_SR-&gt;n_sr</title>\n",
       "<path d=\"M191.9586,-363.6476C169.9559,-351.4592 142.482,-336.2399 119.184,-323.3339\" fill=\"none\" stroke=\"#000000\"/>\n",
       "<polygon fill=\"#000000\" points=\"120.5928,-320.1133 110.1493,-318.3292 117.2008,-326.2366 120.5928,-320.1133\" stroke=\"#000000\"/>\n",
       "</g>\n",
       "<!-- s_plus_b -->\n",
       "<g class=\"node\" id=\"node5\">\n",
       "<title>s_plus_b</title>\n",
       "<ellipse cx=\"232.0036\" cy=\"-296.0904\" fill=\"none\" rx=\"73.5782\" ry=\"26.7407\" stroke=\"#ff0000\"/>\n",
       "<text fill=\"#000000\" font-family=\"Times,serif\" font-size=\"14.00\" text-anchor=\"middle\" x=\"232.0036\" y=\"-299.8904\">RooAddition</text>\n",
       "<text fill=\"#000000\" font-family=\"Times,serif\" font-size=\"14.00\" text-anchor=\"middle\" x=\"232.0036\" y=\"-284.8904\">s_plus_b</text>\n",
       "</g>\n",
       "<!-- N_SR&#45;&gt;s_plus_b -->\n",
       "<g class=\"edge\" id=\"edge13\">\n",
       "<title>N_SR-&gt;s_plus_b</title>\n",
       "<path d=\"M232.0036,-358.9055C232.0036,-350.8306 232.0036,-341.8273 232.0036,-333.2164\" fill=\"none\" stroke=\"#000000\"/>\n",
       "<polygon fill=\"#000000\" points=\"235.5037,-332.9964 232.0036,-322.9964 228.5037,-332.9964 235.5037,-332.9964\" stroke=\"#000000\"/>\n",
       "</g>\n",
       "<!-- s -->\n",
       "<g class=\"node\" id=\"node6\">\n",
       "<title>s</title>\n",
       "<ellipse cx=\"232.0036\" cy=\"-206.3503\" fill=\"none\" rx=\"70.0071\" ry=\"26.7407\" stroke=\"#0000ff\"/>\n",
       "<text fill=\"#000000\" font-family=\"Times,serif\" font-size=\"14.00\" text-anchor=\"middle\" x=\"232.0036\" y=\"-210.1503\">RooRealVar</text>\n",
       "<text fill=\"#000000\" font-family=\"Times,serif\" font-size=\"14.00\" text-anchor=\"middle\" x=\"232.0036\" y=\"-195.1503\">s</text>\n",
       "</g>\n",
       "<!-- s_plus_b&#45;&gt;s -->\n",
       "<g class=\"edge\" id=\"edge8\">\n",
       "<title>s_plus_b-&gt;s</title>\n",
       "<path d=\"M232.0036,-269.1654C232.0036,-261.0905 232.0036,-252.0872 232.0036,-243.4763\" fill=\"none\" stroke=\"#000000\"/>\n",
       "<polygon fill=\"#000000\" points=\"235.5037,-243.2562 232.0036,-233.2563 228.5037,-243.2563 235.5037,-243.2562\" stroke=\"#000000\"/>\n",
       "</g>\n",
       "<!-- b -->\n",
       "<g class=\"node\" id=\"node7\">\n",
       "<title>b</title>\n",
       "<ellipse cx=\"423.0036\" cy=\"-206.3503\" fill=\"none\" rx=\"70.0071\" ry=\"26.7407\" stroke=\"#0000ff\"/>\n",
       "<text fill=\"#000000\" font-family=\"Times,serif\" font-size=\"14.00\" text-anchor=\"middle\" x=\"423.0036\" y=\"-210.1503\">RooRealVar</text>\n",
       "<text fill=\"#000000\" font-family=\"Times,serif\" font-size=\"14.00\" text-anchor=\"middle\" x=\"423.0036\" y=\"-195.1503\">b</text>\n",
       "</g>\n",
       "<!-- s_plus_b&#45;&gt;b -->\n",
       "<g class=\"edge\" id=\"edge7\">\n",
       "<title>s_plus_b-&gt;b</title>\n",
       "<path d=\"M277.2679,-274.8232C304.8411,-261.8682 340.2247,-245.2434 369.2218,-231.6193\" fill=\"none\" stroke=\"#000000\"/>\n",
       "<polygon fill=\"#000000\" points=\"370.8316,-234.7301 378.394,-227.3098 367.8548,-228.3946 370.8316,-234.7301\" stroke=\"#000000\"/>\n",
       "</g>\n",
       "<!-- n_cr -->\n",
       "<g class=\"node\" id=\"node9\">\n",
       "<title>n_cr</title>\n",
       "<ellipse cx=\"394.0036\" cy=\"-296.0904\" fill=\"none\" rx=\"70.0071\" ry=\"26.7407\" stroke=\"#0000ff\"/>\n",
       "<text fill=\"#000000\" font-family=\"Times,serif\" font-size=\"14.00\" text-anchor=\"middle\" x=\"394.0036\" y=\"-299.8904\">RooRealVar</text>\n",
       "<text fill=\"#000000\" font-family=\"Times,serif\" font-size=\"14.00\" text-anchor=\"middle\" x=\"394.0036\" y=\"-284.8904\">n_cr</text>\n",
       "</g>\n",
       "<!-- N_CR_model_with_sys&#45;&gt;n_cr -->\n",
       "<g class=\"edge\" id=\"edge9\">\n",
       "<title>N_CR_model_with_sys-&gt;n_cr</title>\n",
       "<path d=\"M484.9807,-359.874C469.78,-349.2168 452.0941,-336.8174 436.3794,-325.7999\" fill=\"none\" stroke=\"#000000\"/>\n",
       "<polygon fill=\"#000000\" points=\"438.0774,-322.7159 427.8801,-319.841 434.0589,-328.4476 438.0774,-322.7159\" stroke=\"#000000\"/>\n",
       "</g>\n",
       "<!-- alpha_x_b_model_with_sys -->\n",
       "<g class=\"node\" id=\"node10\">\n",
       "<title>alpha_x_b_model_with_sys</title>\n",
       "<ellipse cx=\"630.0036\" cy=\"-296.0904\" fill=\"none\" rx=\"147.5709\" ry=\"26.7407\" stroke=\"#ff0000\"/>\n",
       "<text fill=\"#000000\" font-family=\"Times,serif\" font-size=\"14.00\" text-anchor=\"middle\" x=\"630.0036\" y=\"-299.8904\">RooProduct</text>\n",
       "<text fill=\"#000000\" font-family=\"Times,serif\" font-size=\"14.00\" text-anchor=\"middle\" x=\"630.0036\" y=\"-284.8904\">alpha_x_b_model_with_sys</text>\n",
       "</g>\n",
       "<!-- N_CR_model_with_sys&#45;&gt;alpha_x_b_model_with_sys -->\n",
       "<g class=\"edge\" id=\"edge10\">\n",
       "<title>N_CR_model_with_sys-&gt;alpha_x_b_model_with_sys</title>\n",
       "<path d=\"M553.532,-359.6327C565.0746,-350.0416 578.2844,-339.0652 590.4408,-328.9642\" fill=\"none\" stroke=\"#000000\"/>\n",
       "<polygon fill=\"#000000\" points=\"592.7945,-331.559 598.249,-322.4761 588.3208,-326.1751 592.7945,-331.559\" stroke=\"#000000\"/>\n",
       "</g>\n",
       "<!-- alpha_x_b_model_with_sys&#45;&gt;b -->\n",
       "<g class=\"edge\" id=\"edge11\">\n",
       "<title>alpha_x_b_model_with_sys-&gt;b</title>\n",
       "<path d=\"M572.6174,-271.212C543.3589,-258.5276 507.9203,-243.164 478.879,-230.5738\" fill=\"none\" stroke=\"#000000\"/>\n",
       "<polygon fill=\"#000000\" points=\"480.2579,-227.3569 469.6908,-226.5905 477.4735,-233.7793 480.2579,-227.3569\" stroke=\"#000000\"/>\n",
       "</g>\n",
       "<!-- alpha_x_kappa -->\n",
       "<g class=\"node\" id=\"node11\">\n",
       "<title>alpha_x_kappa</title>\n",
       "<ellipse cx=\"630.0036\" cy=\"-206.3503\" fill=\"none\" rx=\"86.0347\" ry=\"26.7407\" stroke=\"#ff0000\"/>\n",
       "<text fill=\"#000000\" font-family=\"Times,serif\" font-size=\"14.00\" text-anchor=\"middle\" x=\"630.0036\" y=\"-210.1503\">RooProduct</text>\n",
       "<text fill=\"#000000\" font-family=\"Times,serif\" font-size=\"14.00\" text-anchor=\"middle\" x=\"630.0036\" y=\"-195.1503\">alpha_x_kappa</text>\n",
       "</g>\n",
       "<!-- alpha_x_b_model_with_sys&#45;&gt;alpha_x_kappa -->\n",
       "<g class=\"edge\" id=\"edge12\">\n",
       "<title>alpha_x_b_model_with_sys-&gt;alpha_x_kappa</title>\n",
       "<path d=\"M630.0036,-269.1654C630.0036,-261.0905 630.0036,-252.0872 630.0036,-243.4763\" fill=\"none\" stroke=\"#000000\"/>\n",
       "<polygon fill=\"#000000\" points=\"633.5037,-243.2562 630.0036,-233.2563 626.5037,-243.2563 633.5037,-243.2562\" stroke=\"#000000\"/>\n",
       "</g>\n",
       "<!-- alpha -->\n",
       "<g class=\"node\" id=\"node12\">\n",
       "<title>alpha</title>\n",
       "<ellipse cx=\"487.0036\" cy=\"-116.6102\" fill=\"none\" rx=\"70.0071\" ry=\"26.7407\" stroke=\"#0000ff\"/>\n",
       "<text fill=\"#000000\" font-family=\"Times,serif\" font-size=\"14.00\" text-anchor=\"middle\" x=\"487.0036\" y=\"-120.4102\">RooRealVar</text>\n",
       "<text fill=\"#000000\" font-family=\"Times,serif\" font-size=\"14.00\" text-anchor=\"middle\" x=\"487.0036\" y=\"-105.4102\">alpha</text>\n",
       "</g>\n",
       "<!-- alpha_x_kappa&#45;&gt;alpha -->\n",
       "<g class=\"edge\" id=\"edge6\">\n",
       "<title>alpha_x_kappa-&gt;alpha</title>\n",
       "<path d=\"M591.3057,-182.0653C573.0865,-170.6318 551.2393,-156.9215 532.2577,-145.0096\" fill=\"none\" stroke=\"#000000\"/>\n",
       "<polygon fill=\"#000000\" points=\"534.0921,-142.0287 523.7614,-139.6777 530.3712,-147.9578 534.0921,-142.0287\" stroke=\"#000000\"/>\n",
       "</g>\n",
       "<!-- kalpha -->\n",
       "<g class=\"node\" id=\"node13\">\n",
       "<title>kalpha</title>\n",
       "<ellipse cx=\"665.0036\" cy=\"-116.6102\" fill=\"none\" rx=\"89.6056\" ry=\"26.7407\" stroke=\"#ff0000\"/>\n",
       "<text fill=\"#000000\" font-family=\"Times,serif\" font-size=\"14.00\" text-anchor=\"middle\" x=\"665.0036\" y=\"-120.4102\">RooFormulaVar</text>\n",
       "<text fill=\"#000000\" font-family=\"Times,serif\" font-size=\"14.00\" text-anchor=\"middle\" x=\"665.0036\" y=\"-105.4102\">kalpha</text>\n",
       "</g>\n",
       "<!-- alpha_x_kappa&#45;&gt;kalpha -->\n",
       "<g class=\"edge\" id=\"edge5\">\n",
       "<title>alpha_x_kappa-&gt;kalpha</title>\n",
       "<path d=\"M640.5047,-179.4253C643.7579,-171.0842 647.3974,-161.7525 650.8555,-152.8859\" fill=\"none\" stroke=\"#000000\"/>\n",
       "<polygon fill=\"#000000\" points=\"654.137,-154.1044 654.5098,-143.5162 647.6154,-151.5609 654.137,-154.1044\" stroke=\"#000000\"/>\n",
       "</g>\n",
       "<!-- sigma_alpha -->\n",
       "<g class=\"node\" id=\"node14\">\n",
       "<title>sigma_alpha</title>\n",
       "<ellipse cx=\"642.0036\" cy=\"-26.8701\" fill=\"none\" rx=\"74.9067\" ry=\"26.7407\" stroke=\"#0000ff\"/>\n",
       "<text fill=\"#000000\" font-family=\"Times,serif\" font-size=\"14.00\" text-anchor=\"middle\" x=\"642.0036\" y=\"-30.6701\">RooRealVar</text>\n",
       "<text fill=\"#000000\" font-family=\"Times,serif\" font-size=\"14.00\" text-anchor=\"middle\" x=\"642.0036\" y=\"-15.6701\">sigma_alpha</text>\n",
       "</g>\n",
       "<!-- kalpha&#45;&gt;sigma_alpha -->\n",
       "<g class=\"edge\" id=\"edge2\">\n",
       "<title>kalpha-&gt;sigma_alpha</title>\n",
       "<path d=\"M658.1028,-89.6852C656.0105,-81.5215 653.675,-72.409 651.4461,-63.7123\" fill=\"none\" stroke=\"#000000\"/>\n",
       "<polygon fill=\"#000000\" points=\"654.7727,-62.594 648.8995,-53.776 647.9918,-64.3319 654.7727,-62.594\" stroke=\"#000000\"/>\n",
       "</g>\n",
       "<!-- theta_alpha -->\n",
       "<g class=\"node\" id=\"node15\">\n",
       "<title>theta_alpha</title>\n",
       "<ellipse cx=\"806.0036\" cy=\"-26.8701\" fill=\"none\" rx=\"71.3357\" ry=\"26.7407\" stroke=\"#0000ff\"/>\n",
       "<text fill=\"#000000\" font-family=\"Times,serif\" font-size=\"14.00\" text-anchor=\"middle\" x=\"806.0036\" y=\"-30.6701\">RooRealVar</text>\n",
       "<text fill=\"#000000\" font-family=\"Times,serif\" font-size=\"14.00\" text-anchor=\"middle\" x=\"806.0036\" y=\"-15.6701\">theta_alpha</text>\n",
       "</g>\n",
       "<!-- kalpha&#45;&gt;theta_alpha -->\n",
       "<g class=\"edge\" id=\"edge1\">\n",
       "<title>kalpha-&gt;theta_alpha</title>\n",
       "<path d=\"M703.5324,-92.0883C721.2708,-80.7986 742.435,-67.3285 760.9115,-55.5691\" fill=\"none\" stroke=\"#000000\"/>\n",
       "<polygon fill=\"#000000\" points=\"762.9063,-58.4483 769.4633,-50.1263 759.1478,-52.5429 762.9063,-58.4483\" stroke=\"#000000\"/>\n",
       "</g>\n",
       "<!-- constraint_alpha&#45;&gt;theta_alpha -->\n",
       "<g class=\"edge\" id=\"edge19\">\n",
       "<title>constraint_alpha-&gt;theta_alpha</title>\n",
       "<path d=\"M842.0364,-448.9336C835.8077,-438.0687 829.2488,-425.15 825.0036,-412.7006 808.0559,-363.0005 806.0036,-348.6006 806.0036,-296.0904 806.0036,-296.0904 806.0036,-296.0904 806.0036,-206.3503 806.0036,-157.1453 806.0036,-100.3523 806.0036,-64.0548\" fill=\"none\" stroke=\"#000000\"/>\n",
       "<polygon fill=\"#000000\" points=\"809.5037,-63.9319 806.0036,-53.932 802.5037,-63.932 809.5037,-63.9319\" stroke=\"#000000\"/>\n",
       "</g>\n",
       "<!-- 1 -->\n",
       "<g class=\"node\" id=\"node17\">\n",
       "<title>1</title>\n",
       "<ellipse cx=\"912.0036\" cy=\"-385.8305\" fill=\"none\" rx=\"77.5641\" ry=\"26.7407\" stroke=\"#ff0000\"/>\n",
       "<text fill=\"#000000\" font-family=\"Times,serif\" font-size=\"14.00\" text-anchor=\"middle\" x=\"912.0036\" y=\"-389.6305\">RooConstVar</text>\n",
       "<text fill=\"#000000\" font-family=\"Times,serif\" font-size=\"14.00\" text-anchor=\"middle\" x=\"912.0036\" y=\"-374.6305\">1</text>\n",
       "</g>\n",
       "<!-- constraint_alpha&#45;&gt;1 -->\n",
       "<g class=\"edge\" id=\"edge17\">\n",
       "<title>constraint_alpha-&gt;1</title>\n",
       "<path d=\"M874.9053,-448.6456C879.9821,-440.0496 885.6802,-430.4015 891.0586,-421.2947\" fill=\"none\" stroke=\"#000000\"/>\n",
       "<polygon fill=\"#000000\" points=\"894.224,-422.8176 896.2957,-412.4273 888.1967,-419.2579 894.224,-422.8176\" stroke=\"#000000\"/>\n",
       "</g>\n",
       "<!-- global_alpha -->\n",
       "<g class=\"node\" id=\"node18\">\n",
       "<title>global_alpha</title>\n",
       "<ellipse cx=\"1083.0036\" cy=\"-385.8305\" fill=\"none\" rx=\"75.8212\" ry=\"26.7407\" stroke=\"#0000ff\"/>\n",
       "<text fill=\"#000000\" font-family=\"Times,serif\" font-size=\"14.00\" text-anchor=\"middle\" x=\"1083.0036\" y=\"-389.6305\">RooRealVar</text>\n",
       "<text fill=\"#000000\" font-family=\"Times,serif\" font-size=\"14.00\" text-anchor=\"middle\" x=\"1083.0036\" y=\"-374.6305\">global_alpha</text>\n",
       "</g>\n",
       "<!-- constraint_alpha&#45;&gt;global_alpha -->\n",
       "<g class=\"edge\" id=\"edge18\">\n",
       "<title>constraint_alpha-&gt;global_alpha</title>\n",
       "<path d=\"M914.3744,-453.3877C947.4143,-440.1511 989.3766,-423.3399 1023.1759,-409.799\" fill=\"none\" stroke=\"#000000\"/>\n",
       "<polygon fill=\"#000000\" points=\"1024.4972,-413.0402 1032.4783,-406.0722 1021.8939,-406.5422 1024.4972,-413.0402\" stroke=\"#000000\"/>\n",
       "</g>\n",
       "</g>\n",
       "</svg>"
      ],
      "text/plain": [
       "<IPython.core.display.SVG object>"
      ]
     },
     "execution_count": 7,
     "metadata": {},
     "output_type": "execute_result"
    }
   ],
   "source": [
    "model.graphVizTree(\"on_off_with_sys_graph.dot\")\n",
    "!dot -Tsvg on_off_with_sys_graph.dot > on_off_with_sys_graph.svg; rm on_off_with_sys_graph.dot\n",
    "s = SVG(\"on_off_with_sys_graph.svg\")\n",
    "s.data = re.sub(r'width=\"[0-9]+pt\"', r'width=\"90%\"', s.data)\n",
    "s.data = re.sub(r'height=\"[0-9]+pt\"', r'height=\"\"', s.data); s"
   ]
  },
  {
   "cell_type": "code",
   "execution_count": 8,
   "metadata": {
    "slideshow": {
     "slide_type": "subslide"
    }
   },
   "outputs": [
    {
     "data": {
      "text/plain": [
       "False"
      ]
     },
     "execution_count": 8,
     "metadata": {},
     "output_type": "execute_result"
    }
   ],
   "source": [
    "sbModel = ROOT.RooStats.ModelConfig('sbModel_sys', ws_onoff_sys)\n",
    "sbModel.SetPdf('model_constrained')\n",
    "sbModel.SetParametersOfInterest('s')\n",
    "sbModel.SetObservables('n_sr,n_cr')\n",
    "sbModel.SetNuisanceParameters('theta_alpha')\n",
    "ws_onoff_sys.var('s').setVal(30)\n",
    "sbModel.SetSnapshot(ROOT.RooArgSet(ws_onoff_sys.var('s')))\n",
    "getattr(ws_onoff_sys, 'import')(sbModel)\n",
    "\n",
    "bModel = sbModel.Clone(\"bModel_sys\")\n",
    "ws_onoff_sys.var('s').setVal(0)\n",
    "bModel.SetSnapshot(bModel.GetParametersOfInterest())\n",
    "getattr(ws_onoff_sys, 'import')(bModel)"
   ]
  },
  {
   "cell_type": "code",
   "execution_count": 9,
   "metadata": {
    "slideshow": {
     "slide_type": "subslide"
    }
   },
   "outputs": [
    {
     "name": "stdout",
     "output_type": "stream",
     "text": [
      "observed  N_SR = 79, N_CR = 528\n",
      "best fit\n",
      "SR     26.2     52.8\n",
      "CR             528.0\n"
     ]
    },
    {
     "data": {
      "text/plain": [
       "False"
      ]
     },
     "execution_count": 9,
     "metadata": {},
     "output_type": "execute_result"
    },
    {
     "name": "stdout",
     "output_type": "stream",
     "text": [
      "RooRealVar::s = 30  L(0 - 100) \n"
     ]
    }
   ],
   "source": [
    "sbModel.LoadSnapshot()\n",
    "ws_onoff_sys.var('s').Print()\n",
    "data = model.generate(bModel.GetObservables(), 1)\n",
    "data.SetName('obsData')\n",
    "print(\"observed  N_SR = %.f, N_CR = %.f\" % tuple([x.getVal() for x in iter_collection(data.get(0))]))\n",
    "model.fitTo(data)\n",
    "print(\"best fit\")\n",
    "print(\"SR {:>8.1f} {:>8.1f}\".format(ws_onoff_sys.var('s').getVal(), ws_onoff_sys.var('b').getVal()))\n",
    "print(\"CR          {:>8.1f}\".format(ws_onoff_sys.function('alpha_x_b_model_with_sys').getVal()))\n",
    "getattr(ws_onoff_sys, 'import')(data)\n",
    "ws_onoff_sys.writeToFile('onoff_sys.root')"
   ]
  },
  {
   "cell_type": "code",
   "execution_count": 10,
   "metadata": {
    "slideshow": {
     "slide_type": "subslide"
    }
   },
   "outputs": [],
   "source": [
    "# create profiled log-likelihood as a function of s\n",
    "ws_onoff_sys.var('theta_alpha').setConstant(False)\n",
    "prof = model.createNLL(data).createProfile(ROOT.RooArgSet(ws_onoff_sys.var('s')))\n",
    "# multiply by 2\n",
    "minus2LL = ROOT.RooFormulaVar(\"minus2LL\", \"2 * @0\", ROOT.RooArgList(prof))\n",
    "frame = ws_onoff.var('s').frame(0, 60)\n",
    "minus2LL.plotOn(frame)\n",
    "\n",
    "ws_onoff_sys.var('theta_alpha').setConstant(True)\n",
    "minus2LL.plotOn(frame, ROOT.RooFit.LineColor(ROOT.kRed))\n",
    "frame.SetYTitle(\"-2 log#Lambda(s)\")"
   ]
  },
  {
   "cell_type": "code",
   "execution_count": 11,
   "metadata": {
    "slideshow": {
     "slide_type": "subslide"
    }
   },
   "outputs": [
    {
     "data": {
      "image/png": "[encoded data removed]",
      "text/plain": [
       "<IPython.core.display.Image object>"
      ]
     },
     "metadata": {},
     "output_type": "display_data"
    }
   ],
   "source": [
    "canvas = ROOT.TCanvas()\n",
    "frame.Draw()\n",
    "canvas.Draw()"
   ]
  },
  {
   "cell_type": "markdown",
   "metadata": {},
   "source": [
    "## Excercize\n",
    "Explain why the profile likelihood curve is larger when adding systematics"
   ]
  },
  {
   "cell_type": "markdown",
   "metadata": {
    "slideshow": {
     "slide_type": "subslide"
    }
   },
   "source": [
    "### Compute the significance with systematics"
   ]
  },
  {
   "cell_type": "code",
   "execution_count": 6,
   "metadata": {
    "slideshow": {
     "slide_type": "-"
    }
   },
   "outputs": [
    {
     "name": "stdout",
     "output_type": "stream",
     "text": [
      "pvalue = 0.06329824777957065  significance = 1.527661935394446\n",
      "AsymptoticCalculator::EvaluateNLL  ........ using Minuit / Migrad with strategy  1 and tolerance 1\n",
      " **********\n",
      " **    1 **SET PRINT           0\n",
      " **********\n",
      " **********\n",
      " **    2 **SET NOGRAD\n",
      " **********\n",
      " PARAMETER DEFINITIONS:\n",
      "    NO.   NAME         VALUE      STEP SIZE      LIMITS\n",
      "     1 b            5.27871e+01  1.07196e+01    0.00000e+00  1.00000e+02\n",
      "     2 s            2.62162e+01  1.00000e+01    0.00000e+00  1.00000e+02\n",
      "     3 theta_alpha   1.25567e-03  9.93514e-01   -5.00000e+00  5.00000e+00\n",
      " **********\n",
      " **    3 **SET ERR         0.5\n",
      " **********\n",
      " **********\n",
      " **    4 **SET PRINT           0\n",
      " **********\n",
      " **********\n",
      " **    5 **SET STR           1\n",
      " **********\n",
      " **********\n",
      " **    6 **MIGRAD        1500           1\n",
      " **********\n",
      " MIGRAD MINIMIZATION HAS CONVERGED.\n",
      " MIGRAD WILL VERIFY CONVERGENCE AND ERROR MATRIX.\n",
      " FCN=7.15836 FROM MIGRAD    STATUS=CONVERGED      36 CALLS          37 TOTAL\n",
      "                     EDM=1.51144e-06    STRATEGY= 1      ERROR MATRIX ACCURATE \n",
      "  EXT PARAMETER                                   STEP         FIRST   \n",
      "  NO.   NAME      VALUE            ERROR          SIZE      DERIVATIVE \n",
      "   1  b            5.27868e+01   1.07122e+01   8.51390e-05  -4.60064e-03\n",
      "   2  s            2.62142e+01   1.37483e+01   3.86198e-04   5.20893e-04\n",
      "   3  theta_alpha   1.20206e-03   9.92833e-01   8.12820e-05   5.21797e-04\n",
      "                               ERR DEF= 0.5\n",
      "AsymptoticCalculator::EvaluateNLL -  value = 7.15836\tfit time : Real time 0:00:00, CP time 0.000\n",
      "MakeAsimov: Setting poi s to a constant value = 30\n",
      "MakeAsimov: doing a conditional fit for finding best nuisance values \n",
      " **********\n",
      " **    1 **SET PRINT           0\n",
      " **********\n",
      " **********\n",
      " **    2 **SET NOGRAD\n",
      " **********\n",
      " PARAMETER DEFINITIONS:\n",
      "    NO.   NAME         VALUE      STEP SIZE      LIMITS\n",
      "     1 b            5.27868e+01  1.07122e+01    0.00000e+00  1.00000e+02\n",
      "     2 theta_alpha   1.20206e-03  9.92833e-01   -5.00000e+00  5.00000e+00\n",
      " **********\n",
      " **    3 **SET ERR         0.5\n",
      " **********\n",
      " **********\n",
      " **    4 **SET PRINT           0\n",
      " **********\n",
      " **********\n",
      " **    5 **SET STR           1\n",
      " **********\n",
      " **********\n",
      " **    6 **MIGRAD        1000           1\n",
      " **********\n",
      " MIGRAD MINIMIZATION HAS CONVERGED.\n",
      " MIGRAD WILL VERIFY CONVERGENCE AND ERROR MATRIX.\n",
      " FCN=7.19678 FROM MIGRAD    STATUS=CONVERGED      36 CALLS          37 TOTAL\n",
      "                     EDM=1.1616e-05    STRATEGY= 1      ERROR MATRIX ACCURATE \n",
      "  EXT PARAMETER                                   STEP         FIRST   \n",
      "  NO.   NAME      VALUE            ERROR          SIZE      DERIVATIVE \n",
      "   1  b            5.06842e+01   6.58909e+00   8.20697e-05   3.67289e-02\n",
      "   2  theta_alpha   1.98655e-01   6.78239e-01   8.45724e-05   1.15267e-02\n",
      "                               ERR DEF= 0.5\n",
      "fit time Real time 0:00:00, CP time 0.010\n",
      "Generated Asimov data for observables RooArgSet:: = (n_sr,n_cr)\n",
      "AsymptoticCalculator::EvaluateNLL  ........ using Minuit / Migrad with strategy  1 and tolerance 1\n",
      " **********\n",
      " **    7 **SET PRINT           0\n",
      " **********\n",
      " **********\n",
      " **    8 **SET NOGRAD\n",
      " **********\n",
      " PARAMETER DEFINITIONS:\n",
      "    NO.   NAME         VALUE      STEP SIZE      LIMITS\n",
      "     1 b            5.06842e+01  6.58909e+00    0.00000e+00  1.00000e+02\n",
      "     2 theta_alpha   1.98655e-01  6.78239e-01   -5.00000e+00  5.00000e+00\n",
      " **********\n",
      " **    9 **SET ERR         0.5\n",
      " **********\n",
      " **********\n",
      " **   10 **SET PRINT           0\n",
      " **********\n",
      " **********\n",
      " **   11 **SET STR           1\n",
      " **********\n",
      " **********\n",
      " **   12 **MIGRAD        1000           1\n",
      " **********\n",
      " MIGRAD MINIMIZATION HAS CONVERGED.\n",
      " MIGRAD WILL VERIFY CONVERGENCE AND ERROR MATRIX.\n",
      " FCN=7.17845 FROM MIGRAD    STATUS=CONVERGED      31 CALLS          32 TOTAL\n",
      "                     EDM=2.81437e-05    STRATEGY= 1      ERROR MATRIX ACCURATE \n",
      "  EXT PARAMETER                                   STEP         FIRST   \n",
      "  NO.   NAME      VALUE            ERROR          SIZE      DERIVATIVE \n",
      "   1  b            5.15361e+01   6.72617e+00   8.20587e-05  -1.21292e-01\n",
      "   2  theta_alpha   1.06282e-01   6.70158e-01   8.44355e-05  -1.18291e-01\n",
      "                               ERR DEF= 0.5\n",
      "AsymptoticCalculator::EvaluateNLL -  value = 7.17845 for poi fixed at = 30\tfit time : Real time 0:00:00, CP time 0.000\n",
      "\n",
      "AsymptoticCalculator::EvaluateNLL  ........ using Minuit / Migrad with strategy  1 and tolerance 1\n",
      " **********\n",
      " **   13 **SET PRINT           0\n",
      " **********\n",
      " **********\n",
      " **   14 **SET NOGRAD\n",
      " **********\n",
      " PARAMETER DEFINITIONS:\n",
      "    NO.   NAME         VALUE      STEP SIZE      LIMITS\n",
      "     1 b            5.27868e+01  1.07122e+01    0.00000e+00  1.00000e+02\n",
      "     2 theta_alpha   1.20206e-03  9.92833e-01   -5.00000e+00  5.00000e+00\n",
      " **********\n",
      " **   15 **SET ERR         0.5\n",
      " **********\n",
      " **********\n",
      " **   16 **SET PRINT           0\n",
      " **********\n",
      " **********\n",
      " **   17 **SET STR           1\n",
      " **********\n",
      " **********\n",
      " **   18 **MIGRAD        1000           1\n",
      " **********\n",
      " MIGRAD MINIMIZATION HAS CONVERGED.\n",
      " MIGRAD WILL VERIFY CONVERGENCE AND ERROR MATRIX.\n",
      " FCN=8.32524 FROM MIGRAD    STATUS=CONVERGED      54 CALLS          55 TOTAL\n",
      "                     EDM=2.56179e-05    STRATEGY= 1      ERROR MATRIX ACCURATE \n",
      "  EXT PARAMETER                                   STEP         FIRST   \n",
      "  NO.   NAME      VALUE            ERROR          SIZE      DERIVATIVE \n",
      "   1  b            7.39272e+01   8.12632e+00   1.39671e-04  -7.11457e-03\n",
      "   2  theta_alpha  -1.39469e+00   4.21678e-01   6.62129e-05   4.32818e-02\n",
      "                               ERR DEF= 0.5\n",
      "AsymptoticCalculator::EvaluateNLL -  value = 8.32524 for poi fixed at = 0\tfit time : Real time 0:00:00, CP time 0.000\n",
      "AsymptoticCalculator::EvaluateNLL  ........ using Minuit / Migrad with strategy  1 and tolerance 1\n",
      " **********\n",
      " **   19 **SET PRINT           0\n",
      " **********\n",
      " **********\n",
      " **   20 **SET NOGRAD\n",
      " **********\n",
      " PARAMETER DEFINITIONS:\n",
      "    NO.   NAME         VALUE      STEP SIZE      LIMITS\n",
      "     1 b            7.39272e+01  8.12632e+00    0.00000e+00  1.00000e+02\n",
      "     2 theta_alpha  -1.39469e+00  4.21678e-01   -5.00000e+00  5.00000e+00\n",
      " **********\n",
      " **   21 **SET ERR         0.5\n",
      " **********\n",
      " **********\n",
      " **   22 **SET PRINT           0\n",
      " **********\n",
      " **********\n",
      " **   23 **SET STR           1\n",
      " **********\n",
      " **********\n",
      " **   24 **MIGRAD        1000           1\n",
      " **********\n",
      " MIGRAD MINIMIZATION HAS CONVERGED.\n",
      " MIGRAD WILL VERIFY CONVERGENCE AND ERROR MATRIX.\n",
      " FCN=8.4562 FROM MIGRAD    STATUS=CONVERGED      37 CALLS          38 TOTAL\n",
      "                     EDM=9.87506e-07    STRATEGY= 1      ERROR MATRIX ACCURATE \n",
      "  EXT PARAMETER                                   STEP         FIRST   \n",
      "  NO.   NAME      VALUE            ERROR          SIZE      DERIVATIVE \n",
      "   1  b            7.54833e+01   8.24830e+00   1.46763e-04  -1.37377e-02\n",
      "   2  theta_alpha  -1.47501e+00   4.10882e-01   6.57177e-05  -3.06639e-02\n",
      "                               ERR DEF= 0.5\n",
      "AsymptoticCalculator::EvaluateNLL -  value = 8.4562 for poi fixed at = 0\tfit time : Real time 0:00:00, CP time 0.000\n"
     ]
    }
   ],
   "source": [
    "f = ROOT.TFile.Open(\"onoff_sys.root\")\n",
    "ws_onoff_sys = f.Get(\"ws_onoff_sys\")\n",
    "ws_onoff_sys.var('theta_alpha').setConstant(False)\n",
    "data = ws_onoff_sys.data('obsData')\n",
    "sbModel = ws_onoff_sys.obj('sbModel_sys')\n",
    "bModel = ws_onoff_sys.obj('bModel_sys')\n",
    "hypoCalc = RooStats.AsymptoticCalculator(data, sbModel, bModel)\n",
    "hypoCalc.SetOneSidedDiscovery(True)\n",
    "htr = hypoCalc.GetHypoTest()\n",
    "print(\"pvalue =\", htr.NullPValue(), \" significance =\", htr.Significance())"
   ]
  },
  {
   "cell_type": "markdown",
   "metadata": {
    "slideshow": {
     "slide_type": "subslide"
    }
   },
   "source": [
    "### (Big) exercize\n",
    "\n",
    "Suppose you are looking for a signal in a SR. There are two main background on the signal region, due to two different physical processes, B1 and B2. You also have two CRs. The simulation predicts the following countings for an equivalent luminosity of 1/fb.\n",
    "\n",
    "\n",
    "|  ``   |  SR | CR1  | CR2  |\n",
    "|-----|-----|-----|-----|\n",
    "|  B1 |  10 | 100 | 20  |\n",
    "|  B2 |  20 |  30 | 500 |\n",
    "\n",
    "You don't trust the cross section of the background, so you assume a degree of freedom for every process. For example:\n",
    "\n",
    "$$n_{B1}^{SR,exp} = L\\times k_{B1}\\times n_{B1}^{SR,mc}$$\n",
    "$$n_{B1}^{CR1,exp} = L\\times k_{B1}\\times n_{B1}^{CR1,mc}$$\n",
    "\n",
    "where $L$ is the observed luminosity. Note that we are using the correlation between SR/CR1/CR2 of the simulation. Assume  L=10/fb +/- 5%. \n",
    "\n",
    "Suppose you analysis is blinded (you haven't look to the signal region) and you observe: CR1=1509, CR2=5017 events.\n",
    "\n",
    "How many events do you have to observe in the signal region to claim a discovery at 3 sigma (what is the acceptance region)? What is the impact of the systematics? Bonus: take into account the MC statistical uncertainty of 3% for every prediction.\n",
    "\n",
    "For this kind of analyses usually [HistFactory](https://twiki.cern.ch/twiki/bin/view/RooStats/HistFactory) is used to produce the workspace."
   ]
  },
  {
   "cell_type": "markdown",
   "metadata": {
    "slideshow": {
     "slide_type": "subslide"
    }
   },
   "source": [
    "Costraints can be gaussian:\n",
    "    \n",
    "   $$m\\to m(1 + \\sigma\\theta) \\qquad L \\to L \\times G(0, \\theta, 1)$$\n",
    "   \n",
    "or log-normal, for example for quantity that cannot be negative (e.g. efficiencies):\n",
    "\n",
    "   $$\\varepsilon\\to \\varepsilon\\exp(\\sigma\\theta)\\qquad L \\to L \\times G(0, \\theta, 1)$$\n",
    "   \n"
   ]
  },
  {
   "cell_type": "markdown",
   "metadata": {
    "slideshow": {
     "slide_type": "subslide"
    }
   },
   "source": [
    "### Exercize (big)\n",
    "\n",
    "Find a better constrain for log-normal variable. Suppose you have a random variable $Y$ that is log-normal distributed. Do a change of variable and write it as $Y = a\\exp(b \\Theta)$. How is distributed $\\Theta$? How can I constrain $\\Theta$? Suppose I know the median of $Y$ ($=Y_0$) and the standard deviation $\\sigma\\times Y_0$. What are the values of $a$ and $b$ if I want to conserve the median and the standard deviation? What is the value of $y$ if $\\theta=1$? Is it $Y_0 + \\sigma Y_0$? If not, give an approximation in terms of $O(\\sigma)$ for small $\\sigma$."
   ]
  },
  {
   "cell_type": "markdown",
   "metadata": {
    "slideshow": {
     "slide_type": "slide"
    }
   },
   "source": [
    "## Shape analysis\n",
    "\n",
    "In more complicate analysis you don't look just to the number of events in specific region but you look to the distribution of the events as a function of a continuos variable (e.g. invariant mass).\n",
    "\n",
    "$$L(\\alpha|\\{m_i\\}_{i=1}^n) = \\text{Pois}[n|N_s(\\alpha) + N_b(\\alpha)] \\prod_{i=1}^n\\left(\\frac{N_s(\\alpha) f_s[m_i|\\alpha] + N_b(\\alpha) f_b[m_i|\\alpha]}{N_s(\\alpha)+N_b(\\alpha)}\\right)\\times\\prod_j L(a_j|\\alpha_j)$$\n",
    "\n",
    "Where $\\alpha$ is a set of nuisance parameters, $\\{m_i\\}_{i=1}^n$ are the data, $N_s$ and $N_b$ the predicted number of signal and background events, $f_s$ and $f_b$ the pdf describing the continuos observable.\n",
    "\n",
    "The last term is the product of all the constraints of the nuisance parameters (not all the nuisance parameters need to be constrained by auxiliary measurements). The other term is the extended likelihood of the s+b model.\n",
    "\n",
    "If the signal is localised the background shape can be fully data-driven. This means that the nuisance parameters for the background shape are completely free."
   ]
  },
  {
   "cell_type": "markdown",
   "metadata": {
    "slideshow": {
     "slide_type": "subslide"
    }
   },
   "source": [
    "### Example model\n",
    "\n",
    "Suppose we observe the invariant mass distribution and we are searching for a narrow resonance in the spectrum. Our signal + background model is (after many careful studies) an exponential plus a gaussian. We also know the expected number of events for the signal under a particular theory. We want to be able to parametrize also similar model, where the number of signal events is multiplied by the \"signal strength\", $\\mu$. So we will write the number of signal events as $\\mu \\times n_{exp}$ where $n_{exp}$ are the one from the nominal theory. In this way we can also write the background-only model as the special case for $\\mu=0$. The number of background events are not well know by the theory, so we can estimate them from data, which means that $n_b$ is a nuisance parameters in the model.\n",
    "\n",
    "Consider systematic on the luminosity, scale and resolution of the signal (location and width)"
   ]
  },
  {
   "cell_type": "code",
   "execution_count": 7,
   "metadata": {
    "slideshow": {
     "slide_type": "subslide"
    }
   },
   "outputs": [],
   "source": [
    "ws = ROOT.RooWorkspace(\"ws_shape\")\n",
    "mH = ws.factory(\"mH[125, 90, 150]\")  # true mass of the resonance\n",
    "mass = ws.factory(\"mass[80, 160]\")    # observed invariant mass\n",
    "ws.factory('expr:kpeak(\"1 + @0 * @1\", {sigma_mH[0.01], theta_mH[0, -5, 5]})')\n",
    "peak = ws.factory('expr:peak(\"@0 * @1\", {mH, kpeak})')   # peak position for signal\n",
    "ws.factory('expr:kwidth(\"1 + @0 * @1\", {sigma_width[0.05], theta_width[0, -5, 5]})')\n",
    "width = ws.factory('expr:width(\"@0 * @1\", {nominal_width[5], kwidth})')\n",
    "signal = ws.factory(\"RooGaussian:signal(mass, peak, width)\")\n",
    "ws.factory(\"RooExponential:background(mass, tau[-0.03, -0.5, -0.001])\")\n",
    "ws.factory(\"nbkg[400, 0, 1000]\")\n",
    "ws.factory('expr:klumi(\"(1 + exp(@0 * @1))\", {sigma_lumi[0.02], theta_lumi[0, -5, 5]})')\n",
    "ws.factory('expr:efficiency(\"@0 * (1 + exp(@1 * @2))\", {nominal_efficiency[0.6], sigma_efficiency[0.05], theta_efficiency[0, -5, 5]})')\n",
    "ws.factory('expr:nsignal_theory(\"7 + @0 * 0.2\", {mH})')\n",
    "ws.factory('prod:nsignal(nsignal_theory, mu[1, -2, 5], efficiency, klumi)')\n",
    "ws.factory(\"SUM:phys_pdf(nsignal * signal, nbkg * background)\")\n",
    "ws.factory(\"RooGaussian:constrain_peak(global_peak[0, -5, 5], theta_mH, 1)\")\n",
    "ws.factory(\"RooGaussian:constrain_width(global_width[0, -5, 5], theta_width, 1)\")\n",
    "ws.factory(\"RooGaussian:constrain_lumi(global_lumi[0, -5, 5], theta_lumi, 1)\")\n",
    "ws.factory(\"RooGaussian:constrain_eff(global_efficiency[0, -5, 5], theta_efficiency, 1)\")\n",
    "ws.factory(\"PROD:constraints(constrain_peak, constrain_lumi, constrain_width, constrain_eff)\")\n",
    "model = ws.factory(\"PROD:model(phys_pdf, constraints)\")"
   ]
  },
  {
   "cell_type": "code",
   "execution_count": 8,
   "metadata": {
    "slideshow": {
     "slide_type": "subslide"
    }
   },
   "outputs": [
    {
     "data": {
      "image/svg+xml": [
       "<svg height=\"\" viewBox=\"0.00 0.00 2750.92 510.44\" width=\"90%\" xmlns=\"http://www.w3.org/2000/svg\" xmlns:xlink=\"http://www.w3.org/1999/xlink\">\n",
       "<g class=\"graph\" id=\"graph0\" transform=\"scale(1 1) rotate(0) translate(4 506.4407)\">\n",
       "<title>model</title>\n",
       "<polygon fill=\"#ffffff\" points=\"-4,4 -4,-506.4407 2746.9202,-506.4407 2746.9202,4 -4,4\" stroke=\"transparent\"/>\n",
       "<!-- model -->\n",
       "<g class=\"node\" id=\"node1\">\n",
       "<title>model</title>\n",
       "<ellipse cx=\"1020.0036\" cy=\"-475.5706\" fill=\"none\" rx=\"71.3357\" ry=\"26.7407\" stroke=\"#ff0000\"/>\n",
       "<text fill=\"#000000\" font-family=\"Times,serif\" font-size=\"14.00\" text-anchor=\"middle\" x=\"1020.0036\" y=\"-479.3706\">RooProdPdf</text>\n",
       "<text fill=\"#000000\" font-family=\"Times,serif\" font-size=\"14.00\" text-anchor=\"middle\" x=\"1020.0036\" y=\"-464.3706\">model</text>\n",
       "</g>\n",
       "<!-- phys_pdf -->\n",
       "<g class=\"node\" id=\"node2\">\n",
       "<title>phys_pdf</title>\n",
       "<ellipse cx=\"972.0036\" cy=\"-385.8305\" fill=\"none\" rx=\"67.7647\" ry=\"26.7407\" stroke=\"#ff0000\"/>\n",
       "<text fill=\"#000000\" font-family=\"Times,serif\" font-size=\"14.00\" text-anchor=\"middle\" x=\"972.0036\" y=\"-389.6305\">RooAddPdf</text>\n",
       "<text fill=\"#000000\" font-family=\"Times,serif\" font-size=\"14.00\" text-anchor=\"middle\" x=\"972.0036\" y=\"-374.6305\">phys_pdf</text>\n",
       "</g>\n",
       "<!-- model&#45;&gt;phys_pdf -->\n",
       "<g class=\"edge\" id=\"edge44\">\n",
       "<title>model-&gt;phys_pdf</title>\n",
       "<path d=\"M1005.8616,-449.131C1001.2157,-440.4452 995.9734,-430.6441 991.0261,-421.3949\" fill=\"none\" stroke=\"#000000\"/>\n",
       "<polygon fill=\"#000000\" points=\"994.0131,-419.5584 986.2103,-412.3913 987.8406,-422.8599 994.0131,-419.5584\" stroke=\"#000000\"/>\n",
       "</g>\n",
       "<!-- constraints -->\n",
       "<g class=\"node\" id=\"node28\">\n",
       "<title>constraints</title>\n",
       "<ellipse cx=\"2109.0036\" cy=\"-296.0904\" fill=\"none\" rx=\"71.3357\" ry=\"26.7407\" stroke=\"#ff0000\"/>\n",
       "<text fill=\"#000000\" font-family=\"Times,serif\" font-size=\"14.00\" text-anchor=\"middle\" x=\"2109.0036\" y=\"-299.8904\">RooProdPdf</text>\n",
       "<text fill=\"#000000\" font-family=\"Times,serif\" font-size=\"14.00\" text-anchor=\"middle\" x=\"2109.0036\" y=\"-284.8904\">constraints</text>\n",
       "</g>\n",
       "<!-- model&#45;&gt;constraints -->\n",
       "<g class=\"edge\" id=\"edge45\">\n",
       "<title>model-&gt;constraints</title>\n",
       "<path d=\"M1085.673,-464.7475C1276.5078,-433.2957 1830.281,-342.0272 2033.2714,-308.572\" fill=\"none\" stroke=\"#000000\"/>\n",
       "<polygon fill=\"#000000\" points=\"2033.9509,-312.0073 2043.2486,-306.9276 2032.8125,-305.1005 2033.9509,-312.0073\" stroke=\"#000000\"/>\n",
       "</g>\n",
       "<!-- signal -->\n",
       "<g class=\"node\" id=\"node3\">\n",
       "<title>signal</title>\n",
       "<ellipse cx=\"509.0036\" cy=\"-296.0904\" fill=\"none\" rx=\"77.1494\" ry=\"26.7407\" stroke=\"#ff0000\"/>\n",
       "<text fill=\"#000000\" font-family=\"Times,serif\" font-size=\"14.00\" text-anchor=\"middle\" x=\"509.0036\" y=\"-299.8904\">RooGaussian</text>\n",
       "<text fill=\"#000000\" font-family=\"Times,serif\" font-size=\"14.00\" text-anchor=\"middle\" x=\"509.0036\" y=\"-284.8904\">signal</text>\n",
       "</g>\n",
       "<!-- phys_pdf&#45;&gt;signal -->\n",
       "<g class=\"edge\" id=\"edge7\">\n",
       "<title>phys_pdf-&gt;signal</title>\n",
       "<path d=\"M910.9983,-374.0063C827.5675,-357.8355 677.8417,-328.8151 586.5476,-311.1202\" fill=\"none\" stroke=\"#000000\"/>\n",
       "<polygon fill=\"#000000\" points=\"587.0167,-307.6461 576.5334,-309.1792 585.6847,-314.5182 587.0167,-307.6461\" stroke=\"#000000\"/>\n",
       "</g>\n",
       "<!-- nsignal -->\n",
       "<g class=\"node\" id=\"node15\">\n",
       "<title>nsignal</title>\n",
       "<ellipse cx=\"972.0036\" cy=\"-296.0904\" fill=\"none\" rx=\"71.3357\" ry=\"26.7407\" stroke=\"#ff0000\"/>\n",
       "<text fill=\"#000000\" font-family=\"Times,serif\" font-size=\"14.00\" text-anchor=\"middle\" x=\"972.0036\" y=\"-299.8904\">RooProduct</text>\n",
       "<text fill=\"#000000\" font-family=\"Times,serif\" font-size=\"14.00\" text-anchor=\"middle\" x=\"972.0036\" y=\"-284.8904\">nsignal</text>\n",
       "</g>\n",
       "<!-- phys_pdf&#45;&gt;nsignal -->\n",
       "<g class=\"edge\" id=\"edge9\">\n",
       "<title>phys_pdf-&gt;nsignal</title>\n",
       "<path d=\"M972.0036,-358.9055C972.0036,-350.8306 972.0036,-341.8273 972.0036,-333.2164\" fill=\"none\" stroke=\"#000000\"/>\n",
       "<polygon fill=\"#000000\" points=\"975.5037,-332.9964 972.0036,-322.9964 968.5037,-332.9964 975.5037,-332.9964\" stroke=\"#000000\"/>\n",
       "</g>\n",
       "<!-- background -->\n",
       "<g class=\"node\" id=\"node25\">\n",
       "<title>background</title>\n",
       "<ellipse cx=\"228.0036\" cy=\"-296.0904\" fill=\"none\" rx=\"91.4341\" ry=\"26.7407\" stroke=\"#ff0000\"/>\n",
       "<text fill=\"#000000\" font-family=\"Times,serif\" font-size=\"14.00\" text-anchor=\"middle\" x=\"228.0036\" y=\"-299.8904\">RooExponential</text>\n",
       "<text fill=\"#000000\" font-family=\"Times,serif\" font-size=\"14.00\" text-anchor=\"middle\" x=\"228.0036\" y=\"-284.8904\">background</text>\n",
       "</g>\n",
       "<!-- phys_pdf&#45;&gt;background -->\n",
       "<g class=\"edge\" id=\"edge8\">\n",
       "<title>phys_pdf-&gt;background</title>\n",
       "<path d=\"M906.4513,-378.8148C803.4435,-367.6796 597.4231,-344.9617 423.0036,-322.9605 389.5114,-318.7358 352.8323,-313.7707 320.4124,-309.2656\" fill=\"none\" stroke=\"#000000\"/>\n",
       "<polygon fill=\"#000000\" points=\"320.8835,-305.7975 310.4961,-307.8836 319.9172,-312.7305 320.8835,-305.7975\" stroke=\"#000000\"/>\n",
       "</g>\n",
       "<!-- nbkg -->\n",
       "<g class=\"node\" id=\"node27\">\n",
       "<title>nbkg</title>\n",
       "<ellipse cx=\"1131.0036\" cy=\"-296.0904\" fill=\"none\" rx=\"70.0071\" ry=\"26.7407\" stroke=\"#0000ff\"/>\n",
       "<text fill=\"#000000\" font-family=\"Times,serif\" font-size=\"14.00\" text-anchor=\"middle\" x=\"1131.0036\" y=\"-299.8904\">RooRealVar</text>\n",
       "<text fill=\"#000000\" font-family=\"Times,serif\" font-size=\"14.00\" text-anchor=\"middle\" x=\"1131.0036\" y=\"-284.8904\">nbkg</text>\n",
       "</g>\n",
       "<!-- phys_pdf&#45;&gt;nbkg -->\n",
       "<g class=\"edge\" id=\"edge6\">\n",
       "<title>phys_pdf-&gt;nbkg</title>\n",
       "<path d=\"M1011.307,-363.6476C1032.9022,-351.4592 1059.8674,-336.2399 1082.7339,-323.3339\" fill=\"none\" stroke=\"#000000\"/>\n",
       "<polygon fill=\"#000000\" points=\"1084.6129,-326.2925 1091.6013,-318.3292 1081.1723,-320.1964 1084.6129,-326.2925\" stroke=\"#000000\"/>\n",
       "</g>\n",
       "<!-- mass -->\n",
       "<g class=\"node\" id=\"node4\">\n",
       "<title>mass</title>\n",
       "<ellipse cx=\"228.0036\" cy=\"-206.3503\" fill=\"none\" rx=\"70.0071\" ry=\"26.7407\" stroke=\"#0000ff\"/>\n",
       "<text fill=\"#000000\" font-family=\"Times,serif\" font-size=\"14.00\" text-anchor=\"middle\" x=\"228.0036\" y=\"-210.1503\">RooRealVar</text>\n",
       "<text fill=\"#000000\" font-family=\"Times,serif\" font-size=\"14.00\" text-anchor=\"middle\" x=\"228.0036\" y=\"-195.1503\">mass</text>\n",
       "</g>\n",
       "<!-- signal&#45;&gt;mass -->\n",
       "<g class=\"edge\" id=\"edge20\">\n",
       "<title>signal-&gt;mass</title>\n",
       "<path d=\"M450.5345,-278.3344C410.1322,-265.9569 355.1986,-248.9137 307.0036,-233.2203 301.4441,-231.4101 295.674,-229.5027 289.8979,-227.5739\" fill=\"none\" stroke=\"#000000\"/>\n",
       "<polygon fill=\"#000000\" points=\"290.8016,-224.1854 280.2077,-224.321 288.5739,-230.8215 290.8016,-224.1854\" stroke=\"#000000\"/>\n",
       "</g>\n",
       "<!-- peak -->\n",
       "<g class=\"node\" id=\"node5\">\n",
       "<title>peak</title>\n",
       "<ellipse cx=\"604.0036\" cy=\"-206.3503\" fill=\"none\" rx=\"89.6056\" ry=\"26.7407\" stroke=\"#ff0000\"/>\n",
       "<text fill=\"#000000\" font-family=\"Times,serif\" font-size=\"14.00\" text-anchor=\"middle\" x=\"604.0036\" y=\"-210.1503\">RooFormulaVar</text>\n",
       "<text fill=\"#000000\" font-family=\"Times,serif\" font-size=\"14.00\" text-anchor=\"middle\" x=\"604.0036\" y=\"-195.1503\">peak</text>\n",
       "</g>\n",
       "<!-- signal&#45;&gt;peak -->\n",
       "<g class=\"edge\" id=\"edge21\">\n",
       "<title>signal-&gt;peak</title>\n",
       "<path d=\"M535.7192,-270.854C546.1533,-260.9976 558.2541,-249.5668 569.345,-239.0899\" fill=\"none\" stroke=\"#000000\"/>\n",
       "<polygon fill=\"#000000\" points=\"571.963,-241.4315 576.8291,-232.0202 567.1562,-236.3429 571.963,-241.4315\" stroke=\"#000000\"/>\n",
       "</g>\n",
       "<!-- width -->\n",
       "<g class=\"node\" id=\"node10\">\n",
       "<title>width</title>\n",
       "<ellipse cx=\"406.0036\" cy=\"-206.3503\" fill=\"none\" rx=\"89.6056\" ry=\"26.7407\" stroke=\"#ff0000\"/>\n",
       "<text fill=\"#000000\" font-family=\"Times,serif\" font-size=\"14.00\" text-anchor=\"middle\" x=\"406.0036\" y=\"-210.1503\">RooFormulaVar</text>\n",
       "<text fill=\"#000000\" font-family=\"Times,serif\" font-size=\"14.00\" text-anchor=\"middle\" x=\"406.0036\" y=\"-195.1503\">width</text>\n",
       "</g>\n",
       "<!-- signal&#45;&gt;width -->\n",
       "<g class=\"edge\" id=\"edge19\">\n",
       "<title>signal-&gt;width</title>\n",
       "<path d=\"M480.3123,-271.0928C468.7886,-261.0526 455.3556,-249.3489 443.1046,-238.6751\" fill=\"none\" stroke=\"#000000\"/>\n",
       "<polygon fill=\"#000000\" points=\"445.0955,-235.7676 435.2566,-231.8374 440.4972,-241.0454 445.0955,-235.7676\" stroke=\"#000000\"/>\n",
       "</g>\n",
       "<!-- mH -->\n",
       "<g class=\"node\" id=\"node6\">\n",
       "<title>mH</title>\n",
       "<ellipse cx=\"775.0036\" cy=\"-116.6102\" fill=\"none\" rx=\"70.0071\" ry=\"26.7407\" stroke=\"#0000ff\"/>\n",
       "<text fill=\"#000000\" font-family=\"Times,serif\" font-size=\"14.00\" text-anchor=\"middle\" x=\"775.0036\" y=\"-120.4102\">RooRealVar</text>\n",
       "<text fill=\"#000000\" font-family=\"Times,serif\" font-size=\"14.00\" text-anchor=\"middle\" x=\"775.0036\" y=\"-105.4102\">mH</text>\n",
       "</g>\n",
       "<!-- peak&#45;&gt;mH -->\n",
       "<g class=\"edge\" id=\"edge18\">\n",
       "<title>peak-&gt;mH</title>\n",
       "<path d=\"M648.4854,-183.0064C671.7386,-170.8032 700.2966,-155.8161 724.3923,-143.1708\" fill=\"none\" stroke=\"#000000\"/>\n",
       "<polygon fill=\"#000000\" points=\"726.1601,-146.1958 733.3884,-138.4497 722.9072,-139.9975 726.1601,-146.1958\" stroke=\"#000000\"/>\n",
       "</g>\n",
       "<!-- kpeak -->\n",
       "<g class=\"node\" id=\"node7\">\n",
       "<title>kpeak</title>\n",
       "<ellipse cx=\"597.0036\" cy=\"-116.6102\" fill=\"none\" rx=\"89.6056\" ry=\"26.7407\" stroke=\"#ff0000\"/>\n",
       "<text fill=\"#000000\" font-family=\"Times,serif\" font-size=\"14.00\" text-anchor=\"middle\" x=\"597.0036\" y=\"-120.4102\">RooFormulaVar</text>\n",
       "<text fill=\"#000000\" font-family=\"Times,serif\" font-size=\"14.00\" text-anchor=\"middle\" x=\"597.0036\" y=\"-105.4102\">kpeak</text>\n",
       "</g>\n",
       "<!-- peak&#45;&gt;kpeak -->\n",
       "<g class=\"edge\" id=\"edge17\">\n",
       "<title>peak-&gt;kpeak</title>\n",
       "<path d=\"M601.9033,-179.4253C601.2735,-171.3504 600.5712,-162.3471 599.8995,-153.7362\" fill=\"none\" stroke=\"#000000\"/>\n",
       "<polygon fill=\"#000000\" points=\"603.3695,-153.2137 599.1023,-143.5162 596.3907,-153.7581 603.3695,-153.2137\" stroke=\"#000000\"/>\n",
       "</g>\n",
       "<!-- sigma_mH -->\n",
       "<g class=\"node\" id=\"node8\">\n",
       "<title>sigma_mH</title>\n",
       "<ellipse cx=\"597.0036\" cy=\"-26.8701\" fill=\"none\" rx=\"70.0071\" ry=\"26.7407\" stroke=\"#0000ff\"/>\n",
       "<text fill=\"#000000\" font-family=\"Times,serif\" font-size=\"14.00\" text-anchor=\"middle\" x=\"597.0036\" y=\"-30.6701\">RooRealVar</text>\n",
       "<text fill=\"#000000\" font-family=\"Times,serif\" font-size=\"14.00\" text-anchor=\"middle\" x=\"597.0036\" y=\"-15.6701\">sigma_mH</text>\n",
       "</g>\n",
       "<!-- kpeak&#45;&gt;sigma_mH -->\n",
       "<g class=\"edge\" id=\"edge11\">\n",
       "<title>kpeak-&gt;sigma_mH</title>\n",
       "<path d=\"M597.0036,-89.6852C597.0036,-81.6102 597.0036,-72.607 597.0036,-63.9961\" fill=\"none\" stroke=\"#000000\"/>\n",
       "<polygon fill=\"#000000\" points=\"600.5037,-63.776 597.0036,-53.776 593.5037,-63.7761 600.5037,-63.776\" stroke=\"#000000\"/>\n",
       "</g>\n",
       "<!-- theta_mH -->\n",
       "<g class=\"node\" id=\"node9\">\n",
       "<title>theta_mH</title>\n",
       "<ellipse cx=\"2240.0036\" cy=\"-26.8701\" fill=\"none\" rx=\"70.0071\" ry=\"26.7407\" stroke=\"#0000ff\"/>\n",
       "<text fill=\"#000000\" font-family=\"Times,serif\" font-size=\"14.00\" text-anchor=\"middle\" x=\"2240.0036\" y=\"-30.6701\">RooRealVar</text>\n",
       "<text fill=\"#000000\" font-family=\"Times,serif\" font-size=\"14.00\" text-anchor=\"middle\" x=\"2240.0036\" y=\"-15.6701\">theta_mH</text>\n",
       "</g>\n",
       "<!-- kpeak&#45;&gt;theta_mH -->\n",
       "<g class=\"edge\" id=\"edge10\">\n",
       "<title>kpeak-&gt;theta_mH</title>\n",
       "<path d=\"M659.6554,-97.3078C671.62,-94.2778 684.1197,-91.5529 696.0036,-89.7401 1115.4534,-25.7569 1226.0691,-71.3921 1650.0036,-53.7401 1832.5528,-46.139 2046.819,-36.1014 2160.2084,-30.7017\" fill=\"none\" stroke=\"#000000\"/>\n",
       "<polygon fill=\"#000000\" points=\"2160.707,-34.182 2170.529,-30.2097 2160.3737,-27.1899 2160.707,-34.182\" stroke=\"#000000\"/>\n",
       "</g>\n",
       "<!-- nominal_width -->\n",
       "<g class=\"node\" id=\"node11\">\n",
       "<title>nominal_width</title>\n",
       "<ellipse cx=\"403.0036\" cy=\"-116.6102\" fill=\"none\" rx=\"86.0347\" ry=\"26.7407\" stroke=\"#0000ff\"/>\n",
       "<text fill=\"#000000\" font-family=\"Times,serif\" font-size=\"14.00\" text-anchor=\"middle\" x=\"403.0036\" y=\"-120.4102\">RooRealVar</text>\n",
       "<text fill=\"#000000\" font-family=\"Times,serif\" font-size=\"14.00\" text-anchor=\"middle\" x=\"403.0036\" y=\"-105.4102\">nominal_width</text>\n",
       "</g>\n",
       "<!-- width&#45;&gt;nominal_width -->\n",
       "<g class=\"edge\" id=\"edge2\">\n",
       "<title>width-&gt;nominal_width</title>\n",
       "<path d=\"M405.1035,-179.4253C404.8335,-171.3504 404.5326,-162.3471 404.2447,-153.7362\" fill=\"none\" stroke=\"#000000\"/>\n",
       "<polygon fill=\"#000000\" points=\"407.7353,-153.3936 403.903,-143.5162 400.7392,-153.6276 407.7353,-153.3936\" stroke=\"#000000\"/>\n",
       "</g>\n",
       "<!-- kwidth -->\n",
       "<g class=\"node\" id=\"node12\">\n",
       "<title>kwidth</title>\n",
       "<ellipse cx=\"209.0036\" cy=\"-116.6102\" fill=\"none\" rx=\"89.6056\" ry=\"26.7407\" stroke=\"#ff0000\"/>\n",
       "<text fill=\"#000000\" font-family=\"Times,serif\" font-size=\"14.00\" text-anchor=\"middle\" x=\"209.0036\" y=\"-120.4102\">RooFormulaVar</text>\n",
       "<text fill=\"#000000\" font-family=\"Times,serif\" font-size=\"14.00\" text-anchor=\"middle\" x=\"209.0036\" y=\"-105.4102\">kwidth</text>\n",
       "</g>\n",
       "<!-- width&#45;&gt;kwidth -->\n",
       "<g class=\"edge\" id=\"edge3\">\n",
       "<title>width-&gt;kwidth</title>\n",
       "<path d=\"M356.5464,-183.8209C329.6154,-171.5529 296.1175,-156.2935 267.8499,-143.4167\" fill=\"none\" stroke=\"#000000\"/>\n",
       "<polygon fill=\"#000000\" points=\"269.0323,-140.1093 258.4811,-139.1488 266.1304,-146.4795 269.0323,-140.1093\" stroke=\"#000000\"/>\n",
       "</g>\n",
       "<!-- sigma_width -->\n",
       "<g class=\"node\" id=\"node13\">\n",
       "<title>sigma_width</title>\n",
       "<ellipse cx=\"209.0036\" cy=\"-26.8701\" fill=\"none\" rx=\"75.8212\" ry=\"26.7407\" stroke=\"#0000ff\"/>\n",
       "<text fill=\"#000000\" font-family=\"Times,serif\" font-size=\"14.00\" text-anchor=\"middle\" x=\"209.0036\" y=\"-30.6701\">RooRealVar</text>\n",
       "<text fill=\"#000000\" font-family=\"Times,serif\" font-size=\"14.00\" text-anchor=\"middle\" x=\"209.0036\" y=\"-15.6701\">sigma_width</text>\n",
       "</g>\n",
       "<!-- kwidth&#45;&gt;sigma_width -->\n",
       "<g class=\"edge\" id=\"edge13\">\n",
       "<title>kwidth-&gt;sigma_width</title>\n",
       "<path d=\"M209.0036,-89.6852C209.0036,-81.6102 209.0036,-72.607 209.0036,-63.9961\" fill=\"none\" stroke=\"#000000\"/>\n",
       "<polygon fill=\"#000000\" points=\"212.5037,-63.776 209.0036,-53.776 205.5037,-63.7761 212.5037,-63.776\" stroke=\"#000000\"/>\n",
       "</g>\n",
       "<!-- theta_width -->\n",
       "<g class=\"node\" id=\"node14\">\n",
       "<title>theta_width</title>\n",
       "<ellipse cx=\"1569.0036\" cy=\"-26.8701\" fill=\"none\" rx=\"72.25\" ry=\"26.7407\" stroke=\"#0000ff\"/>\n",
       "<text fill=\"#000000\" font-family=\"Times,serif\" font-size=\"14.00\" text-anchor=\"middle\" x=\"1569.0036\" y=\"-30.6701\">RooRealVar</text>\n",
       "<text fill=\"#000000\" font-family=\"Times,serif\" font-size=\"14.00\" text-anchor=\"middle\" x=\"1569.0036\" y=\"-15.6701\">theta_width</text>\n",
       "</g>\n",
       "<!-- kwidth&#45;&gt;theta_width -->\n",
       "<g class=\"edge\" id=\"edge12\">\n",
       "<title>kwidth-&gt;theta_width</title>\n",
       "<path d=\"M271.9395,-97.3571C283.8216,-94.3428 296.2189,-91.6108 308.0036,-89.7401 536.2292,-53.5124 1243.9103,-34.3126 1486.4529,-28.6666\" fill=\"none\" stroke=\"#000000\"/>\n",
       "<polygon fill=\"#000000\" points=\"1486.6971,-32.162 1496.6135,-28.4317 1486.5353,-25.1639 1486.6971,-32.162\" stroke=\"#000000\"/>\n",
       "</g>\n",
       "<!-- nsignal_theory -->\n",
       "<g class=\"node\" id=\"node16\">\n",
       "<title>nsignal_theory</title>\n",
       "<ellipse cx=\"972.0036\" cy=\"-206.3503\" fill=\"none\" rx=\"89.6056\" ry=\"26.7407\" stroke=\"#ff0000\"/>\n",
       "<text fill=\"#000000\" font-family=\"Times,serif\" font-size=\"14.00\" text-anchor=\"middle\" x=\"972.0036\" y=\"-210.1503\">RooFormulaVar</text>\n",
       "<text fill=\"#000000\" font-family=\"Times,serif\" font-size=\"14.00\" text-anchor=\"middle\" x=\"972.0036\" y=\"-195.1503\">nsignal_theory</text>\n",
       "</g>\n",
       "<!-- nsignal&#45;&gt;nsignal_theory -->\n",
       "<g class=\"edge\" id=\"edge27\">\n",
       "<title>nsignal-&gt;nsignal_theory</title>\n",
       "<path d=\"M972.0036,-269.1654C972.0036,-261.0905 972.0036,-252.0872 972.0036,-243.4763\" fill=\"none\" stroke=\"#000000\"/>\n",
       "<polygon fill=\"#000000\" points=\"975.5037,-243.2562 972.0036,-233.2563 968.5037,-243.2563 975.5037,-243.2562\" stroke=\"#000000\"/>\n",
       "</g>\n",
       "<!-- mu -->\n",
       "<g class=\"node\" id=\"node17\">\n",
       "<title>mu</title>\n",
       "<ellipse cx=\"794.0036\" cy=\"-206.3503\" fill=\"none\" rx=\"70.0071\" ry=\"26.7407\" stroke=\"#0000ff\"/>\n",
       "<text fill=\"#000000\" font-family=\"Times,serif\" font-size=\"14.00\" text-anchor=\"middle\" x=\"794.0036\" y=\"-210.1503\">RooRealVar</text>\n",
       "<text fill=\"#000000\" font-family=\"Times,serif\" font-size=\"14.00\" text-anchor=\"middle\" x=\"794.0036\" y=\"-195.1503\">mu</text>\n",
       "</g>\n",
       "<!-- nsignal&#45;&gt;mu -->\n",
       "<g class=\"edge\" id=\"edge30\">\n",
       "<title>nsignal-&gt;mu</title>\n",
       "<path d=\"M928.9147,-274.3668C903.8804,-261.7455 872.1721,-245.7596 845.7868,-232.4572\" fill=\"none\" stroke=\"#000000\"/>\n",
       "<polygon fill=\"#000000\" points=\"847.2006,-229.2504 836.6956,-227.8738 844.0493,-235.501 847.2006,-229.2504\" stroke=\"#000000\"/>\n",
       "</g>\n",
       "<!-- efficiency -->\n",
       "<g class=\"node\" id=\"node18\">\n",
       "<title>efficiency</title>\n",
       "<ellipse cx=\"1176.0036\" cy=\"-206.3503\" fill=\"none\" rx=\"89.6056\" ry=\"26.7407\" stroke=\"#ff0000\"/>\n",
       "<text fill=\"#000000\" font-family=\"Times,serif\" font-size=\"14.00\" text-anchor=\"middle\" x=\"1176.0036\" y=\"-210.1503\">RooFormulaVar</text>\n",
       "<text fill=\"#000000\" font-family=\"Times,serif\" font-size=\"14.00\" text-anchor=\"middle\" x=\"1176.0036\" y=\"-195.1503\">efficiency</text>\n",
       "</g>\n",
       "<!-- nsignal&#45;&gt;efficiency -->\n",
       "<g class=\"edge\" id=\"edge29\">\n",
       "<title>nsignal-&gt;efficiency</title>\n",
       "<path d=\"M1018.5496,-275.6147C1047.4302,-262.9101 1084.8325,-246.4567 1115.9361,-232.7741\" fill=\"none\" stroke=\"#000000\"/>\n",
       "<polygon fill=\"#000000\" points=\"1117.6262,-235.8544 1125.3703,-228.624 1114.8075,-229.447 1117.6262,-235.8544\" stroke=\"#000000\"/>\n",
       "</g>\n",
       "<!-- klumi -->\n",
       "<g class=\"node\" id=\"node22\">\n",
       "<title>klumi</title>\n",
       "<ellipse cx=\"1377.0036\" cy=\"-206.3503\" fill=\"none\" rx=\"89.6056\" ry=\"26.7407\" stroke=\"#ff0000\"/>\n",
       "<text fill=\"#000000\" font-family=\"Times,serif\" font-size=\"14.00\" text-anchor=\"middle\" x=\"1377.0036\" y=\"-210.1503\">RooFormulaVar</text>\n",
       "<text fill=\"#000000\" font-family=\"Times,serif\" font-size=\"14.00\" text-anchor=\"middle\" x=\"1377.0036\" y=\"-195.1503\">klumi</text>\n",
       "</g>\n",
       "<!-- nsignal&#45;&gt;klumi -->\n",
       "<g class=\"edge\" id=\"edge28\">\n",
       "<title>nsignal-&gt;klumi</title>\n",
       "<path d=\"M1023.71,-277.3494C1033.0497,-274.3588 1042.7578,-271.503 1052.0036,-269.2203 1149.4713,-245.1569 1176.7902,-254.0324 1275.0036,-233.2203 1283.5291,-231.4137 1292.4098,-229.3502 1301.219,-227.1878\" fill=\"none\" stroke=\"#000000\"/>\n",
       "<polygon fill=\"#000000\" points=\"1302.2603,-230.5352 1311.1118,-224.7127 1300.5613,-223.7445 1302.2603,-230.5352\" stroke=\"#000000\"/>\n",
       "</g>\n",
       "<!-- nsignal_theory&#45;&gt;mH -->\n",
       "<g class=\"edge\" id=\"edge1\">\n",
       "<title>nsignal_theory-&gt;mH</title>\n",
       "<path d=\"M922.5464,-183.8209C894.2642,-170.9374 858.7396,-154.7547 829.636,-141.4971\" fill=\"none\" stroke=\"#000000\"/>\n",
       "<polygon fill=\"#000000\" points=\"830.981,-138.2638 820.4298,-137.3033 828.0791,-144.634 830.981,-138.2638\" stroke=\"#000000\"/>\n",
       "</g>\n",
       "<!-- nominal_efficiency -->\n",
       "<g class=\"node\" id=\"node19\">\n",
       "<title>nominal_efficiency</title>\n",
       "<ellipse cx=\"970.0036\" cy=\"-116.6102\" fill=\"none\" rx=\"106.5467\" ry=\"26.7407\" stroke=\"#0000ff\"/>\n",
       "<text fill=\"#000000\" font-family=\"Times,serif\" font-size=\"14.00\" text-anchor=\"middle\" x=\"970.0036\" y=\"-120.4102\">RooRealVar</text>\n",
       "<text fill=\"#000000\" font-family=\"Times,serif\" font-size=\"14.00\" text-anchor=\"middle\" x=\"970.0036\" y=\"-105.4102\">nominal_efficiency</text>\n",
       "</g>\n",
       "<!-- efficiency&#45;&gt;nominal_efficiency -->\n",
       "<g class=\"edge\" id=\"edge15\">\n",
       "<title>efficiency-&gt;nominal_efficiency</title>\n",
       "<path d=\"M1125.0822,-184.1673C1097.2371,-172.0371 1062.5009,-156.9049 1032.9663,-144.0387\" fill=\"none\" stroke=\"#000000\"/>\n",
       "<polygon fill=\"#000000\" points=\"1034.1409,-140.7328 1023.5752,-139.9477 1031.3452,-147.1503 1034.1409,-140.7328\" stroke=\"#000000\"/>\n",
       "</g>\n",
       "<!-- sigma_efficiency -->\n",
       "<g class=\"node\" id=\"node20\">\n",
       "<title>sigma_efficiency</title>\n",
       "<ellipse cx=\"1192.0036\" cy=\"-116.6102\" fill=\"none\" rx=\"96.7474\" ry=\"26.7407\" stroke=\"#0000ff\"/>\n",
       "<text fill=\"#000000\" font-family=\"Times,serif\" font-size=\"14.00\" text-anchor=\"middle\" x=\"1192.0036\" y=\"-120.4102\">RooRealVar</text>\n",
       "<text fill=\"#000000\" font-family=\"Times,serif\" font-size=\"14.00\" text-anchor=\"middle\" x=\"1192.0036\" y=\"-105.4102\">sigma_efficiency</text>\n",
       "</g>\n",
       "<!-- efficiency&#45;&gt;sigma_efficiency -->\n",
       "<g class=\"edge\" id=\"edge16\">\n",
       "<title>efficiency-&gt;sigma_efficiency</title>\n",
       "<path d=\"M1180.8041,-179.4253C1182.2596,-171.2616 1183.8843,-162.1491 1185.4349,-153.4525\" fill=\"none\" stroke=\"#000000\"/>\n",
       "<polygon fill=\"#000000\" points=\"1188.8968,-153.9753 1187.2064,-143.5162 1182.0054,-152.7466 1188.8968,-153.9753\" stroke=\"#000000\"/>\n",
       "</g>\n",
       "<!-- theta_efficiency -->\n",
       "<g class=\"node\" id=\"node21\">\n",
       "<title>theta_efficiency</title>\n",
       "<ellipse cx=\"1558.0036\" cy=\"-116.6102\" fill=\"none\" rx=\"92.7622\" ry=\"26.7407\" stroke=\"#0000ff\"/>\n",
       "<text fill=\"#000000\" font-family=\"Times,serif\" font-size=\"14.00\" text-anchor=\"middle\" x=\"1558.0036\" y=\"-120.4102\">RooRealVar</text>\n",
       "<text fill=\"#000000\" font-family=\"Times,serif\" font-size=\"14.00\" text-anchor=\"middle\" x=\"1558.0036\" y=\"-105.4102\">theta_efficiency</text>\n",
       "</g>\n",
       "<!-- efficiency&#45;&gt;theta_efficiency -->\n",
       "<g class=\"edge\" id=\"edge14\">\n",
       "<title>efficiency-&gt;theta_efficiency</title>\n",
       "<path d=\"M1242.5288,-188.2306C1254.317,-185.1899 1266.4992,-182.1565 1278.0036,-179.4802 1356.6173,-161.1921 1377.3899,-161.7684 1456.0036,-143.4802 1464.0159,-141.6163 1472.3571,-139.5791 1480.665,-137.4869\" fill=\"none\" stroke=\"#000000\"/>\n",
       "<polygon fill=\"#000000\" points=\"1481.5538,-140.8724 1490.3807,-135.0127 1479.8262,-134.0889 1481.5538,-140.8724\" stroke=\"#000000\"/>\n",
       "</g>\n",
       "<!-- sigma_lumi -->\n",
       "<g class=\"node\" id=\"node23\">\n",
       "<title>sigma_lumi</title>\n",
       "<ellipse cx=\"1377.0036\" cy=\"-116.6102\" fill=\"none\" rx=\"70.0071\" ry=\"26.7407\" stroke=\"#0000ff\"/>\n",
       "<text fill=\"#000000\" font-family=\"Times,serif\" font-size=\"14.00\" text-anchor=\"middle\" x=\"1377.0036\" y=\"-120.4102\">RooRealVar</text>\n",
       "<text fill=\"#000000\" font-family=\"Times,serif\" font-size=\"14.00\" text-anchor=\"middle\" x=\"1377.0036\" y=\"-105.4102\">sigma_lumi</text>\n",
       "</g>\n",
       "<!-- klumi&#45;&gt;sigma_lumi -->\n",
       "<g class=\"edge\" id=\"edge4\">\n",
       "<title>klumi-&gt;sigma_lumi</title>\n",
       "<path d=\"M1377.0036,-179.4253C1377.0036,-171.3504 1377.0036,-162.3471 1377.0036,-153.7362\" fill=\"none\" stroke=\"#000000\"/>\n",
       "<polygon fill=\"#000000\" points=\"1380.5037,-153.5161 1377.0036,-143.5162 1373.5037,-153.5162 1380.5037,-153.5161\" stroke=\"#000000\"/>\n",
       "</g>\n",
       "<!-- theta_lumi -->\n",
       "<g class=\"node\" id=\"node24\">\n",
       "<title>theta_lumi</title>\n",
       "<ellipse cx=\"1739.0036\" cy=\"-116.6102\" fill=\"none\" rx=\"70.0071\" ry=\"26.7407\" stroke=\"#0000ff\"/>\n",
       "<text fill=\"#000000\" font-family=\"Times,serif\" font-size=\"14.00\" text-anchor=\"middle\" x=\"1739.0036\" y=\"-120.4102\">RooRealVar</text>\n",
       "<text fill=\"#000000\" font-family=\"Times,serif\" font-size=\"14.00\" text-anchor=\"middle\" x=\"1739.0036\" y=\"-105.4102\">theta_lumi</text>\n",
       "</g>\n",
       "<!-- klumi&#45;&gt;theta_lumi -->\n",
       "<g class=\"edge\" id=\"edge5\">\n",
       "<title>klumi-&gt;theta_lumi</title>\n",
       "<path d=\"M1452.936,-191.828C1510.2391,-180.3031 1590.5807,-162.9351 1660.0036,-143.4802 1665.7229,-141.8775 1671.6366,-140.0989 1677.5357,-138.2419\" fill=\"none\" stroke=\"#000000\"/>\n",
       "<polygon fill=\"#000000\" points=\"1678.9678,-141.4577 1687.4128,-135.0599 1676.8213,-134.7949 1678.9678,-141.4577\" stroke=\"#000000\"/>\n",
       "</g>\n",
       "<!-- background&#45;&gt;mass -->\n",
       "<g class=\"edge\" id=\"edge22\">\n",
       "<title>background-&gt;mass</title>\n",
       "<path d=\"M228.0036,-269.1654C228.0036,-261.0905 228.0036,-252.0872 228.0036,-243.4763\" fill=\"none\" stroke=\"#000000\"/>\n",
       "<polygon fill=\"#000000\" points=\"231.5037,-243.2562 228.0036,-233.2563 224.5037,-243.2563 231.5037,-243.2562\" stroke=\"#000000\"/>\n",
       "</g>\n",
       "<!-- tau -->\n",
       "<g class=\"node\" id=\"node26\">\n",
       "<title>tau</title>\n",
       "<ellipse cx=\"70.0036\" cy=\"-206.3503\" fill=\"none\" rx=\"70.0071\" ry=\"26.7407\" stroke=\"#0000ff\"/>\n",
       "<text fill=\"#000000\" font-family=\"Times,serif\" font-size=\"14.00\" text-anchor=\"middle\" x=\"70.0036\" y=\"-210.1503\">RooRealVar</text>\n",
       "<text fill=\"#000000\" font-family=\"Times,serif\" font-size=\"14.00\" text-anchor=\"middle\" x=\"70.0036\" y=\"-195.1503\">tau</text>\n",
       "</g>\n",
       "<!-- background&#45;&gt;tau -->\n",
       "<g class=\"edge\" id=\"edge23\">\n",
       "<title>background-&gt;tau</title>\n",
       "<path d=\"M185.6625,-272.0417C164.8669,-260.2303 139.7167,-245.9456 118.1875,-233.7176\" fill=\"none\" stroke=\"#000000\"/>\n",
       "<polygon fill=\"#000000\" points=\"119.6296,-230.5115 109.2056,-228.6161 116.1724,-236.5983 119.6296,-230.5115\" stroke=\"#000000\"/>\n",
       "</g>\n",
       "<!-- constrain_peak -->\n",
       "<g class=\"node\" id=\"node29\">\n",
       "<title>constrain_peak</title>\n",
       "<ellipse cx=\"2597.0036\" cy=\"-206.3503\" fill=\"none\" rx=\"89.191\" ry=\"26.7407\" stroke=\"#ff0000\"/>\n",
       "<text fill=\"#000000\" font-family=\"Times,serif\" font-size=\"14.00\" text-anchor=\"middle\" x=\"2597.0036\" y=\"-210.1503\">RooGaussian</text>\n",
       "<text fill=\"#000000\" font-family=\"Times,serif\" font-size=\"14.00\" text-anchor=\"middle\" x=\"2597.0036\" y=\"-195.1503\">constrain_peak</text>\n",
       "</g>\n",
       "<!-- constraints&#45;&gt;constrain_peak -->\n",
       "<g class=\"edge\" id=\"edge34\">\n",
       "<title>constraints-&gt;constrain_peak</title>\n",
       "<path d=\"M2173.3029,-284.2662C2259.9169,-268.3384 2414.3211,-239.9444 2510.8927,-222.1855\" fill=\"none\" stroke=\"#000000\"/>\n",
       "<polygon fill=\"#000000\" points=\"2511.7206,-225.5921 2520.9226,-220.3411 2510.4545,-218.7075 2511.7206,-225.5921\" stroke=\"#000000\"/>\n",
       "</g>\n",
       "<!-- constrain_lumi -->\n",
       "<g class=\"node\" id=\"node32\">\n",
       "<title>constrain_lumi</title>\n",
       "<ellipse cx=\"2109.0036\" cy=\"-206.3503\" fill=\"none\" rx=\"86.9483\" ry=\"26.7407\" stroke=\"#ff0000\"/>\n",
       "<text fill=\"#000000\" font-family=\"Times,serif\" font-size=\"14.00\" text-anchor=\"middle\" x=\"2109.0036\" y=\"-210.1503\">RooGaussian</text>\n",
       "<text fill=\"#000000\" font-family=\"Times,serif\" font-size=\"14.00\" text-anchor=\"middle\" x=\"2109.0036\" y=\"-195.1503\">constrain_lumi</text>\n",
       "</g>\n",
       "<!-- constraints&#45;&gt;constrain_lumi -->\n",
       "<g class=\"edge\" id=\"edge36\">\n",
       "<title>constraints-&gt;constrain_lumi</title>\n",
       "<path d=\"M2109.0036,-269.1654C2109.0036,-261.0905 2109.0036,-252.0872 2109.0036,-243.4763\" fill=\"none\" stroke=\"#000000\"/>\n",
       "<polygon fill=\"#000000\" points=\"2112.5037,-243.2562 2109.0036,-233.2563 2105.5037,-243.2563 2112.5037,-243.2562\" stroke=\"#000000\"/>\n",
       "</g>\n",
       "<!-- constrain_width -->\n",
       "<g class=\"node\" id=\"node34\">\n",
       "<title>constrain_width</title>\n",
       "<ellipse cx=\"2344.0036\" cy=\"-206.3503\" fill=\"none\" rx=\"93.1765\" ry=\"26.7407\" stroke=\"#ff0000\"/>\n",
       "<text fill=\"#000000\" font-family=\"Times,serif\" font-size=\"14.00\" text-anchor=\"middle\" x=\"2344.0036\" y=\"-210.1503\">RooGaussian</text>\n",
       "<text fill=\"#000000\" font-family=\"Times,serif\" font-size=\"14.00\" text-anchor=\"middle\" x=\"2344.0036\" y=\"-195.1503\">constrain_width</text>\n",
       "</g>\n",
       "<!-- constraints&#45;&gt;constrain_width -->\n",
       "<g class=\"edge\" id=\"edge35\">\n",
       "<title>constraints-&gt;constrain_width</title>\n",
       "<path d=\"M2159.1287,-276.949C2193.9236,-263.6617 2240.624,-245.8281 2278.3818,-231.4095\" fill=\"none\" stroke=\"#000000\"/>\n",
       "<polygon fill=\"#000000\" points=\"2279.6825,-234.6593 2287.7759,-227.8221 2277.1852,-228.1199 2279.6825,-234.6593\" stroke=\"#000000\"/>\n",
       "</g>\n",
       "<!-- constrain_eff -->\n",
       "<g class=\"node\" id=\"node36\">\n",
       "<title>constrain_eff</title>\n",
       "<ellipse cx=\"1925.0036\" cy=\"-206.3503\" fill=\"none\" rx=\"77.5641\" ry=\"26.7407\" stroke=\"#ff0000\"/>\n",
       "<text fill=\"#000000\" font-family=\"Times,serif\" font-size=\"14.00\" text-anchor=\"middle\" x=\"1925.0036\" y=\"-210.1503\">RooGaussian</text>\n",
       "<text fill=\"#000000\" font-family=\"Times,serif\" font-size=\"14.00\" text-anchor=\"middle\" x=\"1925.0036\" y=\"-195.1503\">constrain_eff</text>\n",
       "</g>\n",
       "<!-- constraints&#45;&gt;constrain_eff -->\n",
       "<g class=\"edge\" id=\"edge37\">\n",
       "<title>constraints-&gt;constrain_eff</title>\n",
       "<path d=\"M2064.931,-274.5954C2039.1406,-262.017 2006.3785,-246.0383 1979.0402,-232.7049\" fill=\"none\" stroke=\"#000000\"/>\n",
       "<polygon fill=\"#000000\" points=\"1980.5171,-229.5312 1969.9948,-228.2933 1977.4485,-235.8228 1980.5171,-229.5312\" stroke=\"#000000\"/>\n",
       "</g>\n",
       "<!-- constrain_peak&#45;&gt;theta_mH -->\n",
       "<g class=\"edge\" id=\"edge25\">\n",
       "<title>constrain_peak-&gt;theta_mH</title>\n",
       "<path d=\"M2668.3344,-190.0226C2692.8006,-180.6408 2717.6202,-166.0453 2732.0036,-143.4802 2744.8417,-123.3394 2747.7858,-107.6674 2732.0036,-89.7401 2705.2464,-59.3462 2452.1895,-39.6748 2319.8324,-31.3779\" fill=\"none\" stroke=\"#000000\"/>\n",
       "<polygon fill=\"#000000\" points=\"2319.937,-27.8778 2309.7397,-30.7526 2319.5041,-34.8644 2319.937,-27.8778\" stroke=\"#000000\"/>\n",
       "</g>\n",
       "<!-- 1 -->\n",
       "<g class=\"node\" id=\"node30\">\n",
       "<title>1</title>\n",
       "<ellipse cx=\"2275.0036\" cy=\"-116.6102\" fill=\"none\" rx=\"77.5641\" ry=\"26.7407\" stroke=\"#ff0000\"/>\n",
       "<text fill=\"#000000\" font-family=\"Times,serif\" font-size=\"14.00\" text-anchor=\"middle\" x=\"2275.0036\" y=\"-120.4102\">RooConstVar</text>\n",
       "<text fill=\"#000000\" font-family=\"Times,serif\" font-size=\"14.00\" text-anchor=\"middle\" x=\"2275.0036\" y=\"-105.4102\">1</text>\n",
       "</g>\n",
       "<!-- constrain_peak&#45;&gt;1 -->\n",
       "<g class=\"edge\" id=\"edge26\">\n",
       "<title>constrain_peak-&gt;1</title>\n",
       "<path d=\"M2531.4539,-188.0819C2477.332,-172.9983 2400.6876,-151.6378 2345.3006,-136.2017\" fill=\"none\" stroke=\"#000000\"/>\n",
       "<polygon fill=\"#000000\" points=\"2346.136,-132.8012 2335.5634,-133.488 2344.2566,-139.5442 2346.136,-132.8012\" stroke=\"#000000\"/>\n",
       "</g>\n",
       "<!-- global_peak -->\n",
       "<g class=\"node\" id=\"node31\">\n",
       "<title>global_peak</title>\n",
       "<ellipse cx=\"2651.0036\" cy=\"-116.6102\" fill=\"none\" rx=\"72.25\" ry=\"26.7407\" stroke=\"#0000ff\"/>\n",
       "<text fill=\"#000000\" font-family=\"Times,serif\" font-size=\"14.00\" text-anchor=\"middle\" x=\"2651.0036\" y=\"-120.4102\">RooRealVar</text>\n",
       "<text fill=\"#000000\" font-family=\"Times,serif\" font-size=\"14.00\" text-anchor=\"middle\" x=\"2651.0036\" y=\"-105.4102\">global_peak</text>\n",
       "</g>\n",
       "<!-- constrain_peak&#45;&gt;global_peak -->\n",
       "<g class=\"edge\" id=\"edge24\">\n",
       "<title>constrain_peak-&gt;global_peak</title>\n",
       "<path d=\"M2612.9133,-179.9107C2618.2415,-171.056 2624.2671,-161.0423 2629.9274,-151.6358\" fill=\"none\" stroke=\"#000000\"/>\n",
       "<polygon fill=\"#000000\" points=\"2633.0506,-153.2338 2635.2076,-142.8608 2627.0527,-149.6246 2633.0506,-153.2338\" stroke=\"#000000\"/>\n",
       "</g>\n",
       "<!-- constrain_lumi&#45;&gt;theta_lumi -->\n",
       "<g class=\"edge\" id=\"edge40\">\n",
       "<title>constrain_lumi-&gt;theta_lumi</title>\n",
       "<path d=\"M2045.5487,-187.9234C2034.4117,-184.9327 2022.9007,-181.9956 2012.0036,-179.4802 1926.5563,-159.7564 1902.8473,-165.6572 1818.0036,-143.4802 1812.0249,-141.9175 1805.8452,-140.1295 1799.6975,-138.2347\" fill=\"none\" stroke=\"#000000\"/>\n",
       "<polygon fill=\"#000000\" points=\"1800.6871,-134.8768 1790.0968,-135.1863 1798.5687,-141.5485 1800.6871,-134.8768\" stroke=\"#000000\"/>\n",
       "</g>\n",
       "<!-- constrain_lumi&#45;&gt;1 -->\n",
       "<g class=\"edge\" id=\"edge39\">\n",
       "<title>constrain_lumi-&gt;1</title>\n",
       "<path d=\"M2152.1848,-183.0064C2174.1498,-171.132 2200.9907,-156.6218 2223.9719,-144.198\" fill=\"none\" stroke=\"#000000\"/>\n",
       "<polygon fill=\"#000000\" points=\"2225.767,-147.2064 2232.8993,-139.3719 2222.438,-141.0486 2225.767,-147.2064\" stroke=\"#000000\"/>\n",
       "</g>\n",
       "<!-- global_lumi -->\n",
       "<g class=\"node\" id=\"node33\">\n",
       "<title>global_lumi</title>\n",
       "<ellipse cx=\"2109.0036\" cy=\"-116.6102\" fill=\"none\" rx=\"70.0071\" ry=\"26.7407\" stroke=\"#0000ff\"/>\n",
       "<text fill=\"#000000\" font-family=\"Times,serif\" font-size=\"14.00\" text-anchor=\"middle\" x=\"2109.0036\" y=\"-120.4102\">RooRealVar</text>\n",
       "<text fill=\"#000000\" font-family=\"Times,serif\" font-size=\"14.00\" text-anchor=\"middle\" x=\"2109.0036\" y=\"-105.4102\">global_lumi</text>\n",
       "</g>\n",
       "<!-- constrain_lumi&#45;&gt;global_lumi -->\n",
       "<g class=\"edge\" id=\"edge38\">\n",
       "<title>constrain_lumi-&gt;global_lumi</title>\n",
       "<path d=\"M2109.0036,-179.4253C2109.0036,-171.3504 2109.0036,-162.3471 2109.0036,-153.7362\" fill=\"none\" stroke=\"#000000\"/>\n",
       "<polygon fill=\"#000000\" points=\"2112.5037,-153.5161 2109.0036,-143.5162 2105.5037,-153.5162 2112.5037,-153.5161\" stroke=\"#000000\"/>\n",
       "</g>\n",
       "<!-- constrain_width&#45;&gt;theta_width -->\n",
       "<g class=\"edge\" id=\"edge32\">\n",
       "<title>constrain_width-&gt;theta_width</title>\n",
       "<path d=\"M2359.0818,-179.6104C2371.6531,-153.3465 2384.2446,-113.8142 2362.0036,-89.7401 2338.1111,-63.8785 1848.9537,-39.3195 1651.0447,-30.4024\" fill=\"none\" stroke=\"#000000\"/>\n",
       "<polygon fill=\"#000000\" points=\"1651.1365,-26.9031 1640.9897,-29.9516 1650.8228,-33.8961 1651.1365,-26.9031\" stroke=\"#000000\"/>\n",
       "</g>\n",
       "<!-- constrain_width&#45;&gt;1 -->\n",
       "<g class=\"edge\" id=\"edge31\">\n",
       "<title>constrain_width-&gt;1</title>\n",
       "<path d=\"M2323.6745,-179.9107C2316.7259,-170.8734 2308.849,-160.6289 2301.4875,-151.0547\" fill=\"none\" stroke=\"#000000\"/>\n",
       "<polygon fill=\"#000000\" points=\"2304.0574,-148.655 2295.1873,-142.8608 2298.5081,-152.9218 2304.0574,-148.655\" stroke=\"#000000\"/>\n",
       "</g>\n",
       "<!-- global_width -->\n",
       "<g class=\"node\" id=\"node35\">\n",
       "<title>global_width</title>\n",
       "<ellipse cx=\"2485.0036\" cy=\"-116.6102\" fill=\"none\" rx=\"76.2353\" ry=\"26.7407\" stroke=\"#0000ff\"/>\n",
       "<text fill=\"#000000\" font-family=\"Times,serif\" font-size=\"14.00\" text-anchor=\"middle\" x=\"2485.0036\" y=\"-120.4102\">RooRealVar</text>\n",
       "<text fill=\"#000000\" font-family=\"Times,serif\" font-size=\"14.00\" text-anchor=\"middle\" x=\"2485.0036\" y=\"-105.4102\">global_width</text>\n",
       "</g>\n",
       "<!-- constrain_width&#45;&gt;global_width -->\n",
       "<g class=\"edge\" id=\"edge33\">\n",
       "<title>constrain_width-&gt;global_width</title>\n",
       "<path d=\"M2382.5324,-181.8284C2400.0504,-170.679 2420.9096,-157.4031 2439.2215,-145.7484\" fill=\"none\" stroke=\"#000000\"/>\n",
       "<polygon fill=\"#000000\" points=\"2441.4235,-148.4957 2447.9805,-140.1737 2437.665,-142.5903 2441.4235,-148.4957\" stroke=\"#000000\"/>\n",
       "</g>\n",
       "<!-- constrain_eff&#45;&gt;theta_efficiency -->\n",
       "<g class=\"edge\" id=\"edge42\">\n",
       "<title>constrain_eff-&gt;theta_efficiency</title>\n",
       "<path d=\"M1860.0957,-191.4215C1806.3799,-178.9541 1728.119,-160.5294 1660.0036,-143.4802 1652.2365,-141.5361 1644.1472,-139.4723 1636.0723,-137.3864\" fill=\"none\" stroke=\"#000000\"/>\n",
       "<polygon fill=\"#000000\" points=\"1636.8111,-133.9622 1626.2525,-134.8376 1635.0524,-140.7377 1636.8111,-133.9622\" stroke=\"#000000\"/>\n",
       "</g>\n",
       "<!-- constrain_eff&#45;&gt;1 -->\n",
       "<g class=\"edge\" id=\"edge41\">\n",
       "<title>constrain_eff-&gt;1</title>\n",
       "<path d=\"M1982.0627,-188.0808C1992.3169,-185.0399 2002.9422,-182.0452 2013.0036,-179.4802 2089.949,-159.8642 2111.0897,-163.2196 2188.0036,-143.4802 2194.5877,-141.7905 2201.4145,-139.9103 2208.2168,-137.9513\" fill=\"none\" stroke=\"#000000\"/>\n",
       "<polygon fill=\"#000000\" points=\"2209.5262,-141.2146 2218.1342,-135.0377 2207.5531,-134.4984 2209.5262,-141.2146\" stroke=\"#000000\"/>\n",
       "</g>\n",
       "<!-- global_efficiency -->\n",
       "<g class=\"node\" id=\"node37\">\n",
       "<title>global_efficiency</title>\n",
       "<ellipse cx=\"1924.0036\" cy=\"-116.6102\" fill=\"none\" rx=\"96.7474\" ry=\"26.7407\" stroke=\"#0000ff\"/>\n",
       "<text fill=\"#000000\" font-family=\"Times,serif\" font-size=\"14.00\" text-anchor=\"middle\" x=\"1924.0036\" y=\"-120.4102\">RooRealVar</text>\n",
       "<text fill=\"#000000\" font-family=\"Times,serif\" font-size=\"14.00\" text-anchor=\"middle\" x=\"1924.0036\" y=\"-105.4102\">global_efficiency</text>\n",
       "</g>\n",
       "<!-- constrain_eff&#45;&gt;global_efficiency -->\n",
       "<g class=\"edge\" id=\"edge43\">\n",
       "<title>constrain_eff-&gt;global_efficiency</title>\n",
       "<path d=\"M1924.7035,-179.4253C1924.6136,-171.3504 1924.5132,-162.3471 1924.4173,-153.7362\" fill=\"none\" stroke=\"#000000\"/>\n",
       "<polygon fill=\"#000000\" points=\"1927.9147,-153.4765 1924.3034,-143.5162 1920.9151,-153.5546 1927.9147,-153.4765\" stroke=\"#000000\"/>\n",
       "</g>\n",
       "</g>\n",
       "</svg>"
      ],
      "text/plain": [
       "<IPython.core.display.SVG object>"
      ]
     },
     "execution_count": 8,
     "metadata": {},
     "output_type": "execute_result"
    }
   ],
   "source": [
    "model.graphVizTree(\"shape_graph.dot\")\n",
    "!dot -Tsvg shape_graph.dot > shape_graph.svg; rm shape_graph.dot\n",
    "s = SVG(\"shape_graph.svg\")\n",
    "s.data = re.sub(r'width=\"[0-9]+pt\"', r'width=\"90%\"', s.data)\n",
    "s.data = re.sub(r'height=\"[0-9]+pt\"', r'height=\"\"', s.data)\n",
    "s"
   ]
  },
  {
   "cell_type": "code",
   "execution_count": 9,
   "metadata": {
    "slideshow": {
     "slide_type": "subslide"
    }
   },
   "outputs": [
    {
     "data": {
      "text/plain": [
       "False"
      ]
     },
     "execution_count": 9,
     "metadata": {},
     "output_type": "execute_result"
    }
   ],
   "source": [
    "RooStats.SetAllConstant(ws.allVars().selectByName('global*'))\n",
    "\n",
    "data = model.generate(ROOT.RooArgSet(mass))\n",
    "data.SetName('obsData')\n",
    "getattr(ws, 'import')(data)"
   ]
  },
  {
   "cell_type": "code",
   "execution_count": 10,
   "metadata": {
    "slideshow": {
     "slide_type": "subslide"
    }
   },
   "outputs": [
    {
     "name": "stdout",
     "output_type": "stream",
     "text": [
      " **********\n",
      " **    1 **SET PRINT           0\n",
      " **********\n",
      " **********\n",
      " **    2 **SET NOGRAD\n",
      " **********\n",
      " PARAMETER DEFINITIONS:\n",
      "    NO.   NAME         VALUE      STEP SIZE      LIMITS\n",
      "     1 mH           1.25000e+02  6.00000e+00    9.00000e+01  1.50000e+02\n",
      "     2 mu           1.00000e+00  7.00000e-01   -2.00000e+00  5.00000e+00\n",
      "     3 nbkg         4.00000e+02  1.00000e+02    0.00000e+00  1.00000e+03\n",
      "     4 tau         -3.00000e-02  1.45000e-02   -5.00000e-01 -1.00000e-03\n",
      "     5 theta_efficiency   0.00000e+00  1.00000e+00   -5.00000e+00  5.00000e+00\n",
      "     6 theta_lumi   0.00000e+00  1.00000e+00   -5.00000e+00  5.00000e+00\n",
      "     7 theta_mH     0.00000e+00  1.00000e+00   -5.00000e+00  5.00000e+00\n",
      "     8 theta_width   0.00000e+00  1.00000e+00   -5.00000e+00  5.00000e+00\n",
      " **********\n",
      " **    3 **SET ERR         0.5\n",
      " **********\n",
      " **********\n",
      " **    4 **SET PRINT           0\n",
      " **********\n",
      " **********\n",
      " **    5 **SET STR           1\n",
      " **********\n",
      " **********\n",
      " **    6 **MIGRAD        4000           1\n",
      " **********\n",
      " MIGRAD MINIMIZATION HAS CONVERGED.\n",
      " MIGRAD WILL VERIFY CONVERGENCE AND ERROR MATRIX.\n",
      " FCN=-450.874 FROM MIGRAD    STATUS=CONVERGED     174 CALLS         175 TOTAL\n",
      "                     EDM=0.000115011    STRATEGY= 1      ERROR MATRIX ACCURATE \n",
      "  EXT PARAMETER                                   STEP         FIRST   \n",
      "  NO.   NAME      VALUE            ERROR          SIZE      DERIVATIVE \n",
      "   1  mH           1.26305e+02   1.88704e+00   6.89964e-04  -8.47125e-02\n",
      "   2  mu           7.20465e-01   1.67304e-01   6.19455e-04   9.05718e-02\n",
      "   3  nbkg         4.21259e+02   2.29998e+01   6.33261e-04   1.35179e-02\n",
      "   4  tau         -2.97826e-02   2.71982e-03   3.16637e-04  -9.45542e-02\n",
      "   5  theta_efficiency  -7.22905e-03   9.93381e-01   2.91211e-03  -3.37549e-02\n",
      "   6  theta_lumi  -2.85600e-03   9.93353e-01   2.93060e-03  -1.33237e-02\n",
      "   7  theta_mH     2.09726e-03   9.94807e-01   2.17140e-03  -8.50257e-03\n",
      "   8  theta_width   1.14864e-01   9.81816e-01   2.85521e-03  -1.50182e-02\n",
      "                               ERR DEF= 0.5\n",
      " **********\n",
      " **    7 **SET ERR         0.5\n",
      " **********\n",
      " **********\n",
      " **    8 **SET PRINT           0\n",
      " **********\n",
      " **********\n",
      " **    9 **HESSE        4000\n",
      " **********\n",
      " FCN=-450.874 FROM HESSE     STATUS=OK             61 CALLS         236 TOTAL\n",
      "                     EDM=0.000114913    STRATEGY= 1      ERROR MATRIX ACCURATE \n",
      "  EXT PARAMETER                                INTERNAL      INTERNAL  \n",
      "  NO.   NAME      VALUE            ERROR       STEP SIZE       VALUE   \n",
      "   1  mH           1.26305e+02   1.88459e+00   1.37993e-04   2.11757e-01\n",
      "   2  mu           7.20465e-01   1.67340e-01   1.23891e-04  -2.24608e-01\n",
      "   3  nbkg         4.21259e+02   2.30047e+01   1.26652e-04  -1.58140e-01\n",
      "   4  tau         -2.97826e-02   2.72071e-03   6.33273e-05   1.08572e+00\n",
      "   5  theta_efficiency  -7.22905e-03   9.93354e-01   5.82421e-04  -1.44581e-03\n",
      "   6  theta_lumi  -2.85600e-03   9.93348e-01   5.86120e-04  -5.71200e-04\n",
      "   7  theta_mH     2.09726e-03   9.93596e-01   4.34281e-04   4.19453e-04\n",
      "   8  theta_width   1.14864e-01   9.81858e-01   5.71041e-04   2.29748e-02\n",
      "                               ERR DEF= 0.5\n"
     ]
    }
   ],
   "source": [
    "ROOT.RooMsgService.instance().setGlobalKillBelow(5)\n",
    "fit_result = model.fitTo(data, ROOT.RooFit.Save(), RooFit.PrintLevel(0))"
   ]
  },
  {
   "cell_type": "code",
   "execution_count": 11,
   "metadata": {},
   "outputs": [
    {
     "name": "stdout",
     "output_type": "stream",
     "text": [
      "\n",
      "  RooFitResult: minimized FCN value: -450.874, estimated distance to minimum: 0.000114913\n",
      "                covariance matrix quality: Full, accurate covariance matrix\n",
      "                Status : MINIMIZE=0 HESSE=0 \n",
      "\n",
      "    Floating Parameter    FinalValue +/-  Error   \n",
      "  --------------------  --------------------------\n",
      "                    mH    1.2631e+02 +/-  1.88e+00\n",
      "                    mu    7.2047e-01 +/-  1.67e-01\n",
      "                  nbkg    4.2126e+02 +/-  2.30e+01\n",
      "                   tau   -2.9783e-02 +/-  2.72e-03\n",
      "      theta_efficiency   -7.2290e-03 +/-  9.93e-01\n",
      "            theta_lumi   -2.8560e-03 +/-  9.93e-01\n",
      "              theta_mH    2.0973e-03 +/-  9.94e-01\n",
      "           theta_width    1.1486e-01 +/-  9.82e-01\n",
      "\n"
     ]
    }
   ],
   "source": [
    "fit_result.Print()"
   ]
  },
  {
   "cell_type": "code",
   "execution_count": 13,
   "metadata": {
    "slideshow": {
     "slide_type": "subslide"
    }
   },
   "outputs": [
    {
     "data": {
      "image/png": "[encoded data removed]",
      "text/plain": [
       "<IPython.core.display.Image object>"
      ]
     },
     "metadata": {},
     "output_type": "display_data"
    }
   ],
   "source": [
    "frame = mass.frame(50)\n",
    "data.plotOn(frame)\n",
    "model.plotOn(frame)\n",
    "frame.Draw()\n",
    "ROOT.gPad.Draw()"
   ]
  },
  {
   "cell_type": "code",
   "execution_count": 14,
   "metadata": {
    "slideshow": {
     "slide_type": "subslide"
    }
   },
   "outputs": [
    {
     "data": {
      "text/plain": [
       "False"
      ]
     },
     "execution_count": 14,
     "metadata": {},
     "output_type": "execute_result"
    }
   ],
   "source": [
    "sbModel = RooStats.ModelConfig('sbModel', ws)\n",
    "sbModel.SetPdf('model')\n",
    "nps = ws.allVars().selectByName('theta*')\n",
    "nps.add(ws.var('tau'))\n",
    "nps.add(ws.var('nbkg'))\n",
    "sbModel.SetNuisanceParameters(nps)\n",
    "sbModel.SetObservables('mass')\n",
    "sbModel.SetParametersOfInterest('mu')\n",
    "sbModel.SetGlobalObservables(ws.allVars().selectByName('global*'))\n",
    "sbModel.SetSnapshot(ROOT.RooArgSet(ws.var('mu')))\n",
    "\n",
    "bModel = sbModel.Clone('bModel')\n",
    "ws.var('mu').setVal(0)\n",
    "bModel.SetSnapshot(ROOT.RooArgSet(ws.var('mu')))\n",
    "\n",
    "getattr(ws, 'import')(sbModel)\n",
    "getattr(ws, 'import')(bModel)\n",
    "\n",
    "ws.writeToFile('ws_shape.root')"
   ]
  },
  {
   "cell_type": "markdown",
   "metadata": {
    "slideshow": {
     "slide_type": "slide"
    }
   },
   "source": [
    "## Test statistics $t_\\mu$ and $\\tilde{t}_\\mu$\n",
    "\n",
    "$$ t_\\mu = -2\\log\\lambda (\\mu) = -2\\log \\frac{L(\\mu, \\hat{\\hat{\\theta}}(\\mu))}{L(\\hat{\\mu}, \\hat{\\theta})}$$\n",
    "\n",
    "High value means incompatiblity with data. If we want to test a specific $\\mu$ we can compute the p-value $= \\int_{t_{\\mu, obs}}^\\infty f(t_\\mu|\\mu) dt_\\mu$."
   ]
  },
  {
   "cell_type": "markdown",
   "metadata": {
    "slideshow": {
     "slide_type": "subslide"
    }
   },
   "source": [
    "Usually we can assume that $\\mu\\geq 0$, so we need a new test statistic:\n",
    "\n",
    "$$ \\tilde{t}_\\mu = -2\\log \\tilde\\lambda(\\mu)$$\n",
    "\n",
    "$$ \\tilde\\lambda(\\mu) = \\begin{cases} \n",
    "      \\hfill \\frac{L(\\mu, \\hat{\\hat{\\theta}}(\\mu))}{L(0, \\hat{\\theta}(0))}    \\hfill & \\hat{\\mu} < 0 \\\\\n",
    "      \\hfill \\frac{L(\\mu, \\hat{\\hat{\\theta}}(\\mu))}{L(\\hat{\\mu}, \\hat{\\theta})} \\hfill & \\hat{\\mu} \\geq 0 \\\\\n",
    "  \\end{cases}$$"
   ]
  },
  {
   "cell_type": "markdown",
   "metadata": {
    "slideshow": {
     "slide_type": "subslide"
    }
   },
   "source": [
    "## $q_0$ statistics for discovery of positive signal\n",
    "\n",
    "For discovery we want to exclude the hypothesis $s=0$ (background-only), assuming $\\mu\\geq 0$. Defining $q_0 = \\tilde{t}_0$:\n",
    "\n",
    "$$ q_0 = \n",
    "\\begin{cases} \n",
    "-2\\log\\lambda(0)\\qquad &\\hat \\mu\\geq 0 \\\\\n",
    "0\\qquad &\\hat \\mu < 0\n",
    "\\end{cases}\n",
    "$$\n",
    "\n",
    "If $\\hat \\mu<0$ it means that we are observing less events than the one predicted by the background-only model. Since we are truncating the definition of test statistics we are not considering downward fluctuation as discrepancies with the model. High value of $\\hat\\mu$ means high value of $q_0$ and large discrepancy with the background-only model."
   ]
  },
  {
   "cell_type": "markdown",
   "metadata": {
    "slideshow": {
     "slide_type": "subslide"
    }
   },
   "source": [
    " The p-value is computed as usual:\n",
    "\n",
    "$$ \\text{p-value} = p_0 = \\int_{q_{0, obs}}^\\infty f(q_0|\\mu=0)\\, dq_0$$\n",
    "\n",
    "### Exercize\n",
    "If we assume that the background model is true, how many times we will get $\\hat \\mu<0$? If $f(t_0|\\mu=0)$ is a $\\chi^2$ distribution what about $f(q_0|\\mu=0)$?"
   ]
  },
  {
   "cell_type": "markdown",
   "metadata": {
    "slideshow": {
     "slide_type": "subslide"
    }
   },
   "source": [
    "## $q_\\mu$ statistic for exclusion\n",
    "Suppose we want to put an upper limit, so we define as null hypothesis to exclude the hypotesis signal+background with $\\mu$ as signal multiplier.\n",
    "\n",
    "$$\n",
    "q_\\mu=\\begin{cases}\n",
    "-2\\log\\lambda(\\mu)\\qquad & \\hat\\mu \\leq \\mu\\\\\n",
    "0 \\qquad & \\hat\\mu > \\mu\n",
    "\\end{cases}\n",
    "$$\n",
    "\n",
    "we set $q_\\mu=0$ when observing a value of $\\mu$ greater than the one we are observing since we don't want it to enter in the rejection region when doing an upper limit; we don't want that upper fluctuation count as bad agreement with data."
   ]
  },
  {
   "cell_type": "markdown",
   "metadata": {
    "slideshow": {
     "slide_type": "subslide"
    }
   },
   "source": [
    " The p-value is computed in the usual way, assuming the null-hypothesis ($\\mu$) true:\n",
    "\n",
    "$$ \\text{p-value} = p_\\mu = \\int_{q_{\\mu, obs}}^\\infty f(q_\\mu|\\mu)\\, dq_\\mu$$\n",
    "\n",
    "\n",
    "### Questions\n",
    "What is the relation between $q_\\mu$ and $q_0$? Are you looking in the same tail of $\\mu$?"
   ]
  },
  {
   "cell_type": "markdown",
   "metadata": {
    "slideshow": {
     "slide_type": "slide"
    }
   },
   "source": [
    "Let's try to write the profiled likelihood ratio for the shape model:\n",
    "\n",
    "$$\\frac{\\sup L(0, m_H, \\theta)}{\\sup L(\\mu, m_H, \\theta)}$$\n",
    "\n",
    "Is $m_H$ playing a role in the numerator? No! The numerator is not a special case of the numerator! $m_H$ is not a nuisance parameter that can be profiled.\n",
    "\n",
    "The commont solution is to repeat the test for fixed value of $m_H$: in that case $m_H$ is considered to be a constant."
   ]
  },
  {
   "cell_type": "code",
   "execution_count": 16,
   "metadata": {
    "slideshow": {
     "slide_type": "subslide"
    }
   },
   "outputs": [
    {
     "name": "stdout",
     "output_type": "stream",
     "text": [
      "mH =  90.0 pvalue = 0.5  significance = -0.0\n",
      "mH =  93.15789473684211 pvalue = 0.5  significance = -0.0\n",
      "mH =  96.3157894736842 pvalue = 0.5  significance = -0.0\n",
      "mH =  99.47368421052632 pvalue = 0.5  significance = -0.0\n",
      "mH =  102.63157894736842 pvalue = 0.5  significance = -0.0\n",
      "mH =  105.78947368421052 pvalue = 0.5  significance = -0.0\n",
      "mH =  108.94736842105263 pvalue = 0.5  significance = -0.0\n",
      "mH =  112.10526315789474 pvalue = 0.5  significance = -0.0\n",
      "mH =  115.26315789473685 pvalue = 0.1609545422184508  significance = 0.9905423818071366\n",
      "mH =  118.42105263157895 pvalue = 0.001236936777394594  significance = 3.026518899111132\n",
      "mH =  121.57894736842105 pvalue = 8.42717149510897e-06  significance = 4.30294404143259\n",
      "mH =  124.73684210526315 pvalue = 5.170262350169288e-07  significance = 4.885044975759736\n",
      "mH =  127.89473684210526 pvalue = 5.18732626895524e-07  significance = 4.8843957305672445\n",
      "mH =  131.05263157894737 pvalue = 8.87401813028884e-06  significance = 4.291487290776653\n",
      "mH =  134.21052631578948 pvalue = 0.0016570486089944431  significance = 2.936994742904425\n",
      "mH =  137.3684210526316 pvalue = 0.3333793504602013  significance = 0.4306007429112661\n",
      "mH =  140.5263157894737 pvalue = 0.5  significance = -0.0\n",
      "mH =  143.68421052631578 pvalue = 0.5  significance = -0.0\n",
      "mH =  146.8421052631579 pvalue = 0.5  significance = -0.0\n",
      "mH =  150.0 pvalue = 0.5  significance = -0.0\n",
      "[#0] PROGRESS:Eval -- AsymptoticCalculator: Building Asimov data Set\n",
      "[#0] PROGRESS:Eval -- AsymptoticCalculator: Building Asimov data Set\n",
      "[#0] PROGRESS:Eval -- AsymptoticCalculator: Building Asimov data Set\n",
      "[#0] PROGRESS:Eval -- AsymptoticCalculator: Building Asimov data Set\n",
      "[#0] PROGRESS:Eval -- AsymptoticCalculator: Building Asimov data Set\n",
      "[#0] PROGRESS:Eval -- AsymptoticCalculator: Building Asimov data Set\n",
      "[#0] PROGRESS:Eval -- AsymptoticCalculator: Building Asimov data Set\n",
      "[#0] PROGRESS:Eval -- AsymptoticCalculator: Building Asimov data Set\n",
      "[#0] PROGRESS:Eval -- AsymptoticCalculator: Building Asimov data Set\n",
      "[#0] PROGRESS:Eval -- AsymptoticCalculator: Building Asimov data Set\n",
      "[#0] PROGRESS:Eval -- AsymptoticCalculator: Building Asimov data Set\n",
      "[#0] PROGRESS:Eval -- AsymptoticCalculator: Building Asimov data Set\n",
      "[#0] PROGRESS:Eval -- AsymptoticCalculator: Building Asimov data Set\n",
      "[#0] PROGRESS:Eval -- AsymptoticCalculator: Building Asimov data Set\n",
      "[#0] PROGRESS:Eval -- AsymptoticCalculator: Building Asimov data Set\n",
      "[#0] PROGRESS:Eval -- AsymptoticCalculator: Building Asimov data Set\n",
      "[#0] PROGRESS:Eval -- AsymptoticCalculator: Building Asimov data Set\n",
      "[#0] PROGRESS:Eval -- AsymptoticCalculator: Building Asimov data Set\n",
      "[#0] PROGRESS:Eval -- AsymptoticCalculator: Building Asimov data Set\n",
      "[#0] PROGRESS:Eval -- AsymptoticCalculator: Building Asimov data Set\n"
     ]
    }
   ],
   "source": [
    "RooStats.AsymptoticCalculator.SetPrintLevel(-1)\n",
    "mH_values = np.linspace(mH.getMin(), mH.getMax(), 20)\n",
    "pvalues, pvalues_exp, zs, qvalues = [], [], [], []\n",
    "for mH_value in mH_values:\n",
    "    f = ROOT.TFile('ws_shape.root')\n",
    "    ws = f.Get('ws_shape')\n",
    "    mH = ws.var('mH')\n",
    "    mH.setVal(mH_value)\n",
    "    mH.setConstant(True)\n",
    "    data = ws.data('obsData')\n",
    "    #ws.pdf('model').fitTo(data)   # better to do a fit before\n",
    "    sbModel = ws.obj('sbModel')\n",
    "    bModel = ws.obj('bModel')\n",
    "    hypoCalc = RooStats.AsymptoticCalculator(data, sbModel, bModel)\n",
    "    hypoCalc.SetOneSidedDiscovery(True)\n",
    "    htr = hypoCalc.GetHypoTest()\n",
    "    print(\"mH = \", mH.getVal(), \"pvalue =\", htr.NullPValue(), \" significance =\", htr.Significance())\n",
    "    pval_exp = RooStats.AsymptoticCalculator.GetExpectedPValues(htr.NullPValue(), htr.AlternatePValue(), 0, False)\n",
    "    pvalues.append(htr.NullPValue()); zs.append(htr.Significance()); pvalues_exp.append(pval_exp)\n",
    "    del hypoCalc\n",
    "    del htr"
   ]
  },
  {
   "cell_type": "code",
   "execution_count": 17,
   "metadata": {
    "slideshow": {
     "slide_type": "subslide"
    }
   },
   "outputs": [
    {
     "data": {
      "image/png": "[encoded data removed]",
      "text/plain": [
       "<Figure size 864x288 with 2 Axes>"
      ]
     },
     "metadata": {
      "needs_background": "light"
     },
     "output_type": "display_data"
    }
   ],
   "source": [
    "fig, axs = plt.subplots(1, 2, figsize=(12, 4))\n",
    "axs[0].semilogy(mH_values, pvalues, '.-')\n",
    "axs[0].semilogy(mH_values, pvalues_exp, '--')\n",
    "axs[1].plot(mH_values, zs, '.-')\n",
    "axs[0].set_xlabel('mH'); axs[1].set_xlabel('mH')\n",
    "axs[0].set_ylabel('pvalue'); axs[1].set_ylabel('significance'); plt.show()"
   ]
  },
  {
   "cell_type": "markdown",
   "metadata": {
    "slideshow": {
     "slide_type": "fragment"
    }
   },
   "source": [
    "### Question\n",
    "Explain why p-value is never bigger than 0.5 (we have used $q_0$ as test statistic)."
   ]
  },
  {
   "cell_type": "markdown",
   "metadata": {
    "slideshow": {
     "slide_type": "subslide"
    }
   },
   "source": [
    "### Look elsewhere effect\n",
    "\n",
    "The maximum significance we have found is 5 around 125. Usually this is called \"local significace\", since it is computed for a particular $m_H$. The problem is that we have repeated the test many times and we have to consider that we are taking into account the maximum discrepancy. This is also know as \"problem of multiple comparisons\".\n",
    "\n",
    "One can solve this problem redefining the test statistic as:\n",
    "\n",
    "$$q_0^{global} = \\max_{m_H} q_0(m_H)$$\n",
    "\n",
    "But the distribution of $q_0^{global}$ is unknown. The other solution is to introduce a \"trial factor\" to correct the local-$p_0$ to obtain the global-$p_0$."
   ]
  },
  {
   "cell_type": "code",
   "execution_count": 18,
   "metadata": {
    "slideshow": {
     "slide_type": "subslide"
    }
   },
   "outputs": [
    {
     "data": {
      "text/html": [
       "\n",
       "        <iframe\n",
       "            width=\"900\"\n",
       "            height=\"500\"\n",
       "            src=\"http://xkcd.com/882/\"\n",
       "            frameborder=\"0\"\n",
       "            allowfullscreen\n",
       "        ></iframe>\n",
       "        "
      ],
      "text/plain": [
       "<IPython.lib.display.IFrame at 0x7fd4c3081e10>"
      ]
     },
     "execution_count": 18,
     "metadata": {},
     "output_type": "execute_result"
    }
   ],
   "source": [
    "IFrame(\"http://xkcd.com/882/\", 900, 500)"
   ]
  },
  {
   "cell_type": "markdown",
   "metadata": {
    "slideshow": {
     "slide_type": "subslide"
    }
   },
   "source": [
    "## Exclusions\n",
    "\n",
    "We are also interested to know what is the minimum $\\mu$ that we can exclude. This is done as hypothesis inversion. We have to find a $\\mu_{95}$ that is exluded at 5%. As before this is done with a simple scan. Let's do it for $m_H=110 GeV$."
   ]
  },
  {
   "cell_type": "code",
   "execution_count": 25,
   "metadata": {
    "slideshow": {
     "slide_type": "subslide"
    }
   },
   "outputs": [
    {
     "data": {
      "text/plain": [
       "False"
      ]
     },
     "execution_count": 25,
     "metadata": {},
     "output_type": "execute_result"
    }
   ],
   "source": [
    "f = ROOT.TFile('ws_shape.root')\n",
    "ws = f.Get(\"ws_shape\")\n",
    "ws.var('mH').setVal(110)\n",
    "ws.var('mH').setConstant(True)\n",
    "ws.var('mu').setRange(0, 1)\n",
    "ws.writeToFile(\"ws_shape_110.root\")"
   ]
  },
  {
   "cell_type": "code",
   "execution_count": 26,
   "metadata": {
    "slideshow": {
     "slide_type": "subslide"
    }
   },
   "outputs": [
    {
     "name": "stdout",
     "output_type": "stream",
     "text": [
      "0x55e8fc847930\tws_shape_110.root\n",
      "Running HypoTestInverter on the workspace ws_shape\n",
      "\n",
      "RooWorkspace(ws_shape) ws_shape contents\n",
      "\n",
      "variables\n",
      "---------\n",
      "(global_efficiency,global_lumi,global_peak,global_width,mH,mass,mu,nbkg,nominal_efficiency,nominal_width,sigma_efficiency,sigma_lumi,sigma_mH,sigma_width,tau,theta_efficiency,theta_lumi,theta_mH,theta_width)\n",
      "\n",
      "p.d.f.s\n",
      "-------\n",
      "RooExponential::background[ x=mass c=tau ] = 0.0280459\n",
      "RooGaussian::constrain_eff[ x=global_efficiency mean=theta_efficiency sigma=1 ] = 0.999974\n",
      "RooGaussian::constrain_lumi[ x=global_lumi mean=theta_lumi sigma=1 ] = 0.999996\n",
      "RooGaussian::constrain_peak[ x=global_peak mean=theta_mH sigma=1 ] = 0.999998\n",
      "RooGaussian::constrain_width[ x=global_width mean=theta_width sigma=1 ] = 0.993425\n",
      "RooProdPdf::constraints[ constrain_peak * constrain_lumi * constrain_width * constrain_eff ] = 0.993393\n",
      "RooProdPdf::model[ phys_pdf * constraints ] = 0.0278606\n",
      "RooAddPdf::phys_pdf[ nsignal * signal + nbkg * background ] = 0.0280459\n",
      "RooGaussian::signal[ x=mass mean=peak sigma=width ] = 0.138579\n",
      "\n",
      "functions\n",
      "--------\n",
      "RooFormulaVar::efficiency[ actualVars=(nominal_efficiency,sigma_efficiency,theta_efficiency) formula=\"@0*(1+exp(@1*@2))\" ] = 1.19978\n",
      "RooFormulaVar::klumi[ actualVars=(sigma_lumi,theta_lumi) formula=\"(1+exp(@0*@1))\" ] = 1.99994\n",
      "RooFormulaVar::kpeak[ actualVars=(sigma_mH,theta_mH) formula=\"1+@0*@1\" ] = 1.00002\n",
      "RooFormulaVar::kwidth[ actualVars=(sigma_width,theta_width) formula=\"1+@0*@1\" ] = 1.00574\n",
      "RooProduct::nsignal[ nsignal_theory * mu * efficiency * klumi ] = 0\n",
      "RooFormulaVar::nsignal_theory[ actualVars=(mH) formula=\"7+@0*0.2\" ] = 29\n",
      "RooFormulaVar::peak[ actualVars=(mH,kpeak) formula=\"@0*@1\" ] = 110.002\n",
      "RooFormulaVar::width[ actualVars=(nominal_width,kwidth) formula=\"@0*@1\" ] = 5.02872\n",
      "\n",
      "datasets\n",
      "--------\n",
      "RooDataSet::obsData(mass)\n",
      "\n",
      "parameter snapshots\n",
      "-------------------\n",
      "sbModel__snapshot = (mu=0.720465 +/- 0.16734)\n",
      "bModel__snapshot = (mu=0 +/- 0.16734)\n",
      "\n",
      "named sets\n",
      "----------\n",
      "bModel__snapshot:(mu)\n",
      "sbModel_GlobalObservables:(global_peak,global_width,global_lumi,global_efficiency)\n",
      "sbModel_NuisParams:(theta_mH,theta_width,theta_lumi,theta_efficiency,tau,nbkg)\n",
      "sbModel_Observables:(mass)\n",
      "sbModel_POI:(mu)\n",
      "sbModel__snapshot:(mu)\n",
      "\n",
      "generic objects\n",
      "---------------\n",
      "RooStats::ModelConfig::sbModel\n",
      "RooStats::ModelConfig::bModel\n",
      "\n",
      "Using data set obsData\n",
      "StandardHypoTestInvDemo : POI initial value:   mu = 0\n",
      " **********\n",
      " **    1 **SET PRINT           0\n",
      " **********\n",
      " **********\n",
      " **    2 **SET NOGRAD\n",
      " **********\n",
      " PARAMETER DEFINITIONS:\n",
      "    NO.   NAME         VALUE      STEP SIZE      LIMITS\n",
      "     1 mu           0.00000e+00  1.67340e-01    0.00000e+00  1.00000e+00\n",
      " MINUIT WARNING IN PARAM DEF\n",
      " ============== STARTING VALUE IS AT LIMIT.\n",
      " MINUIT WARNING IN PARAMETR\n",
      " ============== VARIABLE1 IS AT ITS LOWER ALLOWED LIMIT.\n",
      " MINUIT WARNING IN PARAMETR\n",
      " ============== VARIABLE1 BROUGHT BACK INSIDE LIMITS.\n",
      "     2 nbkg         4.21259e+02  2.30047e+01    0.00000e+00  1.00000e+03\n",
      "     3 tau         -2.97826e-02  2.72071e-03   -5.00000e-01 -1.00000e-03\n",
      "     4 theta_efficiency  -7.22905e-03  9.93354e-01   -5.00000e+00  5.00000e+00\n",
      "     5 theta_lumi  -2.85600e-03  9.93348e-01   -5.00000e+00  5.00000e+00\n",
      "     6 theta_mH     2.09726e-03  9.93596e-01   -5.00000e+00  5.00000e+00\n",
      "     7 theta_width   1.14864e-01  9.81858e-01   -5.00000e+00  5.00000e+00\n",
      " **********\n",
      " **    3 **SET ERR         0.5\n",
      " **********\n",
      " **********\n",
      " **    4 **SET PRINT           0\n",
      " **********\n",
      " **********\n",
      " **    5 **SET STR           0\n",
      " **********\n",
      " **********\n",
      " **    6 **MIGRAD        3500           1\n",
      " **********\n",
      " MINUIT WARNING IN MIGrad    \n",
      " ============== VARIABLE1 IS AT ITS LOWER ALLOWED LIMIT.\n",
      " MIGRAD MINIMIZATION HAS CONVERGED.\n",
      " FCN=-438.594 FROM MIGRAD    STATUS=CONVERGED     122 CALLS         123 TOTAL\n",
      "                     EDM=2.49376e-07    STRATEGY= 0      NO ERROR MATRIX       \n",
      "  EXT PARAMETER               CURRENT GUESS       STEP         FIRST   \n",
      "  NO.   NAME      VALUE            ERROR          SIZE      DERIVATIVE \n",
      "   1  mu           9.42910e-10   1.67340e-01  -1.91319e-03** at limit **\n",
      "   2  nbkg         4.76997e+02   2.30047e+01   9.53952e-05  -3.58151e-03\n",
      "   3  tau         -2.40923e-02   2.72071e-03   4.58752e-06   9.28689e-03\n",
      "   4  theta_efficiency   7.30971e-06   9.93354e-01   6.13289e-05   3.65494e-05\n",
      "   5  theta_lumi   2.92655e-06   9.93348e-01   2.44719e-05   1.46332e-05\n",
      "   6  theta_mH    -9.51225e-05   9.93596e-01  -1.07820e-04  -4.75620e-04\n",
      "   7  theta_width  -1.28410e-05   9.81858e-01  -2.30304e-04  -6.42073e-05\n",
      "                               ERR DEF= 0.5\n",
      "StandardHypoTestInvDemo - Best Fit value : mu = 9.4291e-10 +/- 0.16734\n",
      "Time for fitting : Real time 0:00:00, CP time 0.010\n",
      "StandardHypoTestInvo: snapshot of S+B Model sbModel is set to the best fit value\n",
      "[#0] PROGRESS:Eval -- AsymptoticCalculator::Initialize....\n",
      "[#0] PROGRESS:Eval -- AsymptoticCalculator::Initialize - Find  best unconditional NLL on observed data\n",
      "[#0] PROGRESS:Eval -- Best fitted POI value = 5.55112e-17 +/- 0.16734\n",
      "[#0] PROGRESS:Eval -- AsymptoticCalculator: Building Asimov data Set\n",
      "[#0] PROGRESS:Eval -- AsymptoticCalculator::Initialize Find  best conditional NLL on ASIMOV data set for given alt POI ( mu ) = 0\n",
      "Doing a fixed scan  in interval : 0 , 5\n",
      "[#0] WARNING:InputArguments -- HypoTestInverter::RunFixedScan - xMax > upper bound, use xmax = 1\n",
      "[#0] PROGRESS:Eval -- Running for mu = 0\n",
      "[#0] PROGRESS:Eval -- P values for  mu =  0\n",
      "\tCLs      = 1 +/- 0\n",
      "\tCLb      = 0.5 +/- 0\n",
      "\tCLsplusb = 0.5 +/- 0\n",
      "\n",
      "[#0] PROGRESS:Eval -- Running for mu = 0.0344828\n",
      "[#0] PROGRESS:Eval -- P values for  mu =  0.0344828\n",
      "\tCLs      = 0.657908 +/- 0\n",
      "\tCLb      = 0.0476477 +/- 0\n",
      "\tCLsplusb = 0.0313478 +/- 0\n",
      "\n",
      "[#0] PROGRESS:Eval -- Running for mu = 0.0689655\n",
      "[#0] PROGRESS:Eval -- P values for  mu =  0.0689655\n",
      "\tCLs      = 0.424008 +/- 0\n",
      "\tCLb      = 0.0499628 +/- 0\n",
      "\tCLsplusb = 0.0211847 +/- 0\n",
      "\n",
      "[#0] PROGRESS:Eval -- Running for mu = 0.103448\n",
      "[#0] PROGRESS:Eval -- P values for  mu =  0.103448\n",
      "\tCLs      = 0.267806 +/- 0\n",
      "\tCLb      = 0.0522908 +/- 0\n",
      "\tCLsplusb = 0.0140038 +/- 0\n",
      "\n",
      "[#0] PROGRESS:Eval -- Running for mu = 0.137931\n",
      "[#0] PROGRESS:Eval -- P values for  mu =  0.137931\n",
      "\tCLs      = 0.165839 +/- 0\n",
      "\tCLb      = 0.0546594 +/- 0\n",
      "\tCLsplusb = 0.00906468 +/- 0\n",
      "\n",
      "[#0] PROGRESS:Eval -- Running for mu = 0.172414\n",
      "[#0] PROGRESS:Eval -- P values for  mu =  0.172414\n",
      "\tCLs      = 0.100727 +/- 0\n",
      "\tCLb      = 0.0570425 +/- 0\n",
      "\tCLsplusb = 0.00574569 +/- 0\n",
      "\n",
      "[#0] PROGRESS:Eval -- Running for mu = 0.206897\n",
      "[#0] PROGRESS:Eval -- P values for  mu =  0.206897\n",
      "\tCLs      = 0.0600277 +/- 0\n",
      "\tCLb      = 0.0594649 +/- 0\n",
      "\tCLsplusb = 0.00356954 +/- 0\n",
      "\n",
      "[#0] PROGRESS:Eval -- Running for mu = 0.241379\n",
      "[#0] PROGRESS:Eval -- P values for  mu =  0.241379\n",
      "\tCLs      = 0.0351151 +/- 0\n",
      "\tCLb      = 0.0619133 +/- 0\n",
      "\tCLsplusb = 0.00217409 +/- 0\n",
      "\n",
      "[#0] PROGRESS:Eval -- Running for mu = 0.275862\n",
      "[#0] PROGRESS:Eval -- P values for  mu =  0.275862\n",
      "\tCLs      = 0.020172 +/- 0\n",
      "\tCLb      = 0.0643839 +/- 0\n",
      "\tCLsplusb = 0.00129875 +/- 0\n",
      "\n",
      "[#0] PROGRESS:Eval -- Running for mu = 0.310345\n",
      "[#0] PROGRESS:Eval -- P values for  mu =  0.310345\n",
      "\tCLs      = 0.0113839 +/- 0\n",
      "\tCLb      = 0.066873 +/- 0\n",
      "\tCLsplusb = 0.000761276 +/- 0\n",
      "\n",
      "[#0] PROGRESS:Eval -- Running for mu = 0.344828\n",
      "[#0] PROGRESS:Eval -- P values for  mu =  0.344828\n",
      "\tCLs      = 0.0063139 +/- 0\n",
      "\tCLb      = 0.0693772 +/- 0\n",
      "\tCLsplusb = 0.000438041 +/- 0\n",
      "\n",
      "[#0] PROGRESS:Eval -- Running for mu = 0.37931\n",
      "[#0] PROGRESS:Eval -- P values for  mu =  0.37931\n",
      "\tCLs      = 0.00344305 +/- 0\n",
      "\tCLb      = 0.0718932 +/- 0\n",
      "\tCLsplusb = 0.000247532 +/- 0\n",
      "\n",
      "[#0] PROGRESS:Eval -- Running for mu = 0.413793\n",
      "[#0] PROGRESS:Eval -- P values for  mu =  0.413793\n",
      "\tCLs      = 0.00184672 +/- 0\n",
      "\tCLb      = 0.0744183 +/- 0\n",
      "\tCLsplusb = 0.00013743 +/- 0\n",
      "\n",
      "[#0] PROGRESS:Eval -- Running for mu = 0.448276\n",
      "[#0] PROGRESS:Eval -- P values for  mu =  0.448276\n",
      "\tCLs      = 0.000974643 +/- 0\n",
      "\tCLb      = 0.0769497 +/- 0\n",
      "\tCLsplusb = 7.49985e-05 +/- 0\n",
      "\n",
      "[#0] PROGRESS:Eval -- Running for mu = 0.482759\n",
      "[#0] PROGRESS:Eval -- P values for  mu =  0.482759\n",
      "\tCLs      = 0.000506347 +/- 0\n",
      "\tCLb      = 0.0794854 +/- 0\n",
      "\tCLsplusb = 4.02472e-05 +/- 0\n",
      "\n",
      "[#0] PROGRESS:Eval -- Running for mu = 0.517241\n",
      "[#0] PROGRESS:Eval -- P values for  mu =  0.517241\n",
      "\tCLs      = 0.000259047 +/- 0\n",
      "\tCLb      = 0.0820234 +/- 0\n",
      "\tCLsplusb = 2.1248e-05 +/- 0\n",
      "\n",
      "[#0] PROGRESS:Eval -- Running for mu = 0.551724\n",
      "[#0] PROGRESS:Eval -- P values for  mu =  0.551724\n",
      "\tCLs      = 0.00013056 +/- 0\n",
      "\tCLb      = 0.0845619 +/- 0\n",
      "\tCLsplusb = 1.10404e-05 +/- 0\n",
      "\n",
      "[#0] PROGRESS:Eval -- Running for mu = 0.586207\n",
      "[#0] PROGRESS:Eval -- P values for  mu =  0.586207\n",
      "\tCLs      = 6.48491e-05 +/- 0\n",
      "\tCLb      = 0.0871002 +/- 0\n",
      "\tCLsplusb = 5.64837e-06 +/- 0\n",
      "\n",
      "[#0] PROGRESS:Eval -- Running for mu = 0.62069\n",
      "[#0] PROGRESS:Eval -- P values for  mu =  0.62069\n",
      "\tCLs      = 3.17573e-05 +/- 0\n",
      "\tCLb      = 0.0896385 +/- 0\n",
      "\tCLsplusb = 2.84668e-06 +/- 0\n",
      "\n",
      "[#0] PROGRESS:Eval -- Running for mu = 0.655172\n",
      "[#0] PROGRESS:Eval -- P values for  mu =  0.655172\n",
      "\tCLs      = 1.53382e-05 +/- 0\n",
      "\tCLb      = 0.0921739 +/- 0\n",
      "\tCLsplusb = 1.41378e-06 +/- 0\n",
      "\n",
      "[#0] PROGRESS:Eval -- Running for mu = 0.689655\n",
      "[#0] PROGRESS:Eval -- P values for  mu =  0.689655\n",
      "\tCLs      = 7.30945e-06 +/- 0\n",
      "\tCLb      = 0.094709 +/- 0\n",
      "\tCLsplusb = 6.92271e-07 +/- 0\n",
      "\n",
      "[#0] PROGRESS:Eval -- Running for mu = 0.724138\n",
      "[#0] PROGRESS:Eval -- P values for  mu =  0.724138\n",
      "\tCLs      = 3.43803e-06 +/- 0\n",
      "\tCLb      = 0.0972405 +/- 0\n",
      "\tCLsplusb = 3.34316e-07 +/- 0\n",
      "\n",
      "[#0] PROGRESS:Eval -- Running for mu = 0.758621\n",
      "[#0] PROGRESS:Eval -- P values for  mu =  0.758621\n",
      "\tCLs      = 1.59669e-06 +/- 0\n",
      "\tCLb      = 0.0997701 +/- 0\n",
      "\tCLsplusb = 1.59302e-07 +/- 0\n",
      "\n",
      "[#0] PROGRESS:Eval -- Running for mu = 0.793103\n",
      "[#0] PROGRESS:Eval -- P values for  mu =  0.793103\n",
      "\tCLs      = 7.32455e-07 +/- 0\n",
      "\tCLb      = 0.102298 +/- 0\n",
      "\tCLsplusb = 7.49287e-08 +/- 0\n",
      "\n",
      "[#0] PROGRESS:Eval -- Running for mu = 0.827586\n",
      "[#0] PROGRESS:Eval -- P values for  mu =  0.827586\n",
      "\tCLs      = 3.32005e-07 +/- 0\n",
      "\tCLb      = 0.104825 +/- 0\n",
      "\tCLsplusb = 3.48025e-08 +/- 0\n",
      "\n",
      "[#0] PROGRESS:Eval -- Running for mu = 0.862069\n",
      "[#0] PROGRESS:Eval -- P values for  mu =  0.862069\n",
      "\tCLs      = 1.48755e-07 +/- 0\n",
      "\tCLb      = 0.10735 +/- 0\n",
      "\tCLsplusb = 1.59689e-08 +/- 0\n",
      "\n",
      "[#0] PROGRESS:Eval -- Running for mu = 0.896552\n",
      "[#0] PROGRESS:Eval -- P values for  mu =  0.896552\n",
      "\tCLs      = 6.5904e-08 +/- 0\n",
      "\tCLb      = 0.109878 +/- 0\n",
      "\tCLsplusb = 7.24143e-09 +/- 0\n",
      "\n",
      "[#0] PROGRESS:Eval -- Running for mu = 0.931034\n",
      "[#0] PROGRESS:Eval -- P values for  mu =  0.931034\n",
      "\tCLs      = 2.88815e-08 +/- 0\n",
      "\tCLb      = 0.112408 +/- 0\n",
      "\tCLsplusb = 3.24653e-09 +/- 0\n",
      "\n",
      "[#0] PROGRESS:Eval -- Running for mu = 0.965517\n",
      "[#0] PROGRESS:Eval -- P values for  mu =  0.965517\n",
      "\tCLs      = 1.25241e-08 +/- 0\n",
      "\tCLb      = 0.114942 +/- 0\n",
      "\tCLsplusb = 1.43955e-09 +/- 0\n",
      "\n",
      "[#0] PROGRESS:Eval -- Running for mu = 1\n",
      "[#0] PROGRESS:Eval -- P values for  mu =  1\n",
      "\tCLs      = 5.37581e-09 +/- 0\n",
      "\tCLb      = 0.117481 +/- 0\n",
      "\tCLsplusb = 6.31558e-10 +/- 0\n",
      "\n",
      "Time to perform limit scan \n",
      "Real time 0:00:00, CP time 0.330\n",
      "The computed upper limit is: 0.220777 +/- 0\n",
      "Expected upper limits, using the B (alternate) model : \n",
      " expected limit (median) 0.368441\n",
      " expected limit (-1 sig) 0.262208\n",
      " expected limit (+1 sig) 0.523176\n",
      " expected limit (-2 sig) 0.194341\n",
      " expected limit (+2 sig) 0.720865\n"
     ]
    },
    {
     "name": "stderr",
     "output_type": "stream",
     "text": [
      "Info in <StandardHypoTestInvDemo>: Using Minuit as minimizer for computing the test statistic\n",
      "Info in <StandardHypoTestInvDemo>:  Doing a first fit to the observed data \n",
      "Info in <StandardHypoTestInvDemo>: HypoTestInverterResult has been written in the file Asym_CLs_grid_ts3_ws_shape_110.root\n",
      "Warning in <TCanvas::Constructor>: Deleting canvas with same name: Asymptotic_Scan\n",
      "Warning in <TROOT::Append>: Replacing existing TH1: CLs_observed (Potential memory leak).\n",
      "Warning in <TROOT::Append>: Replacing existing TH1: CLs_observed (Potential memory leak).\n"
     ]
    }
   ],
   "source": [
    "ROOT.gROOT.LoadMacro('StandardHypoTestInvDemo.C')\n",
    "ROOT.StandardHypoTestInvDemo(\"ws_shape_110.root\", \"ws_shape\", \"sbModel\", \"bModel\", \"obsData\", 2, 3, True, 30)"
   ]
  },
  {
   "cell_type": "code",
   "execution_count": 27,
   "metadata": {
    "slideshow": {
     "slide_type": "subslide"
    }
   },
   "outputs": [
    {
     "data": {
      "image/png": "[encoded data removed]",
      "text/plain": [
       "<IPython.core.display.Image object>"
      ]
     },
     "metadata": {},
     "output_type": "display_data"
    }
   ],
   "source": [
    "fresult = ROOT.TFile(\"Asym_CLs_grid_ts3_ws_shape_110.root\")\n",
    "result = fresult.Get(\"result_mu\")\n",
    "plot = RooStats.HypoTestInverterPlot(\"result\", \"result\", result)\n",
    "plot.Draw()\n",
    "ROOT.gPad.Draw()"
   ]
  },
  {
   "cell_type": "markdown",
   "metadata": {
    "slideshow": {
     "slide_type": "slide"
    }
   },
   "source": [
    "## Example of result you can find around"
   ]
  },
  {
   "cell_type": "markdown",
   "metadata": {
    "slideshow": {
     "slide_type": "subslide"
    }
   },
   "source": [
    "<img src=\"img/figaux_004a.png\" width=\"80%\">"
   ]
  },
  {
   "cell_type": "markdown",
   "metadata": {
    "slideshow": {
     "slide_type": "subslide"
    }
   },
   "source": [
    "<img src=\"img/figaux_007a.png\" width=\"90%\">"
   ]
  },
  {
   "cell_type": "markdown",
   "metadata": {
    "slideshow": {
     "slide_type": "subslide"
    }
   },
   "source": [
    "<img src=\"img/figaux_007b.png\" width=\"90%\">"
   ]
  },
  {
   "cell_type": "markdown",
   "metadata": {
    "slideshow": {
     "slide_type": "subslide"
    }
   },
   "source": [
    "<img src=\"img/atlas_mH_ws.jpg\" width=\"75%\">"
   ]
  },
  {
   "cell_type": "markdown",
   "metadata": {
    "slideshow": {
     "slide_type": "slide"
    }
   },
   "source": [
    "## Topic not coverted, but important if you want to do hypothesis test in HEP\n",
    "\n",
    "   * Look elesewhere effect\n",
    "   * CLs\n",
    "   * Asimov dataset"
   ]
  },
  {
   "cell_type": "markdown",
   "metadata": {
    "slideshow": {
     "slide_type": "slide"
    }
   },
   "source": [
    "## Last (big) exercize\n",
    "Redo one of the example where we have use the frequentist calculator, without using it, reimplementing the toy generation and the computation of the test statistic by hand"
   ]
  }
 ],
 "metadata": {
  "celltoolbar": "Slideshow",
  "hide_input": false,
  "kernelspec": {
   "display_name": "Python 3",
   "language": "python",
   "name": "python3"
  },
  "language_info": {
   "codemirror_mode": {
    "name": "ipython",
    "version": 3
   },
   "file_extension": ".py",
   "mimetype": "text/x-python",
   "name": "python",
   "nbconvert_exporter": "python",
   "pygments_lexer": "ipython3",
   "version": "3.7.3"
  },
  "latex_envs": {
   "bibliofile": "biblio.bib",
   "cite_by": "apalike",
   "current_citInitial": 1,
   "eqLabelWithNumbers": true,
   "eqNumInitial": 0
  }
 },
 "nbformat": 4,
 "nbformat_minor": 1
}
