{
 "cells": [
  {
   "cell_type": "code",
   "execution_count": 1,
   "metadata": {
    "slideshow": {
     "slide_type": "skip"
    }
   },
   "outputs": [
    {
     "name": "stdout",
     "output_type": "stream",
     "text": [
      "Welcome to JupyROOT 6.26/10\n"
     ]
    }
   ],
   "source": [
    "from matplotlib import pyplot as plt\n",
    "import numpy as np\n",
    "from scipy import stats\n",
    "import pandas as pd\n",
    "from IPython.display import HTML, IFrame, Image, SVG, Latex\n",
    "import re\n",
    "import ROOT\n",
    "from ROOT import RooFit, RooStats\n",
    "%matplotlib inline\n",
    "#%matplotlib nbagg\n",
    "#%matplotlib notebook\n",
    "from ipywidgets import interact, interactive, fixed"
   ]
  },
  {
   "cell_type": "code",
   "execution_count": 2,
   "metadata": {
    "slideshow": {
     "slide_type": "skip"
    }
   },
   "outputs": [],
   "source": [
    "ROOT.RooMsgService.instance().getStream(1).removeTopic(ROOT.RooFit.NumIntegration)\n",
    "ROOT.RooMsgService.instance().getStream(1).removeTopic(ROOT.RooFit.Fitting)\n",
    "ROOT.RooMsgService.instance().getStream(1).removeTopic(ROOT.RooFit.Minimization)\n",
    "ROOT.RooMsgService.instance().getStream(1).removeTopic(ROOT.RooFit.InputArguments)\n",
    "ROOT.RooMsgService.instance().getStream(1).removeTopic(ROOT.RooFit.Eval)\n",
    "ROOT.RooMsgService.instance().getStream(1).removeTopic(ROOT.RooFit.DataHandling)\n",
    "ROOT.RooMsgService.instance().setGlobalKillBelow(ROOT.RooFit.ERROR)\n",
    "ROOT.RooMsgService.instance().setSilentMode(True)"
   ]
  },
  {
   "cell_type": "code",
   "execution_count": 3,
   "metadata": {
    "slideshow": {
     "slide_type": "skip"
    }
   },
   "outputs": [
    {
     "data": {
      "text/html": [
       "<link rel=\"stylesheet\" href=\"custom.css\" type=\"text/css\">"
      ],
      "text/plain": [
       "<IPython.core.display.HTML object>"
      ]
     },
     "execution_count": 3,
     "metadata": {},
     "output_type": "execute_result"
    }
   ],
   "source": [
    "HTML('<link rel=\"stylesheet\" href=\"custom.css\" type=\"text/css\">')"
   ]
  },
  {
   "cell_type": "code",
   "execution_count": 4,
   "metadata": {
    "slideshow": {
     "slide_type": "skip"
    }
   },
   "outputs": [],
   "source": [
    "#from notebook.services.config import ConfigManager\n",
    "#cm = ConfigManager()\n",
    "#cm.update('livereveal', {\n",
    "#          'theme': 'sans',\n",
    "#          'transition': 'zoom',\n",
    "#})"
   ]
  },
  {
   "cell_type": "code",
   "execution_count": 5,
   "metadata": {
    "slideshow": {
     "slide_type": "skip"
    }
   },
   "outputs": [],
   "source": [
    "def iter_collection(rooAbsCollection):\n",
    "    iterator = rooAbsCollection.createIterator()\n",
    "    object = iterator.Next()\n",
    "    while object:\n",
    "        yield object\n",
    "        object = iterator.Next()"
   ]
  },
  {
   "cell_type": "markdown",
   "metadata": {
    "slideshow": {
     "slide_type": "slide"
    }
   },
   "source": [
    "# Lecture 3\n",
    "\n",
    "<p style=\"text-align: center;\"><i class=\"icon-user icon-2x\"><a href=\"mailto:ruggero.turra@mi.infn.it\">ruggero.turra@mi.infn.it</a></i></p>\n",
    "<br/>\n",
    "\n",
    "## Content of the lecture\n",
    "\n",
    "   * Systematics\n",
    "   * Shape analysis\n",
    "   * Test statistic for discovery and exclusions"
   ]
  },
  {
   "cell_type": "markdown",
   "metadata": {
    "slideshow": {
     "slide_type": "slide"
    }
   },
   "source": [
    "Restart from the on/off problem.\n",
    "\n",
    "We observe the number of events in the signal region $n_{SR}$ and in the control region $n_{CR}$. $\\alpha$ is the ratio of the expected background in the CR with respect to the SR. We can write the likelihood as:\n",
    "\n",
    "$$L(s, b|n_{SR}, n_{CR}) = \\text{Pois}(n_{SR}|s + b) \\text{Pois}(n_{CR}|\\alpha b)$$\n",
    "\n",
    "The test statistics is based on the profiled likelihood ratio:\n",
    "\n",
    "$$-2\\log\\lambda = -2\\log\\frac{\\sup_{b \\in [0, \\infty], s\\in\\{0\\}}{L(s, b)}}{\\sup_{b\\in [0, \\infty], s\\in [0, \\infty]}{L(s, b)}} = -2\\log\\frac{L(0, \\hat{\\hat{b}}(s=0))}{L(\\hat{s}, \\hat{b})}$$"
   ]
  },
  {
   "cell_type": "markdown",
   "metadata": {
    "slideshow": {
     "slide_type": "slide"
    }
   },
   "source": [
    "## Systematics\n",
    "\n",
    "How we can incorporate systematics inside our model? Suppose we know the parameter $\\alpha$ with a relative uncertainty $\\sigma_\\alpha$. We can imagine that there is another measurement (auxiliary measurement), that measured $\\alpha$ (the parameter of the model of the auxiliary measurement) and observed $a$. We can write the likelihood of the auxiliary measurement as $L(a|\\alpha) = N(a|\\alpha, \\delta_\\alpha)$, if assume that $a$ is normally distributed aroud the true value $\\alpha$ and $\\delta\\alpha$ is the absolute error on $\\alpha$ ($\\delta\\alpha=\\sigma_\\alpha a$)\n",
    "\n",
    "\n",
    "\n"
   ]
  },
  {
   "cell_type": "markdown",
   "metadata": {
    "slideshow": {
     "slide_type": "subslide"
    }
   },
   "source": [
    "We can join the auxiliary measurement with our on/off model:\n",
    "\n",
    "$$L(s, b, a|N_{SR}, N_{CR}, \\alpha) = L(s, b|N_{SR}, N_{CR}) L(a|\\alpha)$$\n",
    "\n",
    "or more explicitely:\n",
    "\n",
    "$$\\text{Pois}(N_{SR}|s + b) \\text{Pois}(N_{CR}|\\alpha b) \\times N(a|\\alpha, \\delta_\\alpha)$$\n",
    "\n",
    "Usually this is written as:\n",
    "\n",
    "$$\\text{Pois}(N_{SR}|s + b) \\text{Pois}(N_{CR}|a (1 + \\sigma_\\alpha\\theta_\\alpha) b) \\times N(0|\\theta_\\alpha, 1)$$\n",
    "\n",
    "The first term is called the \"physical\" pdf, while the second is called the \"constraints\".\n"
   ]
  },
  {
   "cell_type": "code",
   "execution_count": 6,
   "metadata": {
    "scrolled": true,
    "slideshow": {
     "slide_type": "subslide"
    }
   },
   "outputs": [],
   "source": [
    "#ws = ws_onoff_withsys = ws_onoff.Clone(\"ws_onoff_withsys\")\n",
    "f = ROOT.TFile.Open(\"onoff.root\")\n",
    "ws_onoff = f.Get(\"ws_onoff\")\n",
    "\n",
    "# create the term kalpha = (1 + sigma * theta) with a relative error of 20%\n",
    "ws_onoff.factory('expr:kalpha(\"1 + @0 * @1\", {sigma_alpha[0.2], theta_alpha[0, -5, 5]})')\n",
    "ws_onoff.factory('prod:alpha_x_kappa(alpha, kalpha)')\n",
    "# create new pdf model replacing alpha -> alpha_x_kalpha\n",
    "ws_onoff.factory('EDIT:model_with_sys(model, alpha=alpha_x_kappa)')\n",
    " \n",
    "# create new workspace\n",
    "ws_onoff_sys = ROOT.RooWorkspace('ws_onoff_sys')\n",
    "getattr(ws_onoff_sys, 'import')(ws_onoff.pdf('model_with_sys'))\n",
    "# create the constraint\n",
    "ws_onoff_sys.factory(\"Gaussian:constraint_alpha(global_alpha[0, -5, 5], theta_alpha, 1)\")\n",
    "ws_onoff_sys.var(\"global_alpha\").setConstant(True)\n",
    "# final pdf\n",
    "model = ws_onoff_sys.factory(\"PROD:model_constrained(model_with_sys, constraint_alpha)\")"
   ]
  },
  {
   "cell_type": "code",
   "execution_count": 7,
   "metadata": {
    "slideshow": {
     "slide_type": "subslide"
    }
   },
   "outputs": [
    {
     "name": "stdout",
     "output_type": "stream",
     "text": [
      "\n",
      "RooWorkspace(ws_onoff_sys) ws_onoff_sys contents\n",
      "\n",
      "variables\n",
      "---------\n",
      "(alpha,b,global_alpha,n_cr,n_sr,s,sigma_alpha,theta_alpha)\n",
      "\n",
      "p.d.f.s\n",
      "-------\n",
      "RooPoisson::N_CR_model_with_sys[ x=n_cr mean=alpha_x_b_model_with_sys ] = 0\n",
      "RooPoisson::N_SR[ x=n_sr mean=s_plus_b ] = 0\n",
      "RooGaussian::constraint_alpha[ x=global_alpha mean=theta_alpha sigma=1 ] = 1\n",
      "RooProdPdf::model_constrained[ model_with_sys * constraint_alpha ] = 0\n",
      "RooProdPdf::model_with_sys[ N_SR * N_CR_model_with_sys ] = 0\n",
      "\n",
      "functions\n",
      "--------\n",
      "RooProduct::alpha_x_b_model_with_sys[ alpha_x_kappa * b ] = 500\n",
      "RooProduct::alpha_x_kappa[ alpha * kalpha ] = 10\n",
      "RooFormulaVar::kalpha[ actualVars=(sigma_alpha,theta_alpha) formula=\"1+@0*@1\" ] = 1\n",
      "RooAddition::s_plus_b[ s + b ] = 50\n",
      "\n"
     ]
    }
   ],
   "source": [
    "ws_onoff_sys.Print()"
   ]
  },
  {
   "cell_type": "code",
   "execution_count": 8,
   "metadata": {
    "slideshow": {
     "slide_type": "subslide"
    }
   },
   "outputs": [
    {
     "data": {
      "image/svg+xml": [
       "<svg xmlns=\"http://www.w3.org/2000/svg\" xmlns:xlink=\"http://www.w3.org/1999/xlink\" width=\"90%\" height=\"\" viewBox=\"0.00 0.00 996.31 748.67\">\n",
       "<g id=\"graph0\" class=\"graph\" transform=\"scale(1 1) rotate(0) translate(4 744.67)\">\n",
       "<title>model_constrained</title>\n",
       "<polygon fill=\"white\" stroke=\"none\" points=\"-4,4 -4,-744.67 992.31,-744.67 992.31,4 -4,4\"/>\n",
       "<!-- model_constrained -->\n",
       "<g id=\"node1\" class=\"node\">\n",
       "<title>model_constrained</title>\n",
       "<ellipse fill=\"none\" stroke=\"red\" cx=\"608.5\" cy=\"-703.2\" rx=\"84.71\" ry=\"37.45\"/>\n",
       "<text text-anchor=\"middle\" x=\"608.5\" y=\"-714.5\" font-family=\"Times,serif\" font-size=\"14.00\">RooProdPdf</text>\n",
       "<text text-anchor=\"middle\" x=\"608.5\" y=\"-699.5\" font-family=\"Times,serif\" font-size=\"14.00\">model_constrained</text>\n",
       "<text text-anchor=\"middle\" x=\"608.5\" y=\"-684.5\" font-family=\"Times,serif\" font-size=\"14.00\">0.000000</text>\n",
       "</g>\n",
       "<!-- model_with_sys -->\n",
       "<g id=\"node2\" class=\"node\">\n",
       "<title>model_with_sys</title>\n",
       "<ellipse fill=\"none\" stroke=\"red\" cx=\"511.5\" cy=\"-592.24\" rx=\"74.91\" ry=\"37.45\"/>\n",
       "<text text-anchor=\"middle\" x=\"511.5\" y=\"-603.54\" font-family=\"Times,serif\" font-size=\"14.00\">RooProdPdf</text>\n",
       "<text text-anchor=\"middle\" x=\"511.5\" y=\"-588.54\" font-family=\"Times,serif\" font-size=\"14.00\">model_with_sys</text>\n",
       "<text text-anchor=\"middle\" x=\"511.5\" y=\"-573.54\" font-family=\"Times,serif\" font-size=\"14.00\">0.000000</text>\n",
       "</g>\n",
       "<!-- model_constrained&#45;&gt;model_with_sys -->\n",
       "<g id=\"edge18\" class=\"edge\">\n",
       "<title>model_constrained-&gt;model_with_sys</title>\n",
       "<path fill=\"none\" stroke=\"black\" d=\"M578.08,-668.02C568.6,-657.37 558.04,-645.52 548.18,-634.44\"/>\n",
       "<polygon fill=\"black\" stroke=\"black\" points=\"550.75,-632.06 541.49,-626.92 545.52,-636.72 550.75,-632.06\"/>\n",
       "</g>\n",
       "<!-- constraint_alpha -->\n",
       "<g id=\"node16\" class=\"node\">\n",
       "<title>constraint_alpha</title>\n",
       "<ellipse fill=\"none\" stroke=\"red\" cx=\"739.5\" cy=\"-592.24\" rx=\"74.91\" ry=\"37.45\"/>\n",
       "<text text-anchor=\"middle\" x=\"739.5\" y=\"-603.54\" font-family=\"Times,serif\" font-size=\"14.00\">RooGaussian</text>\n",
       "<text text-anchor=\"middle\" x=\"739.5\" y=\"-588.54\" font-family=\"Times,serif\" font-size=\"14.00\">constraint_alpha</text>\n",
       "<text text-anchor=\"middle\" x=\"739.5\" y=\"-573.54\" font-family=\"Times,serif\" font-size=\"14.00\">1.000000</text>\n",
       "</g>\n",
       "<!-- model_constrained&#45;&gt;constraint_alpha -->\n",
       "<g id=\"edge19\" class=\"edge\">\n",
       "<title>model_constrained-&gt;constraint_alpha</title>\n",
       "<path fill=\"none\" stroke=\"black\" d=\"M647.45,-669.8C661.97,-657.73 678.57,-643.92 693.65,-631.38\"/>\n",
       "<polygon fill=\"black\" stroke=\"black\" points=\"695.93,-634.04 701.38,-624.95 691.45,-628.65 695.93,-634.04\"/>\n",
       "</g>\n",
       "<!-- N_CR_model_with_sys -->\n",
       "<g id=\"node3\" class=\"node\">\n",
       "<title>N_CR_model_with_sys</title>\n",
       "<ellipse fill=\"none\" stroke=\"red\" cx=\"319.5\" cy=\"-481.29\" rx=\"103.89\" ry=\"37.45\"/>\n",
       "<text text-anchor=\"middle\" x=\"319.5\" y=\"-492.59\" font-family=\"Times,serif\" font-size=\"14.00\">RooPoisson</text>\n",
       "<text text-anchor=\"middle\" x=\"319.5\" y=\"-477.59\" font-family=\"Times,serif\" font-size=\"14.00\">N_CR_model_with_sys</text>\n",
       "<text text-anchor=\"middle\" x=\"319.5\" y=\"-462.59\" font-family=\"Times,serif\" font-size=\"14.00\">0.000000</text>\n",
       "</g>\n",
       "<!-- model_with_sys&#45;&gt;N_CR_model_with_sys -->\n",
       "<g id=\"edge14\" class=\"edge\">\n",
       "<title>model_with_sys-&gt;N_CR_model_with_sys</title>\n",
       "<path fill=\"none\" stroke=\"black\" d=\"M462.55,-563.47C438.4,-549.76 408.98,-533.06 383.1,-518.38\"/>\n",
       "<polygon fill=\"black\" stroke=\"black\" points=\"384.54,-515.17 374.11,-513.28 381.08,-521.26 384.54,-515.17\"/>\n",
       "</g>\n",
       "<!-- N_SR -->\n",
       "<g id=\"node12\" class=\"node\">\n",
       "<title>N_SR</title>\n",
       "<ellipse fill=\"none\" stroke=\"red\" cx=\"511.5\" cy=\"-481.29\" rx=\"57.05\" ry=\"37.45\"/>\n",
       "<text text-anchor=\"middle\" x=\"511.5\" y=\"-492.59\" font-family=\"Times,serif\" font-size=\"14.00\">RooPoisson</text>\n",
       "<text text-anchor=\"middle\" x=\"511.5\" y=\"-477.59\" font-family=\"Times,serif\" font-size=\"14.00\">N_SR</text>\n",
       "<text text-anchor=\"middle\" x=\"511.5\" y=\"-462.59\" font-family=\"Times,serif\" font-size=\"14.00\">0.000000</text>\n",
       "</g>\n",
       "<!-- model_with_sys&#45;&gt;N_SR -->\n",
       "<g id=\"edge13\" class=\"edge\">\n",
       "<title>model_with_sys-&gt;N_SR</title>\n",
       "<path fill=\"none\" stroke=\"black\" d=\"M511.5,-554.66C511.5,-546.49 511.5,-537.71 511.5,-529.18\"/>\n",
       "<polygon fill=\"black\" stroke=\"black\" points=\"515,-528.96 511.5,-518.96 508,-528.96 515,-528.96\"/>\n",
       "</g>\n",
       "<!-- alpha_x_b_model_with_sys -->\n",
       "<g id=\"node4\" class=\"node\">\n",
       "<title>alpha_x_b_model_with_sys</title>\n",
       "<ellipse fill=\"none\" stroke=\"red\" cx=\"119.5\" cy=\"-370.34\" rx=\"119.5\" ry=\"37.45\"/>\n",
       "<text text-anchor=\"middle\" x=\"119.5\" y=\"-381.64\" font-family=\"Times,serif\" font-size=\"14.00\">RooProduct</text>\n",
       "<text text-anchor=\"middle\" x=\"119.5\" y=\"-366.64\" font-family=\"Times,serif\" font-size=\"14.00\">alpha_x_b_model_with_sys</text>\n",
       "<text text-anchor=\"middle\" x=\"119.5\" y=\"-351.64\" font-family=\"Times,serif\" font-size=\"14.00\">500.000000</text>\n",
       "</g>\n",
       "<!-- N_CR_model_with_sys&#45;&gt;alpha_x_b_model_with_sys -->\n",
       "<g id=\"edge8\" class=\"edge\">\n",
       "<title>N_CR_model_with_sys-&gt;alpha_x_b_model_with_sys</title>\n",
       "<path fill=\"none\" stroke=\"black\" d=\"M263.26,-449.65C239.49,-436.7 211.61,-421.51 186.76,-407.98\"/>\n",
       "<polygon fill=\"black\" stroke=\"black\" points=\"188.21,-404.78 177.76,-403.07 184.86,-410.93 188.21,-404.78\"/>\n",
       "</g>\n",
       "<!-- n_cr -->\n",
       "<g id=\"node11\" class=\"node\">\n",
       "<title>n_cr</title>\n",
       "<ellipse fill=\"none\" stroke=\"blue\" cx=\"319.5\" cy=\"-370.34\" rx=\"62.45\" ry=\"37.45\"/>\n",
       "<text text-anchor=\"middle\" x=\"319.5\" y=\"-381.64\" font-family=\"Times,serif\" font-size=\"14.00\">RooRealVar</text>\n",
       "<text text-anchor=\"middle\" x=\"319.5\" y=\"-366.64\" font-family=\"Times,serif\" font-size=\"14.00\">n_cr</text>\n",
       "<text text-anchor=\"middle\" x=\"319.5\" y=\"-351.64\" font-family=\"Times,serif\" font-size=\"14.00\">2500.000000</text>\n",
       "</g>\n",
       "<!-- N_CR_model_with_sys&#45;&gt;n_cr -->\n",
       "<g id=\"edge7\" class=\"edge\">\n",
       "<title>N_CR_model_with_sys-&gt;n_cr</title>\n",
       "<path fill=\"none\" stroke=\"black\" d=\"M319.5,-443.71C319.5,-435.53 319.5,-426.75 319.5,-418.23\"/>\n",
       "<polygon fill=\"black\" stroke=\"black\" points=\"323,-418.01 319.5,-408.01 316,-418.01 323,-418.01\"/>\n",
       "</g>\n",
       "<!-- b -->\n",
       "<g id=\"node5\" class=\"node\">\n",
       "<title>b</title>\n",
       "<ellipse fill=\"none\" stroke=\"blue\" cx=\"417.5\" cy=\"-259.38\" rx=\"58.88\" ry=\"37.45\"/>\n",
       "<text text-anchor=\"middle\" x=\"417.5\" y=\"-270.68\" font-family=\"Times,serif\" font-size=\"14.00\">RooRealVar</text>\n",
       "<text text-anchor=\"middle\" x=\"417.5\" y=\"-255.68\" font-family=\"Times,serif\" font-size=\"14.00\">b</text>\n",
       "<text text-anchor=\"middle\" x=\"417.5\" y=\"-240.68\" font-family=\"Times,serif\" font-size=\"14.00\">50.000000</text>\n",
       "</g>\n",
       "<!-- alpha_x_b_model_with_sys&#45;&gt;b -->\n",
       "<g id=\"edge9\" class=\"edge\">\n",
       "<title>alpha_x_b_model_with_sys-&gt;b</title>\n",
       "<path fill=\"none\" stroke=\"black\" d=\"M195.86,-341.42C246.09,-323.05 310.9,-299.36 357.45,-282.34\"/>\n",
       "<polygon fill=\"black\" stroke=\"black\" points=\"358.9,-285.53 367.09,-278.81 356.5,-278.96 358.9,-285.53\"/>\n",
       "</g>\n",
       "<!-- alpha_x_kappa -->\n",
       "<g id=\"node6\" class=\"node\">\n",
       "<title>alpha_x_kappa</title>\n",
       "<ellipse fill=\"none\" stroke=\"red\" cx=\"170.5\" cy=\"-259.38\" rx=\"69.09\" ry=\"37.45\"/>\n",
       "<text text-anchor=\"middle\" x=\"170.5\" y=\"-270.68\" font-family=\"Times,serif\" font-size=\"14.00\">RooProduct</text>\n",
       "<text text-anchor=\"middle\" x=\"170.5\" y=\"-255.68\" font-family=\"Times,serif\" font-size=\"14.00\">alpha_x_kappa</text>\n",
       "<text text-anchor=\"middle\" x=\"170.5\" y=\"-240.68\" font-family=\"Times,serif\" font-size=\"14.00\">10.000000</text>\n",
       "</g>\n",
       "<!-- alpha_x_b_model_with_sys&#45;&gt;alpha_x_kappa -->\n",
       "<g id=\"edge10\" class=\"edge\">\n",
       "<title>alpha_x_b_model_with_sys-&gt;alpha_x_kappa</title>\n",
       "<path fill=\"none\" stroke=\"black\" d=\"M136.48,-333.06C140.66,-324.14 145.17,-314.49 149.51,-305.23\"/>\n",
       "<polygon fill=\"black\" stroke=\"black\" points=\"152.7,-306.67 153.77,-296.13 146.36,-303.71 152.7,-306.67\"/>\n",
       "</g>\n",
       "<!-- alpha -->\n",
       "<g id=\"node7\" class=\"node\">\n",
       "<title>alpha</title>\n",
       "<ellipse fill=\"none\" stroke=\"blue\" cx=\"170.5\" cy=\"-148.43\" rx=\"58.88\" ry=\"37.45\"/>\n",
       "<text text-anchor=\"middle\" x=\"170.5\" y=\"-159.73\" font-family=\"Times,serif\" font-size=\"14.00\">RooRealVar</text>\n",
       "<text text-anchor=\"middle\" x=\"170.5\" y=\"-144.73\" font-family=\"Times,serif\" font-size=\"14.00\">alpha</text>\n",
       "<text text-anchor=\"middle\" x=\"170.5\" y=\"-129.73\" font-family=\"Times,serif\" font-size=\"14.00\">10.000000</text>\n",
       "</g>\n",
       "<!-- alpha_x_kappa&#45;&gt;alpha -->\n",
       "<g id=\"edge1\" class=\"edge\">\n",
       "<title>alpha_x_kappa-&gt;alpha</title>\n",
       "<path fill=\"none\" stroke=\"black\" d=\"M170.5,-221.8C170.5,-213.63 170.5,-204.85 170.5,-196.32\"/>\n",
       "<polygon fill=\"black\" stroke=\"black\" points=\"174,-196.1 170.5,-186.1 167,-196.1 174,-196.1\"/>\n",
       "</g>\n",
       "<!-- kalpha -->\n",
       "<g id=\"node8\" class=\"node\">\n",
       "<title>kalpha</title>\n",
       "<ellipse fill=\"none\" stroke=\"red\" cx=\"362.5\" cy=\"-148.43\" rx=\"74.91\" ry=\"37.45\"/>\n",
       "<text text-anchor=\"middle\" x=\"362.5\" y=\"-159.73\" font-family=\"Times,serif\" font-size=\"14.00\">RooFormulaVar</text>\n",
       "<text text-anchor=\"middle\" x=\"362.5\" y=\"-144.73\" font-family=\"Times,serif\" font-size=\"14.00\">kalpha</text>\n",
       "<text text-anchor=\"middle\" x=\"362.5\" y=\"-129.73\" font-family=\"Times,serif\" font-size=\"14.00\">1.000000</text>\n",
       "</g>\n",
       "<!-- alpha_x_kappa&#45;&gt;kalpha -->\n",
       "<g id=\"edge2\" class=\"edge\">\n",
       "<title>alpha_x_kappa-&gt;kalpha</title>\n",
       "<path fill=\"none\" stroke=\"black\" d=\"M217.47,-231.73C243.82,-216.78 276.9,-198.01 304.81,-182.17\"/>\n",
       "<polygon fill=\"black\" stroke=\"black\" points=\"306.71,-185.12 313.68,-177.14 303.25,-179.03 306.71,-185.12\"/>\n",
       "</g>\n",
       "<!-- sigma_alpha -->\n",
       "<g id=\"node9\" class=\"node\">\n",
       "<title>sigma_alpha</title>\n",
       "<ellipse fill=\"none\" stroke=\"blue\" cx=\"362.5\" cy=\"-37.48\" rx=\"60.62\" ry=\"37.45\"/>\n",
       "<text text-anchor=\"middle\" x=\"362.5\" y=\"-48.78\" font-family=\"Times,serif\" font-size=\"14.00\">RooRealVar</text>\n",
       "<text text-anchor=\"middle\" x=\"362.5\" y=\"-33.78\" font-family=\"Times,serif\" font-size=\"14.00\">sigma_alpha</text>\n",
       "<text text-anchor=\"middle\" x=\"362.5\" y=\"-18.78\" font-family=\"Times,serif\" font-size=\"14.00\">0.200000</text>\n",
       "</g>\n",
       "<!-- kalpha&#45;&gt;sigma_alpha -->\n",
       "<g id=\"edge11\" class=\"edge\">\n",
       "<title>kalpha-&gt;sigma_alpha</title>\n",
       "<path fill=\"none\" stroke=\"black\" d=\"M362.5,-110.85C362.5,-102.67 362.5,-93.89 362.5,-85.37\"/>\n",
       "<polygon fill=\"black\" stroke=\"black\" points=\"366,-85.15 362.5,-75.15 359,-85.15 366,-85.15\"/>\n",
       "</g>\n",
       "<!-- theta_alpha -->\n",
       "<g id=\"node10\" class=\"node\">\n",
       "<title>theta_alpha</title>\n",
       "<ellipse fill=\"none\" stroke=\"blue\" cx=\"597.5\" cy=\"-37.48\" rx=\"58.88\" ry=\"37.45\"/>\n",
       "<text text-anchor=\"middle\" x=\"597.5\" y=\"-48.78\" font-family=\"Times,serif\" font-size=\"14.00\">RooRealVar</text>\n",
       "<text text-anchor=\"middle\" x=\"597.5\" y=\"-33.78\" font-family=\"Times,serif\" font-size=\"14.00\">theta_alpha</text>\n",
       "<text text-anchor=\"middle\" x=\"597.5\" y=\"-18.78\" font-family=\"Times,serif\" font-size=\"14.00\">0.000000</text>\n",
       "</g>\n",
       "<!-- kalpha&#45;&gt;theta_alpha -->\n",
       "<g id=\"edge12\" class=\"edge\">\n",
       "<title>kalpha-&gt;theta_alpha</title>\n",
       "<path fill=\"none\" stroke=\"black\" d=\"M416.71,-122.3C454.07,-104.97 503.61,-82.01 541.38,-64.5\"/>\n",
       "<polygon fill=\"black\" stroke=\"black\" points=\"543.11,-67.55 550.71,-60.17 540.17,-61.2 543.11,-67.55\"/>\n",
       "</g>\n",
       "<!-- n_sr -->\n",
       "<g id=\"node13\" class=\"node\">\n",
       "<title>n_sr</title>\n",
       "<ellipse fill=\"none\" stroke=\"blue\" cx=\"461.5\" cy=\"-370.34\" rx=\"62.45\" ry=\"37.45\"/>\n",
       "<text text-anchor=\"middle\" x=\"461.5\" y=\"-381.64\" font-family=\"Times,serif\" font-size=\"14.00\">RooRealVar</text>\n",
       "<text text-anchor=\"middle\" x=\"461.5\" y=\"-366.64\" font-family=\"Times,serif\" font-size=\"14.00\">n_sr</text>\n",
       "<text text-anchor=\"middle\" x=\"461.5\" y=\"-351.64\" font-family=\"Times,serif\" font-size=\"14.00\">2500.000000</text>\n",
       "</g>\n",
       "<!-- N_SR&#45;&gt;n_sr -->\n",
       "<g id=\"edge6\" class=\"edge\">\n",
       "<title>N_SR-&gt;n_sr</title>\n",
       "<path fill=\"none\" stroke=\"black\" d=\"M495.41,-445.22C491.12,-435.88 486.44,-425.67 481.95,-415.91\"/>\n",
       "<polygon fill=\"black\" stroke=\"black\" points=\"485.09,-414.35 477.74,-406.72 478.73,-417.27 485.09,-414.35\"/>\n",
       "</g>\n",
       "<!-- s_plus_b -->\n",
       "<g id=\"node14\" class=\"node\">\n",
       "<title>s_plus_b</title>\n",
       "<ellipse fill=\"none\" stroke=\"red\" cx=\"603.5\" cy=\"-370.34\" rx=\"61.54\" ry=\"37.45\"/>\n",
       "<text text-anchor=\"middle\" x=\"603.5\" y=\"-381.64\" font-family=\"Times,serif\" font-size=\"14.00\">RooAddition</text>\n",
       "<text text-anchor=\"middle\" x=\"603.5\" y=\"-366.64\" font-family=\"Times,serif\" font-size=\"14.00\">s_plus_b</text>\n",
       "<text text-anchor=\"middle\" x=\"603.5\" y=\"-351.64\" font-family=\"Times,serif\" font-size=\"14.00\">50.000000</text>\n",
       "</g>\n",
       "<!-- N_SR&#45;&gt;s_plus_b -->\n",
       "<g id=\"edge5\" class=\"edge\">\n",
       "<title>N_SR-&gt;s_plus_b</title>\n",
       "<path fill=\"none\" stroke=\"black\" d=\"M538.61,-448.19C548.26,-436.76 559.25,-423.74 569.42,-411.7\"/>\n",
       "<polygon fill=\"black\" stroke=\"black\" points=\"572.18,-413.86 575.95,-403.96 566.83,-409.34 572.18,-413.86\"/>\n",
       "</g>\n",
       "<!-- s_plus_b&#45;&gt;b -->\n",
       "<g id=\"edge4\" class=\"edge\">\n",
       "<title>s_plus_b-&gt;b</title>\n",
       "<path fill=\"none\" stroke=\"black\" d=\"M559.89,-343.79C532.65,-327.83 497.43,-307.2 468.84,-290.46\"/>\n",
       "<polygon fill=\"black\" stroke=\"black\" points=\"470.59,-287.43 460.2,-285.39 467.05,-293.47 470.59,-287.43\"/>\n",
       "</g>\n",
       "<!-- s -->\n",
       "<g id=\"node15\" class=\"node\">\n",
       "<title>s</title>\n",
       "<ellipse fill=\"none\" stroke=\"blue\" cx=\"603.5\" cy=\"-259.38\" rx=\"58.88\" ry=\"37.45\"/>\n",
       "<text text-anchor=\"middle\" x=\"603.5\" y=\"-270.68\" font-family=\"Times,serif\" font-size=\"14.00\">RooRealVar</text>\n",
       "<text text-anchor=\"middle\" x=\"603.5\" y=\"-255.68\" font-family=\"Times,serif\" font-size=\"14.00\">s</text>\n",
       "<text text-anchor=\"middle\" x=\"603.5\" y=\"-240.68\" font-family=\"Times,serif\" font-size=\"14.00\">0.000000</text>\n",
       "</g>\n",
       "<!-- s_plus_b&#45;&gt;s -->\n",
       "<g id=\"edge3\" class=\"edge\">\n",
       "<title>s_plus_b-&gt;s</title>\n",
       "<path fill=\"none\" stroke=\"black\" d=\"M603.5,-332.75C603.5,-324.58 603.5,-315.8 603.5,-307.27\"/>\n",
       "<polygon fill=\"black\" stroke=\"black\" points=\"607,-307.06 603.5,-297.06 600,-307.06 607,-307.06\"/>\n",
       "</g>\n",
       "<!-- constraint_alpha&#45;&gt;theta_alpha -->\n",
       "<g id=\"edge17\" class=\"edge\">\n",
       "<title>constraint_alpha-&gt;theta_alpha</title>\n",
       "<path fill=\"none\" stroke=\"black\" d=\"M724.25,-555.26C719.88,-543.77 715.5,-530.89 712.5,-518.77 696.64,-454.63 693.5,-437.4 693.5,-371.34 693.5,-371.34 693.5,-371.34 693.5,-258.38 693.5,-191.74 656.01,-122.51 627.89,-79.95\"/>\n",
       "<polygon fill=\"black\" stroke=\"black\" points=\"630.71,-77.89 622.22,-71.55 624.91,-81.8 630.71,-77.89\"/>\n",
       "</g>\n",
       "<!-- 1 -->\n",
       "<g id=\"node17\" class=\"node\">\n",
       "<title>1</title>\n",
       "<ellipse fill=\"none\" stroke=\"red\" cx=\"785.5\" cy=\"-481.29\" rx=\"63.78\" ry=\"37.45\"/>\n",
       "<text text-anchor=\"middle\" x=\"785.5\" y=\"-492.59\" font-family=\"Times,serif\" font-size=\"14.00\">RooConstVar</text>\n",
       "<text text-anchor=\"middle\" x=\"785.5\" y=\"-477.59\" font-family=\"Times,serif\" font-size=\"14.00\">1</text>\n",
       "<text text-anchor=\"middle\" x=\"785.5\" y=\"-462.59\" font-family=\"Times,serif\" font-size=\"14.00\">1.000000</text>\n",
       "</g>\n",
       "<!-- constraint_alpha&#45;&gt;1 -->\n",
       "<g id=\"edge15\" class=\"edge\">\n",
       "<title>constraint_alpha-&gt;1</title>\n",
       "<path fill=\"none\" stroke=\"black\" d=\"M754.69,-555.27C758.5,-546.25 762.63,-536.46 766.59,-527.07\"/>\n",
       "<polygon fill=\"black\" stroke=\"black\" points=\"769.82,-528.43 770.48,-517.86 763.37,-525.71 769.82,-528.43\"/>\n",
       "</g>\n",
       "<!-- global_alpha -->\n",
       "<g id=\"node18\" class=\"node\">\n",
       "<title>global_alpha</title>\n",
       "<ellipse fill=\"none\" stroke=\"blue\" cx=\"927.5\" cy=\"-481.29\" rx=\"60.62\" ry=\"37.45\"/>\n",
       "<text text-anchor=\"middle\" x=\"927.5\" y=\"-492.59\" font-family=\"Times,serif\" font-size=\"14.00\">RooRealVar</text>\n",
       "<text text-anchor=\"middle\" x=\"927.5\" y=\"-477.59\" font-family=\"Times,serif\" font-size=\"14.00\">global_alpha</text>\n",
       "<text text-anchor=\"middle\" x=\"927.5\" y=\"-462.59\" font-family=\"Times,serif\" font-size=\"14.00\">0.000000</text>\n",
       "</g>\n",
       "<!-- constraint_alpha&#45;&gt;global_alpha -->\n",
       "<g id=\"edge16\" class=\"edge\">\n",
       "<title>constraint_alpha-&gt;global_alpha</title>\n",
       "<path fill=\"none\" stroke=\"black\" d=\"M787.92,-563.19C814.5,-547.78 847.51,-528.65 874.75,-512.86\"/>\n",
       "<polygon fill=\"black\" stroke=\"black\" points=\"876.85,-515.69 883.75,-507.65 873.34,-509.63 876.85,-515.69\"/>\n",
       "</g>\n",
       "</g>\n",
       "</svg>"
      ],
      "text/plain": [
       "<IPython.core.display.SVG object>"
      ]
     },
     "execution_count": 8,
     "metadata": {},
     "output_type": "execute_result"
    }
   ],
   "source": [
    "model.graphVizTree(\"on_off_with_sys_graph.dot\")\n",
    "!dot -Tsvg on_off_with_sys_graph.dot > on_off_with_sys_graph.svg; rm on_off_with_sys_graph.dot\n",
    "s = SVG(\"on_off_with_sys_graph.svg\")\n",
    "s.data = re.sub(r'width=\"[0-9]+pt\"', r'width=\"90%\"', s.data)\n",
    "s.data = re.sub(r'height=\"[0-9]+pt\"', r'height=\"\"', s.data); s"
   ]
  },
  {
   "cell_type": "code",
   "execution_count": 9,
   "metadata": {
    "slideshow": {
     "slide_type": "subslide"
    }
   },
   "outputs": [
    {
     "data": {
      "text/plain": [
       "False"
      ]
     },
     "execution_count": 9,
     "metadata": {},
     "output_type": "execute_result"
    }
   ],
   "source": [
    "sbModel = ROOT.RooStats.ModelConfig('sbModel_sys', ws_onoff_sys)\n",
    "sbModel.SetPdf('model_constrained')\n",
    "sbModel.SetParametersOfInterest('s')\n",
    "sbModel.SetObservables('n_sr,n_cr')\n",
    "sbModel.SetNuisanceParameters('theta_alpha')\n",
    "ws_onoff_sys.var('s').setVal(30)\n",
    "sbModel.SetSnapshot(ROOT.RooArgSet(ws_onoff_sys.var('s')))\n",
    "getattr(ws_onoff_sys, 'import')(sbModel)\n",
    "\n",
    "bModel = sbModel.Clone(\"bModel_sys\")\n",
    "ws_onoff_sys.var('s').setVal(0)\n",
    "bModel.SetSnapshot(bModel.GetParametersOfInterest())\n",
    "getattr(ws_onoff_sys, 'import')(bModel)"
   ]
  },
  {
   "cell_type": "code",
   "execution_count": 10,
   "metadata": {
    "slideshow": {
     "slide_type": "subslide"
    }
   },
   "outputs": [
    {
     "name": "stdout",
     "output_type": "stream",
     "text": [
      "observed  N_SR = 79, N_CR = 528\n",
      "best fit\n",
      "SR     26.2     52.8\n",
      "CR             528.0\n"
     ]
    },
    {
     "data": {
      "text/plain": [
       "False"
      ]
     },
     "execution_count": 10,
     "metadata": {},
     "output_type": "execute_result"
    },
    {
     "name": "stdout",
     "output_type": "stream",
     "text": [
      "RooRealVar::s = 30  L(0 - 100) \n"
     ]
    }
   ],
   "source": [
    "sbModel.LoadSnapshot()\n",
    "ws_onoff_sys.var('s').Print()\n",
    "data = model.generate(bModel.GetObservables(), 1)\n",
    "data.SetName('obsData')\n",
    "print(\"observed  N_SR = %.f, N_CR = %.f\" % tuple([x.getVal() for x in iter_collection(data.get(0))]))\n",
    "model.fitTo(data)\n",
    "print(\"best fit\")\n",
    "print(\"SR {:>8.1f} {:>8.1f}\".format(ws_onoff_sys.var('s').getVal(), ws_onoff_sys.var('b').getVal()))\n",
    "print(\"CR          {:>8.1f}\".format(ws_onoff_sys.function('alpha_x_b_model_with_sys').getVal()))\n",
    "getattr(ws_onoff_sys, 'import')(data)\n",
    "ws_onoff_sys.writeToFile('onoff_sys.root')"
   ]
  },
  {
   "cell_type": "code",
   "execution_count": 11,
   "metadata": {
    "slideshow": {
     "slide_type": "subslide"
    }
   },
   "outputs": [],
   "source": [
    "# create profiled log-likelihood as a function of s\n",
    "ws_onoff_sys.var('theta_alpha').setConstant(False)\n",
    "prof = model.createNLL(data).createProfile(ROOT.RooArgSet(ws_onoff_sys.var('s')))\n",
    "# multiply by 2\n",
    "minus2LL = ROOT.RooFormulaVar(\"minus2LL\", \"2 * @0\", ROOT.RooArgList(prof))\n",
    "frame = ws_onoff.var('s').frame(0, 60)\n",
    "minus2LL.plotOn(frame)\n",
    "\n",
    "ws_onoff_sys.var('theta_alpha').setConstant(True)\n",
    "minus2LL.plotOn(frame, ROOT.RooFit.LineColor(ROOT.kRed))\n",
    "frame.SetYTitle(\"-2 log#Lambda(s)\")"
   ]
  },
  {
   "cell_type": "code",
   "execution_count": 12,
   "metadata": {
    "slideshow": {
     "slide_type": "subslide"
    }
   },
   "outputs": [
    {
     "data": {
      "image/png": "[encoded data removed]",
      "text/plain": [
       "<IPython.core.display.Image object>"
      ]
     },
     "metadata": {},
     "output_type": "display_data"
    }
   ],
   "source": [
    "canvas = ROOT.TCanvas()\n",
    "frame.Draw()\n",
    "canvas.Draw()"
   ]
  },
  {
   "cell_type": "markdown",
   "metadata": {},
   "source": [
    "## Excercize\n",
    "Explain why the profile likelihood curve is larger when adding systematics"
   ]
  },
  {
   "cell_type": "markdown",
   "metadata": {
    "slideshow": {
     "slide_type": "subslide"
    }
   },
   "source": [
    "### Compute the significance with systematics"
   ]
  },
  {
   "cell_type": "code",
   "execution_count": 13,
   "metadata": {
    "slideshow": {
     "slide_type": "-"
    }
   },
   "outputs": [
    {
     "name": "stdout",
     "output_type": "stream",
     "text": [
      "pvalue = 0.06329824778313191  significance = 1.5276619353657743\n",
      "AsymptoticCalculator::EvaluateNLL  ........ using Minuit / Migrad with strategy  1 and tolerance 1\n",
      " **********\n",
      " **    1 **SET PRINT           0\n",
      " **********\n",
      " **********\n",
      " **    2 **SET NOGRAD\n",
      " **********\n",
      " PARAMETER DEFINITIONS:\n",
      "    NO.   NAME         VALUE      STEP SIZE      LIMITS\n",
      "     1 b            5.27871e+01  1.07195e+01    0.00000e+00  1.00000e+02\n",
      "     2 s            2.62162e+01  1.00000e+01    0.00000e+00  1.00000e+02\n",
      "     3 theta_alpha   1.25567e-03  9.93509e-01   -5.00000e+00  5.00000e+00\n",
      " **********\n",
      " **    3 **SET ERR         0.5\n",
      " **********\n",
      " **********\n",
      " **    4 **SET PRINT           0\n",
      " **********\n",
      " **********\n",
      " **    5 **SET STR           1\n",
      " **********\n",
      " **********\n",
      " **    6 **MIGRAD        1500           1\n",
      " **********\n",
      " MIGRAD MINIMIZATION HAS CONVERGED.\n",
      " MIGRAD WILL VERIFY CONVERGENCE AND ERROR MATRIX.\n",
      " FCN=7.15836 FROM MIGRAD    STATUS=CONVERGED      36 CALLS          37 TOTAL\n",
      "                     EDM=1.51146e-06    STRATEGY= 1      ERROR MATRIX ACCURATE \n",
      "  EXT PARAMETER                                   STEP         FIRST   \n",
      "  NO.   NAME      VALUE            ERROR          SIZE      DERIVATIVE \n",
      "   1  b            5.27868e+01   1.07122e+01   8.51390e-05  -4.60061e-03\n",
      "   2  s            2.62142e+01   1.37484e+01   3.86198e-04   5.20892e-04\n",
      "   3  theta_alpha   1.20206e-03   9.92839e-01   8.12820e-05   5.21834e-04\n",
      "                               ERR DEF= 0.5\n",
      "AsymptoticCalculator::EvaluateNLL -  value = 7.15836\tfit time : Real time 0:00:00, CP time 0.000\n",
      "MakeAsimov: Setting poi s to a constant value = 30\n",
      "MakeAsimov: doing a conditional fit for finding best nuisance values \n",
      " **********\n",
      " **    1 **SET PRINT           0\n",
      " **********\n",
      " **********\n",
      " **    2 **SET NOGRAD\n",
      " **********\n",
      " PARAMETER DEFINITIONS:\n",
      "    NO.   NAME         VALUE      STEP SIZE      LIMITS\n",
      "     1 b            5.27868e+01  1.07122e+01    0.00000e+00  1.00000e+02\n",
      "     2 theta_alpha   1.20206e-03  9.92839e-01   -5.00000e+00  5.00000e+00\n",
      " **********\n",
      " **    3 **SET ERR         0.5\n",
      " **********\n",
      " **********\n",
      " **    4 **SET PRINT           0\n",
      " **********\n",
      " **********\n",
      " **    5 **SET STR           1\n",
      " **********\n",
      " **********\n",
      " **    6 **MIGRAD        1000           1\n",
      " **********\n",
      " MIGRAD MINIMIZATION HAS CONVERGED.\n",
      " MIGRAD WILL VERIFY CONVERGENCE AND ERROR MATRIX.\n",
      " FCN=7.19678 FROM MIGRAD    STATUS=CONVERGED      36 CALLS          37 TOTAL\n",
      "                     EDM=1.16159e-05    STRATEGY= 1      ERROR MATRIX ACCURATE \n",
      "  EXT PARAMETER                                   STEP         FIRST   \n",
      "  NO.   NAME      VALUE            ERROR          SIZE      DERIVATIVE \n",
      "   1  b            5.06842e+01   6.58908e+00   8.20697e-05   3.67289e-02\n",
      "   2  theta_alpha   1.98655e-01   6.78239e-01   8.45724e-05   1.15268e-02\n",
      "                               ERR DEF= 0.5\n",
      "fit time Real time 0:00:00, CP time 0.000\n",
      "Generated Asimov data for observables RooArgSet:: = (n_sr,n_cr)\n",
      "AsymptoticCalculator::EvaluateNLL  ........ using Minuit / Migrad with strategy  1 and tolerance 1\n",
      " **********\n",
      " **    7 **SET PRINT           0\n",
      " **********\n",
      " **********\n",
      " **    8 **SET NOGRAD\n",
      " **********\n",
      " PARAMETER DEFINITIONS:\n",
      "    NO.   NAME         VALUE      STEP SIZE      LIMITS\n",
      "     1 b            5.06842e+01  6.58908e+00    0.00000e+00  1.00000e+02\n",
      "     2 theta_alpha   1.98655e-01  6.78239e-01   -5.00000e+00  5.00000e+00\n",
      " **********\n",
      " **    9 **SET ERR         0.5\n",
      " **********\n",
      " **********\n",
      " **   10 **SET PRINT           0\n",
      " **********\n",
      " **********\n",
      " **   11 **SET STR           1\n",
      " **********\n",
      " **********\n",
      " **   12 **MIGRAD        1000           1\n",
      " **********\n",
      " MIGRAD MINIMIZATION HAS CONVERGED.\n",
      " MIGRAD WILL VERIFY CONVERGENCE AND ERROR MATRIX.\n",
      " FCN=7.17845 FROM MIGRAD    STATUS=CONVERGED      31 CALLS          32 TOTAL\n",
      "                     EDM=2.81441e-05    STRATEGY= 1      ERROR MATRIX ACCURATE \n",
      "  EXT PARAMETER                                   STEP         FIRST   \n",
      "  NO.   NAME      VALUE            ERROR          SIZE      DERIVATIVE \n",
      "   1  b            5.15361e+01   6.72618e+00   8.20587e-05  -1.21293e-01\n",
      "   2  theta_alpha   1.06282e-01   6.70159e-01   8.44355e-05  -1.18292e-01\n",
      "                               ERR DEF= 0.5\n",
      "AsymptoticCalculator::EvaluateNLL -  value = 7.17845 for poi fixed at = 30\tfit time : Real time 0:00:00, CP time 0.000\n",
      "\n",
      "AsymptoticCalculator::EvaluateNLL  ........ using Minuit / Migrad with strategy  1 and tolerance 1\n",
      " **********\n",
      " **   13 **SET PRINT           0\n",
      " **********\n",
      " **********\n",
      " **   14 **SET NOGRAD\n",
      " **********\n",
      " PARAMETER DEFINITIONS:\n",
      "    NO.   NAME         VALUE      STEP SIZE      LIMITS\n",
      "     1 b            5.27868e+01  1.07122e+01    0.00000e+00  1.00000e+02\n",
      "     2 theta_alpha   1.20206e-03  9.92839e-01   -5.00000e+00  5.00000e+00\n",
      " **********\n",
      " **   15 **SET ERR         0.5\n",
      " **********\n",
      " **********\n",
      " **   16 **SET PRINT           0\n",
      " **********\n",
      " **********\n",
      " **   17 **SET STR           1\n",
      " **********\n",
      " **********\n",
      " **   18 **MIGRAD        1000           1\n",
      " **********\n",
      " MIGRAD MINIMIZATION HAS CONVERGED.\n",
      " MIGRAD WILL VERIFY CONVERGENCE AND ERROR MATRIX.\n",
      " FCN=8.32524 FROM MIGRAD    STATUS=CONVERGED      54 CALLS          55 TOTAL\n",
      "                     EDM=2.56179e-05    STRATEGY= 1      ERROR MATRIX ACCURATE \n",
      "  EXT PARAMETER                                   STEP         FIRST   \n",
      "  NO.   NAME      VALUE            ERROR          SIZE      DERIVATIVE \n",
      "   1  b            7.39272e+01   8.12634e+00   1.39671e-04  -7.11453e-03\n",
      "   2  theta_alpha  -1.39469e+00   4.21679e-01   6.62130e-05   4.32817e-02\n",
      "                               ERR DEF= 0.5\n",
      "AsymptoticCalculator::EvaluateNLL -  value = 8.32524 for poi fixed at = 0\tfit time : Real time 0:00:00, CP time 0.000\n",
      "AsymptoticCalculator::EvaluateNLL  ........ using Minuit / Migrad with strategy  1 and tolerance 1\n",
      " **********\n",
      " **   19 **SET PRINT           0\n",
      " **********\n",
      " **********\n",
      " **   20 **SET NOGRAD\n",
      " **********\n",
      " PARAMETER DEFINITIONS:\n",
      "    NO.   NAME         VALUE      STEP SIZE      LIMITS\n",
      "     1 b            7.39272e+01  8.12634e+00    0.00000e+00  1.00000e+02\n",
      "     2 theta_alpha  -1.39469e+00  4.21679e-01   -5.00000e+00  5.00000e+00\n",
      " **********\n",
      " **   21 **SET ERR         0.5\n",
      " **********\n",
      " **********\n",
      " **   22 **SET PRINT           0\n",
      " **********\n",
      " **********\n",
      " **   23 **SET STR           1\n",
      " **********\n",
      " **********\n",
      " **   24 **MIGRAD        1000           1\n",
      " **********\n",
      " MIGRAD MINIMIZATION HAS CONVERGED.\n",
      " MIGRAD WILL VERIFY CONVERGENCE AND ERROR MATRIX.\n",
      " FCN=8.4562 FROM MIGRAD    STATUS=CONVERGED      37 CALLS          38 TOTAL\n",
      "                     EDM=9.87506e-07    STRATEGY= 1      ERROR MATRIX ACCURATE \n",
      "  EXT PARAMETER                                   STEP         FIRST   \n",
      "  NO.   NAME      VALUE            ERROR          SIZE      DERIVATIVE \n",
      "   1  b            7.54833e+01   8.24830e+00   1.46763e-04  -1.37377e-02\n",
      "   2  theta_alpha  -1.47501e+00   4.10882e-01   6.57177e-05  -3.06639e-02\n",
      "                               ERR DEF= 0.5\n",
      "AsymptoticCalculator::EvaluateNLL -  value = 8.4562 for poi fixed at = 0\tfit time : Real time 0:00:00, CP time 0.000\n"
     ]
    }
   ],
   "source": [
    "f = ROOT.TFile.Open(\"onoff_sys.root\")\n",
    "ws_onoff_sys = f.Get(\"ws_onoff_sys\")\n",
    "ws_onoff_sys.var('theta_alpha').setConstant(False)\n",
    "data = ws_onoff_sys.data('obsData')\n",
    "sbModel = ws_onoff_sys.obj('sbModel_sys')\n",
    "bModel = ws_onoff_sys.obj('bModel_sys')\n",
    "hypoCalc = RooStats.AsymptoticCalculator(data, sbModel, bModel)\n",
    "hypoCalc.SetOneSidedDiscovery(True)\n",
    "htr = hypoCalc.GetHypoTest()\n",
    "print(\"pvalue =\", htr.NullPValue(), \" significance =\", htr.Significance())"
   ]
  },
  {
   "cell_type": "markdown",
   "metadata": {
    "slideshow": {
     "slide_type": "subslide"
    }
   },
   "source": [
    "### (Big) exercize\n",
    "\n",
    "Suppose you are looking for a signal in a SR. There are two main background on the signal region, due to two different physical processes, B1 and B2. You also have two CRs. The simulation predicts the following countings for an equivalent luminosity of 1/fb.\n",
    "\n",
    "\n",
    "|  ``   |  SR | CR1  | CR2  |\n",
    "|-----|-----|-----|-----|\n",
    "|  B1 |  10 | 100 | 20  |\n",
    "|  B2 |  20 |  30 | 500 |\n",
    "\n",
    "You don't trust the cross section of the background, so you assume a degree of freedom for every process. For example:\n",
    "\n",
    "$$n_{B1}^{SR,exp} = L\\times k_{B1}\\times n_{B1}^{SR,mc}$$\n",
    "$$n_{B1}^{CR1,exp} = L\\times k_{B1}\\times n_{B1}^{CR1,mc}$$\n",
    "\n",
    "where $L$ is the observed luminosity. Note that we are using the correlation between SR/CR1/CR2 of the simulation. Assume  L=10/fb +/- 5%. \n",
    "\n",
    "Suppose you analysis is blinded (you haven't look to the signal region) and you observe: CR1=1509, CR2=5017 events.\n",
    "\n",
    "How many events do you have to observe in the signal region to claim a discovery at 3 sigma (what is the acceptance region)? What is the impact of the systematics? Bonus: take into account the MC statistical uncertainty of 3% for every prediction.\n",
    "\n",
    "For this kind of analyses usually [HistFactory](https://twiki.cern.ch/twiki/bin/view/RooStats/HistFactory) is used to produce the workspace."
   ]
  },
  {
   "cell_type": "markdown",
   "metadata": {
    "slideshow": {
     "slide_type": "subslide"
    }
   },
   "source": [
    "Costraints can be gaussian:\n",
    "    \n",
    "   $$m\\to m(1 + \\sigma\\theta) \\qquad L \\to L \\times G(0, \\theta, 1)$$\n",
    "   \n",
    "or log-normal, for example for quantity that cannot be negative (e.g. efficiencies):\n",
    "\n",
    "   $$\\varepsilon\\to \\varepsilon\\exp(\\sigma\\theta)\\qquad L \\to L \\times G(0, \\theta, 1)$$\n",
    "   \n"
   ]
  },
  {
   "cell_type": "markdown",
   "metadata": {
    "slideshow": {
     "slide_type": "subslide"
    }
   },
   "source": [
    "### Exercize (big)\n",
    "\n",
    "Find a better constrain for log-normal variable. Suppose you have a random variable $Y$ that is log-normal distributed. Do a change of variable and write it as $Y = a\\exp(b \\Theta)$. How is distributed $\\Theta$? How can I constrain $\\Theta$? Suppose I know the median of $Y$ ($=Y_0$) and the standard deviation $\\sigma\\times Y_0$. What are the values of $a$ and $b$ if I want to conserve the median and the standard deviation? What is the value of $y$ if $\\theta=1$? Is it $Y_0 + \\sigma Y_0$? If not, give an approximation in terms of $O(\\sigma)$ for small $\\sigma$."
   ]
  },
  {
   "cell_type": "markdown",
   "metadata": {
    "slideshow": {
     "slide_type": "slide"
    }
   },
   "source": [
    "## Shape analysis\n",
    "\n",
    "In more complicate analysis you don't look just to the number of events in specific region but you look to the distribution of the events as a function of a continuos variable (e.g. invariant mass).\n",
    "\n",
    "$$L(\\alpha|\\{m_i\\}_{i=1}^n) = \\text{Pois}[n|N_s(\\alpha) + N_b(\\alpha)] \\prod_{i=1}^n\\left(\\frac{N_s(\\alpha) f_s[m_i|\\alpha] + N_b(\\alpha) f_b[m_i|\\alpha]}{N_s(\\alpha)+N_b(\\alpha)}\\right)\\times\\prod_j L(a_j|\\alpha_j)$$\n",
    "\n",
    "Where $\\alpha$ is a set of nuisance parameters, $\\{m_i\\}_{i=1}^n$ are the data, $N_s$ and $N_b$ the predicted number of signal and background events, $f_s$ and $f_b$ the pdf describing the continuos observable.\n",
    "\n",
    "The last term is the product of all the constraints of the nuisance parameters (not all the nuisance parameters need to be constrained by auxiliary measurements). The other term is the extended likelihood of the s+b model.\n",
    "\n",
    "If the signal is localised the background shape can be fully data-driven. This means that the nuisance parameters for the background shape are completely free."
   ]
  },
  {
   "cell_type": "markdown",
   "metadata": {
    "slideshow": {
     "slide_type": "subslide"
    }
   },
   "source": [
    "### Example model\n",
    "\n",
    "Suppose we observe the invariant mass distribution and we are searching for a narrow resonance in the spectrum. Our signal + background model is (after many careful studies) an exponential plus a gaussian. We also know the expected number of events for the signal under a particular theory. We want to be able to parametrize also similar model, where the number of signal events is multiplied by the \"signal strength\", $\\mu$. So we will write the number of signal events as $\\mu \\times n_{exp}$ where $n_{exp}$ are the one from the nominal theory. In this way we can also write the background-only model as the special case for $\\mu=0$. The number of background events are not well know by the theory, so we can estimate them from data, which means that $n_b$ is a nuisance parameters in the model.\n",
    "\n",
    "Consider systematic on the luminosity, scale and resolution of the signal (location and width)"
   ]
  },
  {
   "cell_type": "code",
   "execution_count": 14,
   "metadata": {
    "slideshow": {
     "slide_type": "subslide"
    }
   },
   "outputs": [],
   "source": [
    "ws = ROOT.RooWorkspace(\"ws_shape\")\n",
    "mH = ws.factory(\"mH[125, 90, 150]\")  # true mass of the resonance\n",
    "mass = ws.factory(\"mass[80, 160]\")    # observed invariant mass\n",
    "ws.factory('expr:kpeak(\"1 + @0 * @1\", {sigma_mH[0.01], theta_mH[0, -5, 5]})')\n",
    "peak = ws.factory('expr:peak(\"@0 * @1\", {mH, kpeak})')   # peak position for signal\n",
    "ws.factory('expr:kwidth(\"1 + @0 * @1\", {sigma_width[0.05], theta_width[0, -5, 5]})')\n",
    "width = ws.factory('expr:width(\"@0 * @1\", {nominal_width[5], kwidth})')\n",
    "signal = ws.factory(\"RooGaussian:signal(mass, peak, width)\")\n",
    "ws.factory(\"RooExponential:background(mass, tau[-0.03, -0.5, -0.001])\")\n",
    "ws.factory(\"nbkg[400, 0, 1000]\")\n",
    "ws.factory('expr:klumi(\"(1 + exp(@0 * @1))\", {sigma_lumi[0.02], theta_lumi[0, -5, 5]})')\n",
    "ws.factory('expr:efficiency(\"@0 * (1 + exp(@1 * @2))\", {nominal_efficiency[0.6], sigma_efficiency[0.05], theta_efficiency[0, -5, 5]})')\n",
    "ws.factory('expr:nsignal_theory(\"7 + @0 * 0.2\", {mH})')\n",
    "ws.factory('prod:nsignal(nsignal_theory, mu[1, -2, 5], efficiency, klumi)')\n",
    "ws.factory(\"SUM:phys_pdf(nsignal * signal, nbkg * background)\")\n",
    "ws.factory(\"RooGaussian:constrain_peak(global_peak[0, -5, 5], theta_mH, 1)\")\n",
    "ws.factory(\"RooGaussian:constrain_width(global_width[0, -5, 5], theta_width, 1)\")\n",
    "ws.factory(\"RooGaussian:constrain_lumi(global_lumi[0, -5, 5], theta_lumi, 1)\")\n",
    "ws.factory(\"RooGaussian:constrain_eff(global_efficiency[0, -5, 5], theta_efficiency, 1)\")\n",
    "ws.factory(\"PROD:constraints(constrain_peak, constrain_lumi, constrain_width, constrain_eff)\")\n",
    "model = ws.factory(\"PROD:model(phys_pdf, constraints)\")"
   ]
  },
  {
   "cell_type": "code",
   "execution_count": 15,
   "metadata": {
    "slideshow": {
     "slide_type": "subslide"
    }
   },
   "outputs": [
    {
     "data": {
      "image/svg+xml": [
       "<svg xmlns=\"http://www.w3.org/2000/svg\" xmlns:xlink=\"http://www.w3.org/1999/xlink\" width=\"90%\" height=\"\" viewBox=\"0.00 0.00 2314.17 637.72\">\n",
       "<g id=\"graph0\" class=\"graph\" transform=\"scale(1 1) rotate(0) translate(4 633.72)\">\n",
       "<title>model</title>\n",
       "<polygon fill=\"white\" stroke=\"none\" points=\"-4,4 -4,-633.72 2310.17,-633.72 2310.17,4 -4,4\"/>\n",
       "<!-- model -->\n",
       "<g id=\"node1\" class=\"node\">\n",
       "<title>model</title>\n",
       "<ellipse fill=\"none\" stroke=\"red\" cx=\"861.69\" cy=\"-592.24\" rx=\"58.88\" ry=\"37.45\"/>\n",
       "<text text-anchor=\"middle\" x=\"861.69\" y=\"-603.54\" font-family=\"Times,serif\" font-size=\"14.00\">RooProdPdf</text>\n",
       "<text text-anchor=\"middle\" x=\"861.69\" y=\"-588.54\" font-family=\"Times,serif\" font-size=\"14.00\">model</text>\n",
       "<text text-anchor=\"middle\" x=\"861.69\" y=\"-573.54\" font-family=\"Times,serif\" font-size=\"14.00\">0.120619</text>\n",
       "</g>\n",
       "<!-- phys_pdf -->\n",
       "<g id=\"node2\" class=\"node\">\n",
       "<title>phys_pdf</title>\n",
       "<ellipse fill=\"none\" stroke=\"red\" cx=\"819.69\" cy=\"-481.29\" rx=\"57.05\" ry=\"37.45\"/>\n",
       "<text text-anchor=\"middle\" x=\"819.69\" y=\"-492.59\" font-family=\"Times,serif\" font-size=\"14.00\">RooAddPdf</text>\n",
       "<text text-anchor=\"middle\" x=\"819.69\" y=\"-477.59\" font-family=\"Times,serif\" font-size=\"14.00\">phys_pdf</text>\n",
       "<text text-anchor=\"middle\" x=\"819.69\" y=\"-462.59\" font-family=\"Times,serif\" font-size=\"14.00\">0.120619</text>\n",
       "</g>\n",
       "<!-- model&#45;&gt;phys_pdf -->\n",
       "<g id=\"edge44\" class=\"edge\">\n",
       "<title>model-&gt;phys_pdf</title>\n",
       "<path fill=\"none\" stroke=\"black\" d=\"M847.94,-555.57C844.49,-546.63 840.75,-536.93 837.15,-527.59\"/>\n",
       "<polygon fill=\"black\" stroke=\"black\" points=\"840.34,-526.12 833.47,-518.05 833.8,-528.64 840.34,-526.12\"/>\n",
       "</g>\n",
       "<!-- constraints -->\n",
       "<g id=\"node28\" class=\"node\">\n",
       "<title>constraints</title>\n",
       "<ellipse fill=\"none\" stroke=\"red\" cx=\"1762.69\" cy=\"-370.34\" rx=\"58.88\" ry=\"37.45\"/>\n",
       "<text text-anchor=\"middle\" x=\"1762.69\" y=\"-381.64\" font-family=\"Times,serif\" font-size=\"14.00\">RooProdPdf</text>\n",
       "<text text-anchor=\"middle\" x=\"1762.69\" y=\"-366.64\" font-family=\"Times,serif\" font-size=\"14.00\">constraints</text>\n",
       "<text text-anchor=\"middle\" x=\"1762.69\" y=\"-351.64\" font-family=\"Times,serif\" font-size=\"14.00\">1.000000</text>\n",
       "</g>\n",
       "<!-- model&#45;&gt;constraints -->\n",
       "<g id=\"edge45\" class=\"edge\">\n",
       "<title>model-&gt;constraints</title>\n",
       "<path fill=\"none\" stroke=\"black\" d=\"M916.02,-577.98C1073.44,-539.56 1529.36,-428.29 1698.52,-387\"/>\n",
       "<polygon fill=\"black\" stroke=\"black\" points=\"1699.4,-390.39 1708.29,-384.61 1697.74,-383.59 1699.4,-390.39\"/>\n",
       "</g>\n",
       "<!-- signal -->\n",
       "<g id=\"node3\" class=\"node\">\n",
       "<title>signal</title>\n",
       "<ellipse fill=\"none\" stroke=\"red\" cx=\"430.69\" cy=\"-370.34\" rx=\"62.87\" ry=\"37.45\"/>\n",
       "<text text-anchor=\"middle\" x=\"430.69\" y=\"-381.64\" font-family=\"Times,serif\" font-size=\"14.00\">RooGaussian</text>\n",
       "<text text-anchor=\"middle\" x=\"430.69\" y=\"-366.64\" font-family=\"Times,serif\" font-size=\"14.00\">signal</text>\n",
       "<text text-anchor=\"middle\" x=\"430.69\" y=\"-351.64\" font-family=\"Times,serif\" font-size=\"14.00\">0.606531</text>\n",
       "</g>\n",
       "<!-- phys_pdf&#45;&gt;signal -->\n",
       "<g id=\"edge28\" class=\"edge\">\n",
       "<title>phys_pdf-&gt;signal</title>\n",
       "<path fill=\"none\" stroke=\"black\" d=\"M767.23,-465.6C697.27,-446 573.39,-411.31 497.03,-389.92\"/>\n",
       "<polygon fill=\"black\" stroke=\"black\" points=\"497.61,-386.45 487.04,-387.12 495.72,-393.19 497.61,-386.45\"/>\n",
       "</g>\n",
       "<!-- nsignal -->\n",
       "<g id=\"node15\" class=\"node\">\n",
       "<title>nsignal</title>\n",
       "<ellipse fill=\"none\" stroke=\"red\" cx=\"819.69\" cy=\"-370.34\" rx=\"57.05\" ry=\"37.45\"/>\n",
       "<text text-anchor=\"middle\" x=\"819.69\" y=\"-381.64\" font-family=\"Times,serif\" font-size=\"14.00\">RooProduct</text>\n",
       "<text text-anchor=\"middle\" x=\"819.69\" y=\"-366.64\" font-family=\"Times,serif\" font-size=\"14.00\">nsignal</text>\n",
       "<text text-anchor=\"middle\" x=\"819.69\" y=\"-351.64\" font-family=\"Times,serif\" font-size=\"14.00\">76.800000</text>\n",
       "</g>\n",
       "<!-- phys_pdf&#45;&gt;nsignal -->\n",
       "<g id=\"edge30\" class=\"edge\">\n",
       "<title>phys_pdf-&gt;nsignal</title>\n",
       "<path fill=\"none\" stroke=\"black\" d=\"M819.69,-443.71C819.69,-435.53 819.69,-426.75 819.69,-418.23\"/>\n",
       "<polygon fill=\"black\" stroke=\"black\" points=\"823.19,-418.01 819.69,-408.01 816.19,-418.01 823.19,-418.01\"/>\n",
       "</g>\n",
       "<!-- background -->\n",
       "<g id=\"node25\" class=\"node\">\n",
       "<title>background</title>\n",
       "<ellipse fill=\"none\" stroke=\"red\" cx=\"193.69\" cy=\"-370.34\" rx=\"73.58\" ry=\"37.45\"/>\n",
       "<text text-anchor=\"middle\" x=\"193.69\" y=\"-381.64\" font-family=\"Times,serif\" font-size=\"14.00\">RooExponential</text>\n",
       "<text text-anchor=\"middle\" x=\"193.69\" y=\"-366.64\" font-family=\"Times,serif\" font-size=\"14.00\">background</text>\n",
       "<text text-anchor=\"middle\" x=\"193.69\" y=\"-351.64\" font-family=\"Times,serif\" font-size=\"14.00\">0.027324</text>\n",
       "</g>\n",
       "<!-- phys_pdf&#45;&gt;background -->\n",
       "<g id=\"edge29\" class=\"edge\">\n",
       "<title>phys_pdf-&gt;background</title>\n",
       "<path fill=\"none\" stroke=\"black\" d=\"M763.79,-472.64C676.87,-460.48 504.18,-435.3 358.69,-407.81 329.55,-402.31 297.7,-395.46 269.81,-389.19\"/>\n",
       "<polygon fill=\"black\" stroke=\"black\" points=\"270.26,-385.71 259.73,-386.91 268.72,-392.53 270.26,-385.71\"/>\n",
       "</g>\n",
       "<!-- nbkg -->\n",
       "<g id=\"node27\" class=\"node\">\n",
       "<title>nbkg</title>\n",
       "<ellipse fill=\"none\" stroke=\"blue\" cx=\"953.69\" cy=\"-370.34\" rx=\"58.88\" ry=\"37.45\"/>\n",
       "<text text-anchor=\"middle\" x=\"953.69\" y=\"-381.64\" font-family=\"Times,serif\" font-size=\"14.00\">RooRealVar</text>\n",
       "<text text-anchor=\"middle\" x=\"953.69\" y=\"-366.64\" font-family=\"Times,serif\" font-size=\"14.00\">nbkg</text>\n",
       "<text text-anchor=\"middle\" x=\"953.69\" y=\"-351.64\" font-family=\"Times,serif\" font-size=\"14.00\">400.000000</text>\n",
       "</g>\n",
       "<!-- phys_pdf&#45;&gt;nbkg -->\n",
       "<g id=\"edge27\" class=\"edge\">\n",
       "<title>phys_pdf-&gt;nbkg</title>\n",
       "<path fill=\"none\" stroke=\"black\" d=\"M854.9,-451.66C871.71,-437.99 892,-421.5 909.8,-407.02\"/>\n",
       "<polygon fill=\"black\" stroke=\"black\" points=\"912.23,-409.55 917.79,-400.53 907.82,-404.12 912.23,-409.55\"/>\n",
       "</g>\n",
       "<!-- mass -->\n",
       "<g id=\"node4\" class=\"node\">\n",
       "<title>mass</title>\n",
       "<ellipse fill=\"none\" stroke=\"blue\" cx=\"193.69\" cy=\"-259.38\" rx=\"58.88\" ry=\"37.45\"/>\n",
       "<text text-anchor=\"middle\" x=\"193.69\" y=\"-270.68\" font-family=\"Times,serif\" font-size=\"14.00\">RooRealVar</text>\n",
       "<text text-anchor=\"middle\" x=\"193.69\" y=\"-255.68\" font-family=\"Times,serif\" font-size=\"14.00\">mass</text>\n",
       "<text text-anchor=\"middle\" x=\"193.69\" y=\"-240.68\" font-family=\"Times,serif\" font-size=\"14.00\">120.000000</text>\n",
       "</g>\n",
       "<!-- signal&#45;&gt;mass -->\n",
       "<g id=\"edge12\" class=\"edge\">\n",
       "<title>signal-&gt;mass</title>\n",
       "<path fill=\"none\" stroke=\"black\" d=\"M379.14,-348.6C345.39,-334.69 300.52,-315.56 261.69,-296.86 256.71,-294.46 251.57,-291.89 246.45,-289.26\"/>\n",
       "<polygon fill=\"black\" stroke=\"black\" points=\"247.78,-286.01 237.3,-284.5 244.55,-292.22 247.78,-286.01\"/>\n",
       "</g>\n",
       "<!-- peak -->\n",
       "<g id=\"node5\" class=\"node\">\n",
       "<title>peak</title>\n",
       "<ellipse fill=\"none\" stroke=\"red\" cx=\"513.69\" cy=\"-259.38\" rx=\"74.91\" ry=\"37.45\"/>\n",
       "<text text-anchor=\"middle\" x=\"513.69\" y=\"-270.68\" font-family=\"Times,serif\" font-size=\"14.00\">RooFormulaVar</text>\n",
       "<text text-anchor=\"middle\" x=\"513.69\" y=\"-255.68\" font-family=\"Times,serif\" font-size=\"14.00\">peak</text>\n",
       "<text text-anchor=\"middle\" x=\"513.69\" y=\"-240.68\" font-family=\"Times,serif\" font-size=\"14.00\">125.000000</text>\n",
       "</g>\n",
       "<!-- signal&#45;&gt;peak -->\n",
       "<g id=\"edge14\" class=\"edge\">\n",
       "<title>signal-&gt;peak</title>\n",
       "<path fill=\"none\" stroke=\"black\" d=\"M456.27,-335.76C464.16,-325.39 472.97,-313.84 481.26,-302.96\"/>\n",
       "<polygon fill=\"black\" stroke=\"black\" points=\"484.2,-304.87 487.48,-294.79 478.63,-300.63 484.2,-304.87\"/>\n",
       "</g>\n",
       "<!-- width -->\n",
       "<g id=\"node10\" class=\"node\">\n",
       "<title>width</title>\n",
       "<ellipse fill=\"none\" stroke=\"red\" cx=\"345.69\" cy=\"-259.38\" rx=\"74.91\" ry=\"37.45\"/>\n",
       "<text text-anchor=\"middle\" x=\"345.69\" y=\"-270.68\" font-family=\"Times,serif\" font-size=\"14.00\">RooFormulaVar</text>\n",
       "<text text-anchor=\"middle\" x=\"345.69\" y=\"-255.68\" font-family=\"Times,serif\" font-size=\"14.00\">width</text>\n",
       "<text text-anchor=\"middle\" x=\"345.69\" y=\"-240.68\" font-family=\"Times,serif\" font-size=\"14.00\">5.000000</text>\n",
       "</g>\n",
       "<!-- signal&#45;&gt;width -->\n",
       "<g id=\"edge13\" class=\"edge\">\n",
       "<title>signal-&gt;width</title>\n",
       "<path fill=\"none\" stroke=\"black\" d=\"M404.73,-336.06C396.48,-325.48 387.24,-313.64 378.57,-302.53\"/>\n",
       "<polygon fill=\"black\" stroke=\"black\" points=\"381.29,-300.32 372.38,-294.59 375.77,-304.63 381.29,-300.32\"/>\n",
       "</g>\n",
       "<!-- mH -->\n",
       "<g id=\"node6\" class=\"node\">\n",
       "<title>mH</title>\n",
       "<ellipse fill=\"none\" stroke=\"blue\" cx=\"659.69\" cy=\"-148.43\" rx=\"58.88\" ry=\"37.45\"/>\n",
       "<text text-anchor=\"middle\" x=\"659.69\" y=\"-159.73\" font-family=\"Times,serif\" font-size=\"14.00\">RooRealVar</text>\n",
       "<text text-anchor=\"middle\" x=\"659.69\" y=\"-144.73\" font-family=\"Times,serif\" font-size=\"14.00\">mH</text>\n",
       "<text text-anchor=\"middle\" x=\"659.69\" y=\"-129.73\" font-family=\"Times,serif\" font-size=\"14.00\">125.000000</text>\n",
       "</g>\n",
       "<!-- peak&#45;&gt;mH -->\n",
       "<g id=\"edge10\" class=\"edge\">\n",
       "<title>peak-&gt;mH</title>\n",
       "<path fill=\"none\" stroke=\"black\" d=\"M554.75,-227.74C573.12,-214.04 594.84,-197.82 613.75,-183.71\"/>\n",
       "<polygon fill=\"black\" stroke=\"black\" points=\"616.02,-186.39 621.94,-177.6 611.83,-180.78 616.02,-186.39\"/>\n",
       "</g>\n",
       "<!-- kpeak -->\n",
       "<g id=\"node7\" class=\"node\">\n",
       "<title>kpeak</title>\n",
       "<ellipse fill=\"none\" stroke=\"red\" cx=\"507.69\" cy=\"-148.43\" rx=\"74.91\" ry=\"37.45\"/>\n",
       "<text text-anchor=\"middle\" x=\"507.69\" y=\"-159.73\" font-family=\"Times,serif\" font-size=\"14.00\">RooFormulaVar</text>\n",
       "<text text-anchor=\"middle\" x=\"507.69\" y=\"-144.73\" font-family=\"Times,serif\" font-size=\"14.00\">kpeak</text>\n",
       "<text text-anchor=\"middle\" x=\"507.69\" y=\"-129.73\" font-family=\"Times,serif\" font-size=\"14.00\">1.000000</text>\n",
       "</g>\n",
       "<!-- peak&#45;&gt;kpeak -->\n",
       "<g id=\"edge11\" class=\"edge\">\n",
       "<title>peak-&gt;kpeak</title>\n",
       "<path fill=\"none\" stroke=\"black\" d=\"M511.68,-221.8C511.23,-213.63 510.74,-204.85 510.27,-196.32\"/>\n",
       "<polygon fill=\"black\" stroke=\"black\" points=\"513.75,-195.89 509.71,-186.1 506.76,-196.28 513.75,-195.89\"/>\n",
       "</g>\n",
       "<!-- sigma_mH -->\n",
       "<g id=\"node8\" class=\"node\">\n",
       "<title>sigma_mH</title>\n",
       "<ellipse fill=\"none\" stroke=\"blue\" cx=\"507.69\" cy=\"-37.48\" rx=\"58.88\" ry=\"37.45\"/>\n",
       "<text text-anchor=\"middle\" x=\"507.69\" y=\"-48.78\" font-family=\"Times,serif\" font-size=\"14.00\">RooRealVar</text>\n",
       "<text text-anchor=\"middle\" x=\"507.69\" y=\"-33.78\" font-family=\"Times,serif\" font-size=\"14.00\">sigma_mH</text>\n",
       "<text text-anchor=\"middle\" x=\"507.69\" y=\"-18.78\" font-family=\"Times,serif\" font-size=\"14.00\">0.010000</text>\n",
       "</g>\n",
       "<!-- kpeak&#45;&gt;sigma_mH -->\n",
       "<g id=\"edge23\" class=\"edge\">\n",
       "<title>kpeak-&gt;sigma_mH</title>\n",
       "<path fill=\"none\" stroke=\"black\" d=\"M507.69,-110.85C507.69,-102.67 507.69,-93.89 507.69,-85.37\"/>\n",
       "<polygon fill=\"black\" stroke=\"black\" points=\"511.19,-85.15 507.69,-75.15 504.19,-85.15 511.19,-85.15\"/>\n",
       "</g>\n",
       "<!-- theta_mH -->\n",
       "<g id=\"node9\" class=\"node\">\n",
       "<title>theta_mH</title>\n",
       "<ellipse fill=\"none\" stroke=\"blue\" cx=\"1881.69\" cy=\"-37.48\" rx=\"58.88\" ry=\"37.45\"/>\n",
       "<text text-anchor=\"middle\" x=\"1881.69\" y=\"-48.78\" font-family=\"Times,serif\" font-size=\"14.00\">RooRealVar</text>\n",
       "<text text-anchor=\"middle\" x=\"1881.69\" y=\"-33.78\" font-family=\"Times,serif\" font-size=\"14.00\">theta_mH</text>\n",
       "<text text-anchor=\"middle\" x=\"1881.69\" y=\"-18.78\" font-family=\"Times,serif\" font-size=\"14.00\">0.000000</text>\n",
       "</g>\n",
       "<!-- kpeak&#45;&gt;theta_mH -->\n",
       "<g id=\"edge24\" class=\"edge\">\n",
       "<title>kpeak-&gt;theta_mH</title>\n",
       "<path fill=\"none\" stroke=\"black\" d=\"M560.02,-121.25C570.29,-117.11 581.16,-113.39 591.69,-110.95 763.98,-71.07 1210.15,-85.45 1386.69,-74.95 1539.19,-65.88 1717.87,-51.88 1813.33,-44.13\"/>\n",
       "<polygon fill=\"black\" stroke=\"black\" points=\"1813.75,-47.61 1823.43,-43.31 1813.18,-40.63 1813.75,-47.61\"/>\n",
       "</g>\n",
       "<!-- nominal_width -->\n",
       "<g id=\"node11\" class=\"node\">\n",
       "<title>nominal_width</title>\n",
       "<ellipse fill=\"none\" stroke=\"blue\" cx=\"344.69\" cy=\"-148.43\" rx=\"70.01\" ry=\"37.45\"/>\n",
       "<text text-anchor=\"middle\" x=\"344.69\" y=\"-159.73\" font-family=\"Times,serif\" font-size=\"14.00\">RooRealVar</text>\n",
       "<text text-anchor=\"middle\" x=\"344.69\" y=\"-144.73\" font-family=\"Times,serif\" font-size=\"14.00\">nominal_width</text>\n",
       "<text text-anchor=\"middle\" x=\"344.69\" y=\"-129.73\" font-family=\"Times,serif\" font-size=\"14.00\">5.000000</text>\n",
       "</g>\n",
       "<!-- width&#45;&gt;nominal_width -->\n",
       "<g id=\"edge8\" class=\"edge\">\n",
       "<title>width-&gt;nominal_width</title>\n",
       "<path fill=\"none\" stroke=\"black\" d=\"M345.35,-221.8C345.28,-213.63 345.2,-204.85 345.12,-196.32\"/>\n",
       "<polygon fill=\"black\" stroke=\"black\" points=\"348.62,-196.07 345.03,-186.1 341.62,-196.13 348.62,-196.07\"/>\n",
       "</g>\n",
       "<!-- kwidth -->\n",
       "<g id=\"node12\" class=\"node\">\n",
       "<title>kwidth</title>\n",
       "<ellipse fill=\"none\" stroke=\"red\" cx=\"181.69\" cy=\"-148.43\" rx=\"74.91\" ry=\"37.45\"/>\n",
       "<text text-anchor=\"middle\" x=\"181.69\" y=\"-159.73\" font-family=\"Times,serif\" font-size=\"14.00\">RooFormulaVar</text>\n",
       "<text text-anchor=\"middle\" x=\"181.69\" y=\"-144.73\" font-family=\"Times,serif\" font-size=\"14.00\">kwidth</text>\n",
       "<text text-anchor=\"middle\" x=\"181.69\" y=\"-129.73\" font-family=\"Times,serif\" font-size=\"14.00\">1.000000</text>\n",
       "</g>\n",
       "<!-- width&#45;&gt;kwidth -->\n",
       "<g id=\"edge9\" class=\"edge\">\n",
       "<title>width-&gt;kwidth</title>\n",
       "<path fill=\"none\" stroke=\"black\" d=\"M301.31,-228.9C280.62,-215.16 255.86,-198.71 234.25,-184.35\"/>\n",
       "<polygon fill=\"black\" stroke=\"black\" points=\"236.09,-181.37 225.82,-178.75 232.21,-187.2 236.09,-181.37\"/>\n",
       "</g>\n",
       "<!-- sigma_width -->\n",
       "<g id=\"node13\" class=\"node\">\n",
       "<title>sigma_width</title>\n",
       "<ellipse fill=\"none\" stroke=\"blue\" cx=\"181.69\" cy=\"-37.48\" rx=\"61.54\" ry=\"37.45\"/>\n",
       "<text text-anchor=\"middle\" x=\"181.69\" y=\"-48.78\" font-family=\"Times,serif\" font-size=\"14.00\">RooRealVar</text>\n",
       "<text text-anchor=\"middle\" x=\"181.69\" y=\"-33.78\" font-family=\"Times,serif\" font-size=\"14.00\">sigma_width</text>\n",
       "<text text-anchor=\"middle\" x=\"181.69\" y=\"-18.78\" font-family=\"Times,serif\" font-size=\"14.00\">0.050000</text>\n",
       "</g>\n",
       "<!-- kwidth&#45;&gt;sigma_width -->\n",
       "<g id=\"edge17\" class=\"edge\">\n",
       "<title>kwidth-&gt;sigma_width</title>\n",
       "<path fill=\"none\" stroke=\"black\" d=\"M181.69,-110.85C181.69,-102.67 181.69,-93.89 181.69,-85.37\"/>\n",
       "<polygon fill=\"black\" stroke=\"black\" points=\"185.19,-85.15 181.69,-75.15 178.19,-85.15 185.19,-85.15\"/>\n",
       "</g>\n",
       "<!-- theta_width -->\n",
       "<g id=\"node14\" class=\"node\">\n",
       "<title>theta_width</title>\n",
       "<ellipse fill=\"none\" stroke=\"blue\" cx=\"1318.69\" cy=\"-37.48\" rx=\"58.88\" ry=\"37.45\"/>\n",
       "<text text-anchor=\"middle\" x=\"1318.69\" y=\"-48.78\" font-family=\"Times,serif\" font-size=\"14.00\">RooRealVar</text>\n",
       "<text text-anchor=\"middle\" x=\"1318.69\" y=\"-33.78\" font-family=\"Times,serif\" font-size=\"14.00\">theta_width</text>\n",
       "<text text-anchor=\"middle\" x=\"1318.69\" y=\"-18.78\" font-family=\"Times,serif\" font-size=\"14.00\">0.000000</text>\n",
       "</g>\n",
       "<!-- kwidth&#45;&gt;theta_width -->\n",
       "<g id=\"edge18\" class=\"edge\">\n",
       "<title>kwidth-&gt;theta_width</title>\n",
       "<path fill=\"none\" stroke=\"black\" d=\"M234.06,-121.45C244.34,-117.29 255.19,-113.51 265.69,-110.95 360.87,-87.74 1031.86,-52.73 1250.21,-41.84\"/>\n",
       "<polygon fill=\"black\" stroke=\"black\" points=\"1250.45,-45.33 1260.26,-41.33 1250.1,-38.34 1250.45,-45.33\"/>\n",
       "</g>\n",
       "<!-- nsignal_theory -->\n",
       "<g id=\"node16\" class=\"node\">\n",
       "<title>nsignal_theory</title>\n",
       "<ellipse fill=\"none\" stroke=\"red\" cx=\"819.69\" cy=\"-259.38\" rx=\"74.91\" ry=\"37.45\"/>\n",
       "<text text-anchor=\"middle\" x=\"819.69\" y=\"-270.68\" font-family=\"Times,serif\" font-size=\"14.00\">RooFormulaVar</text>\n",
       "<text text-anchor=\"middle\" x=\"819.69\" y=\"-255.68\" font-family=\"Times,serif\" font-size=\"14.00\">nsignal_theory</text>\n",
       "<text text-anchor=\"middle\" x=\"819.69\" y=\"-240.68\" font-family=\"Times,serif\" font-size=\"14.00\">32.000000</text>\n",
       "</g>\n",
       "<!-- nsignal&#45;&gt;nsignal_theory -->\n",
       "<g id=\"edge20\" class=\"edge\">\n",
       "<title>nsignal-&gt;nsignal_theory</title>\n",
       "<path fill=\"none\" stroke=\"black\" d=\"M819.69,-332.75C819.69,-324.58 819.69,-315.8 819.69,-307.27\"/>\n",
       "<polygon fill=\"black\" stroke=\"black\" points=\"823.19,-307.06 819.69,-297.06 816.19,-307.06 823.19,-307.06\"/>\n",
       "</g>\n",
       "<!-- mu -->\n",
       "<g id=\"node17\" class=\"node\">\n",
       "<title>mu</title>\n",
       "<ellipse fill=\"none\" stroke=\"blue\" cx=\"667.69\" cy=\"-259.38\" rx=\"58.88\" ry=\"37.45\"/>\n",
       "<text text-anchor=\"middle\" x=\"667.69\" y=\"-270.68\" font-family=\"Times,serif\" font-size=\"14.00\">RooRealVar</text>\n",
       "<text text-anchor=\"middle\" x=\"667.69\" y=\"-255.68\" font-family=\"Times,serif\" font-size=\"14.00\">mu</text>\n",
       "<text text-anchor=\"middle\" x=\"667.69\" y=\"-240.68\" font-family=\"Times,serif\" font-size=\"14.00\">1.000000</text>\n",
       "</g>\n",
       "<!-- nsignal&#45;&gt;mu -->\n",
       "<g id=\"edge21\" class=\"edge\">\n",
       "<title>nsignal-&gt;mu</title>\n",
       "<path fill=\"none\" stroke=\"black\" d=\"M781.73,-342.12C761.31,-327.49 735.96,-309.32 714.35,-293.83\"/>\n",
       "<polygon fill=\"black\" stroke=\"black\" points=\"716.13,-290.8 705.96,-287.82 712.05,-296.49 716.13,-290.8\"/>\n",
       "</g>\n",
       "<!-- efficiency -->\n",
       "<g id=\"node18\" class=\"node\">\n",
       "<title>efficiency</title>\n",
       "<ellipse fill=\"none\" stroke=\"red\" cx=\"988.69\" cy=\"-259.38\" rx=\"74.91\" ry=\"37.45\"/>\n",
       "<text text-anchor=\"middle\" x=\"988.69\" y=\"-270.68\" font-family=\"Times,serif\" font-size=\"14.00\">RooFormulaVar</text>\n",
       "<text text-anchor=\"middle\" x=\"988.69\" y=\"-255.68\" font-family=\"Times,serif\" font-size=\"14.00\">efficiency</text>\n",
       "<text text-anchor=\"middle\" x=\"988.69\" y=\"-240.68\" font-family=\"Times,serif\" font-size=\"14.00\">1.200000</text>\n",
       "</g>\n",
       "<!-- nsignal&#45;&gt;efficiency -->\n",
       "<g id=\"edge19\" class=\"edge\">\n",
       "<title>nsignal-&gt;efficiency</title>\n",
       "<path fill=\"none\" stroke=\"black\" d=\"M859.74,-343.52C882.27,-328.99 910.69,-310.67 935.11,-294.93\"/>\n",
       "<polygon fill=\"black\" stroke=\"black\" points=\"937.06,-297.84 943.56,-289.48 933.26,-291.95 937.06,-297.84\"/>\n",
       "</g>\n",
       "<!-- klumi -->\n",
       "<g id=\"node22\" class=\"node\">\n",
       "<title>klumi</title>\n",
       "<ellipse fill=\"none\" stroke=\"red\" cx=\"1156.69\" cy=\"-259.38\" rx=\"74.91\" ry=\"37.45\"/>\n",
       "<text text-anchor=\"middle\" x=\"1156.69\" y=\"-270.68\" font-family=\"Times,serif\" font-size=\"14.00\">RooFormulaVar</text>\n",
       "<text text-anchor=\"middle\" x=\"1156.69\" y=\"-255.68\" font-family=\"Times,serif\" font-size=\"14.00\">klumi</text>\n",
       "<text text-anchor=\"middle\" x=\"1156.69\" y=\"-240.68\" font-family=\"Times,serif\" font-size=\"14.00\">2.000000</text>\n",
       "</g>\n",
       "<!-- nsignal&#45;&gt;klumi -->\n",
       "<g id=\"edge22\" class=\"edge\">\n",
       "<title>nsignal-&gt;klumi</title>\n",
       "<path fill=\"none\" stroke=\"black\" d=\"M860.65,-344.12C868.74,-339.89 877.32,-335.89 885.69,-332.86 965.27,-304.03 991.83,-321.87 1072.69,-296.86 1079.58,-294.73 1086.67,-292.21 1093.67,-289.5\"/>\n",
       "<polygon fill=\"black\" stroke=\"black\" points=\"1095.14,-292.68 1103.13,-285.71 1092.54,-286.18 1095.14,-292.68\"/>\n",
       "</g>\n",
       "<!-- nsignal_theory&#45;&gt;mH -->\n",
       "<g id=\"edge4\" class=\"edge\">\n",
       "<title>nsignal_theory-&gt;mH</title>\n",
       "<path fill=\"none\" stroke=\"black\" d=\"M775.97,-228.61C754.81,-214.21 729.36,-196.87 707.67,-182.1\"/>\n",
       "<polygon fill=\"black\" stroke=\"black\" points=\"709.49,-179.11 699.25,-176.37 705.55,-184.89 709.49,-179.11\"/>\n",
       "</g>\n",
       "<!-- nominal_efficiency -->\n",
       "<g id=\"node19\" class=\"node\">\n",
       "<title>nominal_efficiency</title>\n",
       "<ellipse fill=\"none\" stroke=\"blue\" cx=\"821.69\" cy=\"-148.43\" rx=\"85.62\" ry=\"37.45\"/>\n",
       "<text text-anchor=\"middle\" x=\"821.69\" y=\"-159.73\" font-family=\"Times,serif\" font-size=\"14.00\">RooRealVar</text>\n",
       "<text text-anchor=\"middle\" x=\"821.69\" y=\"-144.73\" font-family=\"Times,serif\" font-size=\"14.00\">nominal_efficiency</text>\n",
       "<text text-anchor=\"middle\" x=\"821.69\" y=\"-129.73\" font-family=\"Times,serif\" font-size=\"14.00\">0.600000</text>\n",
       "</g>\n",
       "<!-- efficiency&#45;&gt;nominal_efficiency -->\n",
       "<g id=\"edge1\" class=\"edge\">\n",
       "<title>efficiency-&gt;nominal_efficiency</title>\n",
       "<path fill=\"none\" stroke=\"black\" d=\"M943.94,-229.19C923.38,-215.77 898.8,-199.74 877.09,-185.57\"/>\n",
       "<polygon fill=\"black\" stroke=\"black\" points=\"878.9,-182.57 868.61,-180.04 875.07,-188.44 878.9,-182.57\"/>\n",
       "</g>\n",
       "<!-- sigma_efficiency -->\n",
       "<g id=\"node20\" class=\"node\">\n",
       "<title>sigma_efficiency</title>\n",
       "<ellipse fill=\"none\" stroke=\"blue\" cx=\"1002.69\" cy=\"-148.43\" rx=\"77.15\" ry=\"37.45\"/>\n",
       "<text text-anchor=\"middle\" x=\"1002.69\" y=\"-159.73\" font-family=\"Times,serif\" font-size=\"14.00\">RooRealVar</text>\n",
       "<text text-anchor=\"middle\" x=\"1002.69\" y=\"-144.73\" font-family=\"Times,serif\" font-size=\"14.00\">sigma_efficiency</text>\n",
       "<text text-anchor=\"middle\" x=\"1002.69\" y=\"-129.73\" font-family=\"Times,serif\" font-size=\"14.00\">0.050000</text>\n",
       "</g>\n",
       "<!-- efficiency&#45;&gt;sigma_efficiency -->\n",
       "<g id=\"edge3\" class=\"edge\">\n",
       "<title>efficiency-&gt;sigma_efficiency</title>\n",
       "<path fill=\"none\" stroke=\"black\" d=\"M993.39,-221.8C994.45,-213.54 995.59,-204.65 996.7,-196.04\"/>\n",
       "<polygon fill=\"black\" stroke=\"black\" points=\"1000.17,-196.47 997.98,-186.1 993.23,-195.57 1000.17,-196.47\"/>\n",
       "</g>\n",
       "<!-- theta_efficiency -->\n",
       "<g id=\"node21\" class=\"node\">\n",
       "<title>theta_efficiency</title>\n",
       "<ellipse fill=\"none\" stroke=\"blue\" cx=\"1305.69\" cy=\"-148.43\" rx=\"72.25\" ry=\"37.45\"/>\n",
       "<text text-anchor=\"middle\" x=\"1305.69\" y=\"-159.73\" font-family=\"Times,serif\" font-size=\"14.00\">RooRealVar</text>\n",
       "<text text-anchor=\"middle\" x=\"1305.69\" y=\"-144.73\" font-family=\"Times,serif\" font-size=\"14.00\">theta_efficiency</text>\n",
       "<text text-anchor=\"middle\" x=\"1305.69\" y=\"-129.73\" font-family=\"Times,serif\" font-size=\"14.00\">0.000000</text>\n",
       "</g>\n",
       "<!-- efficiency&#45;&gt;theta_efficiency -->\n",
       "<g id=\"edge2\" class=\"edge\">\n",
       "<title>efficiency-&gt;theta_efficiency</title>\n",
       "<path fill=\"none\" stroke=\"black\" d=\"M1042.82,-233.21C1052.64,-229.13 1062.88,-225.17 1072.69,-221.91 1138.57,-199.99 1158.96,-208.26 1224.69,-185.91 1231.07,-183.74 1237.62,-181.25 1244.12,-178.61\"/>\n",
       "<polygon fill=\"black\" stroke=\"black\" points=\"1245.68,-181.75 1253.55,-174.66 1242.98,-175.29 1245.68,-181.75\"/>\n",
       "</g>\n",
       "<!-- sigma_lumi -->\n",
       "<g id=\"node23\" class=\"node\">\n",
       "<title>sigma_lumi</title>\n",
       "<ellipse fill=\"none\" stroke=\"blue\" cx=\"1156.69\" cy=\"-148.43\" rx=\"58.88\" ry=\"37.45\"/>\n",
       "<text text-anchor=\"middle\" x=\"1156.69\" y=\"-159.73\" font-family=\"Times,serif\" font-size=\"14.00\">RooRealVar</text>\n",
       "<text text-anchor=\"middle\" x=\"1156.69\" y=\"-144.73\" font-family=\"Times,serif\" font-size=\"14.00\">sigma_lumi</text>\n",
       "<text text-anchor=\"middle\" x=\"1156.69\" y=\"-129.73\" font-family=\"Times,serif\" font-size=\"14.00\">0.020000</text>\n",
       "</g>\n",
       "<!-- klumi&#45;&gt;sigma_lumi -->\n",
       "<g id=\"edge26\" class=\"edge\">\n",
       "<title>klumi-&gt;sigma_lumi</title>\n",
       "<path fill=\"none\" stroke=\"black\" d=\"M1156.69,-221.8C1156.69,-213.63 1156.69,-204.85 1156.69,-196.32\"/>\n",
       "<polygon fill=\"black\" stroke=\"black\" points=\"1160.19,-196.1 1156.69,-186.1 1153.19,-196.1 1160.19,-196.1\"/>\n",
       "</g>\n",
       "<!-- theta_lumi -->\n",
       "<g id=\"node24\" class=\"node\">\n",
       "<title>theta_lumi</title>\n",
       "<ellipse fill=\"none\" stroke=\"blue\" cx=\"1454.69\" cy=\"-148.43\" rx=\"58.88\" ry=\"37.45\"/>\n",
       "<text text-anchor=\"middle\" x=\"1454.69\" y=\"-159.73\" font-family=\"Times,serif\" font-size=\"14.00\">RooRealVar</text>\n",
       "<text text-anchor=\"middle\" x=\"1454.69\" y=\"-144.73\" font-family=\"Times,serif\" font-size=\"14.00\">theta_lumi</text>\n",
       "<text text-anchor=\"middle\" x=\"1454.69\" y=\"-129.73\" font-family=\"Times,serif\" font-size=\"14.00\">0.000000</text>\n",
       "</g>\n",
       "<!-- klumi&#45;&gt;theta_lumi -->\n",
       "<g id=\"edge25\" class=\"edge\">\n",
       "<title>klumi-&gt;theta_lumi</title>\n",
       "<path fill=\"none\" stroke=\"black\" d=\"M1222.3,-241.25C1268.95,-228.21 1332.68,-208.67 1386.69,-185.91 1391.99,-183.67 1397.42,-181.16 1402.8,-178.53\"/>\n",
       "<polygon fill=\"black\" stroke=\"black\" points=\"1404.4,-181.65 1411.75,-174.02 1401.25,-175.4 1404.4,-181.65\"/>\n",
       "</g>\n",
       "<!-- background&#45;&gt;mass -->\n",
       "<g id=\"edge16\" class=\"edge\">\n",
       "<title>background-&gt;mass</title>\n",
       "<path fill=\"none\" stroke=\"black\" d=\"M193.69,-332.75C193.69,-324.58 193.69,-315.8 193.69,-307.27\"/>\n",
       "<polygon fill=\"black\" stroke=\"black\" points=\"197.19,-307.06 193.69,-297.06 190.19,-307.06 197.19,-307.06\"/>\n",
       "</g>\n",
       "<!-- tau -->\n",
       "<g id=\"node26\" class=\"node\">\n",
       "<title>tau</title>\n",
       "<ellipse fill=\"none\" stroke=\"blue\" cx=\"58.69\" cy=\"-259.38\" rx=\"58.88\" ry=\"37.45\"/>\n",
       "<text text-anchor=\"middle\" x=\"58.69\" y=\"-270.68\" font-family=\"Times,serif\" font-size=\"14.00\">RooRealVar</text>\n",
       "<text text-anchor=\"middle\" x=\"58.69\" y=\"-255.68\" font-family=\"Times,serif\" font-size=\"14.00\">tau</text>\n",
       "<text text-anchor=\"middle\" x=\"58.69\" y=\"-240.68\" font-family=\"Times,serif\" font-size=\"14.00\">-0.030000</text>\n",
       "</g>\n",
       "<!-- background&#45;&gt;tau -->\n",
       "<g id=\"edge15\" class=\"edge\">\n",
       "<title>background-&gt;tau</title>\n",
       "<path fill=\"none\" stroke=\"black\" d=\"M155,-338.11C138.67,-324.93 119.56,-309.51 102.68,-295.89\"/>\n",
       "<polygon fill=\"black\" stroke=\"black\" points=\"104.58,-292.93 94.6,-289.37 100.19,-298.37 104.58,-292.93\"/>\n",
       "</g>\n",
       "<!-- constrain_peak -->\n",
       "<g id=\"node29\" class=\"node\">\n",
       "<title>constrain_peak</title>\n",
       "<ellipse fill=\"none\" stroke=\"red\" cx=\"2171.69\" cy=\"-259.38\" rx=\"69.09\" ry=\"37.45\"/>\n",
       "<text text-anchor=\"middle\" x=\"2171.69\" y=\"-270.68\" font-family=\"Times,serif\" font-size=\"14.00\">RooGaussian</text>\n",
       "<text text-anchor=\"middle\" x=\"2171.69\" y=\"-255.68\" font-family=\"Times,serif\" font-size=\"14.00\">constrain_peak</text>\n",
       "<text text-anchor=\"middle\" x=\"2171.69\" y=\"-240.68\" font-family=\"Times,serif\" font-size=\"14.00\">1.000000</text>\n",
       "</g>\n",
       "<!-- constraints&#45;&gt;constrain_peak -->\n",
       "<g id=\"edge40\" class=\"edge\">\n",
       "<title>constraints-&gt;constrain_peak</title>\n",
       "<path fill=\"none\" stroke=\"black\" d=\"M1816.78,-355.62C1873.05,-341.27 1963.66,-317.94 2041.69,-296.86 2060.96,-291.65 2081.8,-285.88 2101.02,-280.48\"/>\n",
       "<polygon fill=\"black\" stroke=\"black\" points=\"2102.23,-283.78 2110.91,-277.7 2100.34,-277.04 2102.23,-283.78\"/>\n",
       "</g>\n",
       "<!-- constrain_lumi -->\n",
       "<g id=\"node32\" class=\"node\">\n",
       "<title>constrain_lumi</title>\n",
       "<ellipse fill=\"none\" stroke=\"red\" cx=\"1762.69\" cy=\"-259.38\" rx=\"69.09\" ry=\"37.45\"/>\n",
       "<text text-anchor=\"middle\" x=\"1762.69\" y=\"-270.68\" font-family=\"Times,serif\" font-size=\"14.00\">RooGaussian</text>\n",
       "<text text-anchor=\"middle\" x=\"1762.69\" y=\"-255.68\" font-family=\"Times,serif\" font-size=\"14.00\">constrain_lumi</text>\n",
       "<text text-anchor=\"middle\" x=\"1762.69\" y=\"-240.68\" font-family=\"Times,serif\" font-size=\"14.00\">1.000000</text>\n",
       "</g>\n",
       "<!-- constraints&#45;&gt;constrain_lumi -->\n",
       "<g id=\"edge43\" class=\"edge\">\n",
       "<title>constraints-&gt;constrain_lumi</title>\n",
       "<path fill=\"none\" stroke=\"black\" d=\"M1762.69,-332.75C1762.69,-324.58 1762.69,-315.8 1762.69,-307.27\"/>\n",
       "<polygon fill=\"black\" stroke=\"black\" points=\"1766.19,-307.06 1762.69,-297.06 1759.19,-307.06 1766.19,-307.06\"/>\n",
       "</g>\n",
       "<!-- constrain_width -->\n",
       "<g id=\"node34\" class=\"node\">\n",
       "<title>constrain_width</title>\n",
       "<ellipse fill=\"none\" stroke=\"red\" cx=\"1958.69\" cy=\"-259.38\" rx=\"73.58\" ry=\"37.45\"/>\n",
       "<text text-anchor=\"middle\" x=\"1958.69\" y=\"-270.68\" font-family=\"Times,serif\" font-size=\"14.00\">RooGaussian</text>\n",
       "<text text-anchor=\"middle\" x=\"1958.69\" y=\"-255.68\" font-family=\"Times,serif\" font-size=\"14.00\">constrain_width</text>\n",
       "<text text-anchor=\"middle\" x=\"1958.69\" y=\"-240.68\" font-family=\"Times,serif\" font-size=\"14.00\">1.000000</text>\n",
       "</g>\n",
       "<!-- constraints&#45;&gt;constrain_width -->\n",
       "<g id=\"edge42\" class=\"edge\">\n",
       "<title>constraints-&gt;constrain_width</title>\n",
       "<path fill=\"none\" stroke=\"black\" d=\"M1806.19,-345.16C1834.11,-329.64 1870.68,-309.31 1901.01,-292.44\"/>\n",
       "<polygon fill=\"black\" stroke=\"black\" points=\"1902.76,-295.48 1909.8,-287.56 1899.36,-289.36 1902.76,-295.48\"/>\n",
       "</g>\n",
       "<!-- constrain_eff -->\n",
       "<g id=\"node36\" class=\"node\">\n",
       "<title>constrain_eff</title>\n",
       "<ellipse fill=\"none\" stroke=\"red\" cx=\"1610.69\" cy=\"-259.38\" rx=\"62.87\" ry=\"37.45\"/>\n",
       "<text text-anchor=\"middle\" x=\"1610.69\" y=\"-270.68\" font-family=\"Times,serif\" font-size=\"14.00\">RooGaussian</text>\n",
       "<text text-anchor=\"middle\" x=\"1610.69\" y=\"-255.68\" font-family=\"Times,serif\" font-size=\"14.00\">constrain_eff</text>\n",
       "<text text-anchor=\"middle\" x=\"1610.69\" y=\"-240.68\" font-family=\"Times,serif\" font-size=\"14.00\">1.000000</text>\n",
       "</g>\n",
       "<!-- constraints&#45;&gt;constrain_eff -->\n",
       "<g id=\"edge41\" class=\"edge\">\n",
       "<title>constraints-&gt;constrain_eff</title>\n",
       "<path fill=\"none\" stroke=\"black\" d=\"M1724.33,-341.84C1704.3,-327.48 1679.6,-309.78 1658.35,-294.55\"/>\n",
       "<polygon fill=\"black\" stroke=\"black\" points=\"1660.26,-291.61 1650.09,-288.63 1656.18,-297.3 1660.26,-291.61\"/>\n",
       "</g>\n",
       "<!-- constrain_peak&#45;&gt;theta_mH -->\n",
       "<g id=\"edge6\" class=\"edge\">\n",
       "<title>constrain_peak-&gt;theta_mH</title>\n",
       "<path fill=\"none\" stroke=\"black\" d=\"M2229.22,-238.38C2252.99,-226.94 2278.11,-209.96 2291.69,-185.91 2308.06,-156.89 2313.1,-136.48 2291.69,-110.95 2248.98,-60.04 2056.1,-44.87 1950.81,-40.37\"/>\n",
       "<polygon fill=\"black\" stroke=\"black\" points=\"1950.73,-36.86 1940.59,-39.95 1950.44,-43.86 1950.73,-36.86\"/>\n",
       "</g>\n",
       "<!-- 1 -->\n",
       "<g id=\"node30\" class=\"node\">\n",
       "<title>1</title>\n",
       "<ellipse fill=\"none\" stroke=\"red\" cx=\"1902.69\" cy=\"-148.43\" rx=\"63.78\" ry=\"37.45\"/>\n",
       "<text text-anchor=\"middle\" x=\"1902.69\" y=\"-159.73\" font-family=\"Times,serif\" font-size=\"14.00\">RooConstVar</text>\n",
       "<text text-anchor=\"middle\" x=\"1902.69\" y=\"-144.73\" font-family=\"Times,serif\" font-size=\"14.00\">1</text>\n",
       "<text text-anchor=\"middle\" x=\"1902.69\" y=\"-129.73\" font-family=\"Times,serif\" font-size=\"14.00\">1.000000</text>\n",
       "</g>\n",
       "<!-- constrain_peak&#45;&gt;1 -->\n",
       "<g id=\"edge5\" class=\"edge\">\n",
       "<title>constrain_peak-&gt;1</title>\n",
       "<path fill=\"none\" stroke=\"black\" d=\"M2116.93,-236.2C2072.52,-218.22 2009.96,-192.88 1963.91,-174.22\"/>\n",
       "<polygon fill=\"black\" stroke=\"black\" points=\"1965.22,-170.98 1954.63,-170.47 1962.59,-177.47 1965.22,-170.98\"/>\n",
       "</g>\n",
       "<!-- global_peak -->\n",
       "<g id=\"node31\" class=\"node\">\n",
       "<title>global_peak</title>\n",
       "<ellipse fill=\"none\" stroke=\"blue\" cx=\"2223.69\" cy=\"-148.43\" rx=\"58.88\" ry=\"37.45\"/>\n",
       "<text text-anchor=\"middle\" x=\"2223.69\" y=\"-159.73\" font-family=\"Times,serif\" font-size=\"14.00\">RooRealVar</text>\n",
       "<text text-anchor=\"middle\" x=\"2223.69\" y=\"-144.73\" font-family=\"Times,serif\" font-size=\"14.00\">global_peak</text>\n",
       "<text text-anchor=\"middle\" x=\"2223.69\" y=\"-129.73\" font-family=\"Times,serif\" font-size=\"14.00\">0.000000</text>\n",
       "</g>\n",
       "<!-- constrain_peak&#45;&gt;global_peak -->\n",
       "<g id=\"edge7\" class=\"edge\">\n",
       "<title>constrain_peak-&gt;global_peak</title>\n",
       "<path fill=\"none\" stroke=\"black\" d=\"M2188.57,-223.01C2193.02,-213.69 2197.88,-203.51 2202.52,-193.78\"/>\n",
       "<polygon fill=\"black\" stroke=\"black\" points=\"2205.74,-195.16 2206.89,-184.63 2199.43,-192.14 2205.74,-195.16\"/>\n",
       "</g>\n",
       "<!-- constrain_lumi&#45;&gt;theta_lumi -->\n",
       "<g id=\"edge39\" class=\"edge\">\n",
       "<title>constrain_lumi-&gt;theta_lumi</title>\n",
       "<path fill=\"none\" stroke=\"black\" d=\"M1712.11,-233.42C1702.49,-229.21 1692.39,-225.16 1682.69,-221.91 1613.18,-198.57 1590.33,-211.69 1521.69,-185.91 1516.5,-183.96 1511.21,-181.67 1506,-179.21\"/>\n",
       "<polygon fill=\"black\" stroke=\"black\" points=\"1507.26,-175.92 1496.74,-174.62 1504.15,-182.19 1507.26,-175.92\"/>\n",
       "</g>\n",
       "<!-- constrain_lumi&#45;&gt;1 -->\n",
       "<g id=\"edge37\" class=\"edge\">\n",
       "<title>constrain_lumi-&gt;1</title>\n",
       "<path fill=\"none\" stroke=\"black\" d=\"M1801.69,-228.03C1818.81,-214.71 1839.03,-198.97 1856.86,-185.1\"/>\n",
       "<polygon fill=\"black\" stroke=\"black\" points=\"1859.13,-187.77 1864.87,-178.86 1854.83,-182.24 1859.13,-187.77\"/>\n",
       "</g>\n",
       "<!-- global_lumi -->\n",
       "<g id=\"node33\" class=\"node\">\n",
       "<title>global_lumi</title>\n",
       "<ellipse fill=\"none\" stroke=\"blue\" cx=\"1762.69\" cy=\"-148.43\" rx=\"58.88\" ry=\"37.45\"/>\n",
       "<text text-anchor=\"middle\" x=\"1762.69\" y=\"-159.73\" font-family=\"Times,serif\" font-size=\"14.00\">RooRealVar</text>\n",
       "<text text-anchor=\"middle\" x=\"1762.69\" y=\"-144.73\" font-family=\"Times,serif\" font-size=\"14.00\">global_lumi</text>\n",
       "<text text-anchor=\"middle\" x=\"1762.69\" y=\"-129.73\" font-family=\"Times,serif\" font-size=\"14.00\">0.000000</text>\n",
       "</g>\n",
       "<!-- constrain_lumi&#45;&gt;global_lumi -->\n",
       "<g id=\"edge38\" class=\"edge\">\n",
       "<title>constrain_lumi-&gt;global_lumi</title>\n",
       "<path fill=\"none\" stroke=\"black\" d=\"M1762.69,-221.8C1762.69,-213.63 1762.69,-204.85 1762.69,-196.32\"/>\n",
       "<polygon fill=\"black\" stroke=\"black\" points=\"1766.19,-196.1 1762.69,-186.1 1759.19,-196.1 1766.19,-196.1\"/>\n",
       "</g>\n",
       "<!-- constrain_width&#45;&gt;theta_width -->\n",
       "<g id=\"edge36\" class=\"edge\">\n",
       "<title>constrain_width-&gt;theta_width</title>\n",
       "<path fill=\"none\" stroke=\"black\" d=\"M1976.46,-222.81C1990.17,-189.71 2002.68,-141.08 1975.69,-110.95 1956.18,-89.17 1551.13,-56.12 1386.93,-43.56\"/>\n",
       "<polygon fill=\"black\" stroke=\"black\" points=\"1387.18,-40.07 1376.94,-42.8 1386.64,-47.05 1387.18,-40.07\"/>\n",
       "</g>\n",
       "<!-- constrain_width&#45;&gt;1 -->\n",
       "<g id=\"edge34\" class=\"edge\">\n",
       "<title>constrain_width-&gt;1</title>\n",
       "<path fill=\"none\" stroke=\"black\" d=\"M1940.51,-223.01C1935.72,-213.69 1930.48,-203.51 1925.48,-193.78\"/>\n",
       "<polygon fill=\"black\" stroke=\"black\" points=\"1928.46,-191.92 1920.78,-184.63 1922.24,-195.12 1928.46,-191.92\"/>\n",
       "</g>\n",
       "<!-- global_width -->\n",
       "<g id=\"node35\" class=\"node\">\n",
       "<title>global_width</title>\n",
       "<ellipse fill=\"none\" stroke=\"blue\" cx=\"2084.69\" cy=\"-148.43\" rx=\"62.45\" ry=\"37.45\"/>\n",
       "<text text-anchor=\"middle\" x=\"2084.69\" y=\"-159.73\" font-family=\"Times,serif\" font-size=\"14.00\">RooRealVar</text>\n",
       "<text text-anchor=\"middle\" x=\"2084.69\" y=\"-144.73\" font-family=\"Times,serif\" font-size=\"14.00\">global_width</text>\n",
       "<text text-anchor=\"middle\" x=\"2084.69\" y=\"-129.73\" font-family=\"Times,serif\" font-size=\"14.00\">0.000000</text>\n",
       "</g>\n",
       "<!-- constrain_width&#45;&gt;global_width -->\n",
       "<g id=\"edge35\" class=\"edge\">\n",
       "<title>constrain_width-&gt;global_width</title>\n",
       "<path fill=\"none\" stroke=\"black\" d=\"M1995.47,-226.58C2010.07,-213.95 2026.95,-199.35 2042.08,-186.27\"/>\n",
       "<polygon fill=\"black\" stroke=\"black\" points=\"2044.53,-188.78 2049.81,-179.59 2039.96,-183.49 2044.53,-188.78\"/>\n",
       "</g>\n",
       "<!-- constrain_eff&#45;&gt;theta_efficiency -->\n",
       "<g id=\"edge32\" class=\"edge\">\n",
       "<title>constrain_eff-&gt;theta_efficiency</title>\n",
       "<path fill=\"none\" stroke=\"black\" d=\"M1554.4,-242.05C1508.73,-228.35 1442.94,-207.6 1386.69,-185.91 1380.5,-183.52 1374.11,-180.91 1367.75,-178.21\"/>\n",
       "<polygon fill=\"black\" stroke=\"black\" points=\"1369.06,-174.96 1358.49,-174.21 1366.29,-181.39 1369.06,-174.96\"/>\n",
       "</g>\n",
       "<!-- constrain_eff&#45;&gt;1 -->\n",
       "<g id=\"edge31\" class=\"edge\">\n",
       "<title>constrain_eff-&gt;1</title>\n",
       "<path fill=\"none\" stroke=\"black\" d=\"M1657,-233.66C1666.03,-229.38 1675.54,-225.25 1684.69,-221.91 1747.47,-199 1768.03,-209.16 1830.69,-185.91 1836.24,-183.85 1841.93,-181.47 1847.55,-178.94\"/>\n",
       "<polygon fill=\"black\" stroke=\"black\" points=\"1849.33,-181.97 1856.91,-174.57 1846.37,-175.63 1849.33,-181.97\"/>\n",
       "</g>\n",
       "<!-- global_efficiency -->\n",
       "<g id=\"node37\" class=\"node\">\n",
       "<title>global_efficiency</title>\n",
       "<ellipse fill=\"none\" stroke=\"blue\" cx=\"1608.69\" cy=\"-148.43\" rx=\"77.56\" ry=\"37.45\"/>\n",
       "<text text-anchor=\"middle\" x=\"1608.69\" y=\"-159.73\" font-family=\"Times,serif\" font-size=\"14.00\">RooRealVar</text>\n",
       "<text text-anchor=\"middle\" x=\"1608.69\" y=\"-144.73\" font-family=\"Times,serif\" font-size=\"14.00\">global_efficiency</text>\n",
       "<text text-anchor=\"middle\" x=\"1608.69\" y=\"-129.73\" font-family=\"Times,serif\" font-size=\"14.00\">0.000000</text>\n",
       "</g>\n",
       "<!-- constrain_eff&#45;&gt;global_efficiency -->\n",
       "<g id=\"edge33\" class=\"edge\">\n",
       "<title>constrain_eff-&gt;global_efficiency</title>\n",
       "<path fill=\"none\" stroke=\"black\" d=\"M1610.02,-221.8C1609.87,-213.63 1609.71,-204.85 1609.55,-196.32\"/>\n",
       "<polygon fill=\"black\" stroke=\"black\" points=\"1613.05,-196.04 1609.36,-186.1 1606.05,-196.16 1613.05,-196.04\"/>\n",
       "</g>\n",
       "</g>\n",
       "</svg>"
      ],
      "text/plain": [
       "<IPython.core.display.SVG object>"
      ]
     },
     "execution_count": 15,
     "metadata": {},
     "output_type": "execute_result"
    }
   ],
   "source": [
    "model.graphVizTree(\"shape_graph.dot\")\n",
    "!dot -Tsvg shape_graph.dot > shape_graph.svg; rm shape_graph.dot\n",
    "s = SVG(\"shape_graph.svg\")\n",
    "s.data = re.sub(r'width=\"[0-9]+pt\"', r'width=\"90%\"', s.data)\n",
    "s.data = re.sub(r'height=\"[0-9]+pt\"', r'height=\"\"', s.data)\n",
    "s"
   ]
  },
  {
   "cell_type": "code",
   "execution_count": 16,
   "metadata": {
    "slideshow": {
     "slide_type": "subslide"
    }
   },
   "outputs": [
    {
     "data": {
      "text/plain": [
       "False"
      ]
     },
     "execution_count": 16,
     "metadata": {},
     "output_type": "execute_result"
    }
   ],
   "source": [
    "RooStats.SetAllConstant(ws.allVars().selectByName('global*'))\n",
    "\n",
    "data = model.generate(ROOT.RooArgSet(mass))\n",
    "data.SetName('obsData')\n",
    "getattr(ws, 'import')(data)"
   ]
  },
  {
   "cell_type": "code",
   "execution_count": 17,
   "metadata": {
    "slideshow": {
     "slide_type": "subslide"
    }
   },
   "outputs": [
    {
     "name": "stdout",
     "output_type": "stream",
     "text": [
      " **********\n",
      " **    1 **SET PRINT           0\n",
      " **********\n",
      " **********\n",
      " **    2 **SET NOGRAD\n",
      " **********\n",
      " PARAMETER DEFINITIONS:\n",
      "    NO.   NAME         VALUE      STEP SIZE      LIMITS\n",
      "     1 mH           1.25000e+02  6.00000e+00    9.00000e+01  1.50000e+02\n",
      "     2 mu           1.00000e+00  7.00000e-01   -2.00000e+00  5.00000e+00\n",
      "     3 nbkg         4.00000e+02  1.00000e+02    0.00000e+00  1.00000e+03\n",
      "     4 tau         -3.00000e-02  1.45000e-02   -5.00000e-01 -1.00000e-03\n",
      "     5 theta_efficiency   0.00000e+00  1.00000e+00   -5.00000e+00  5.00000e+00\n",
      "     6 theta_lumi   0.00000e+00  1.00000e+00   -5.00000e+00  5.00000e+00\n",
      "     7 theta_mH     0.00000e+00  1.00000e+00   -5.00000e+00  5.00000e+00\n",
      "     8 theta_width   0.00000e+00  1.00000e+00   -5.00000e+00  5.00000e+00\n",
      " **********\n",
      " **    3 **SET ERR         0.5\n",
      " **********\n",
      " **********\n",
      " **    4 **SET PRINT           0\n",
      " **********\n",
      " **********\n",
      " **    5 **SET STR           1\n",
      " **********\n",
      " **********\n",
      " **    6 **MIGRAD        4000           1\n",
      " **********\n",
      " MIGRAD MINIMIZATION HAS CONVERGED.\n",
      " MIGRAD WILL VERIFY CONVERGENCE AND ERROR MATRIX.\n",
      " FCN=-432.306 FROM MIGRAD    STATUS=CONVERGED     197 CALLS         198 TOTAL\n",
      "                     EDM=1.00728e-07    STRATEGY= 1      ERROR MATRIX ACCURATE \n",
      "  EXT PARAMETER                                   STEP         FIRST   \n",
      "  NO.   NAME      VALUE            ERROR          SIZE      DERIVATIVE \n",
      "   1  mH           1.24016e+02   1.78099e+00   6.07882e-04   5.09816e-03\n",
      "   2  mu           8.73254e-01   1.81123e-01   6.61390e-04  -1.00931e-03\n",
      "   3  nbkg         4.10348e+02   2.30470e+01   6.19653e-04   1.44279e-03\n",
      "   4  tau         -2.44693e-02   2.57891e-03   3.28008e-04  -2.43511e-03\n",
      "   5  theta_efficiency  -1.18309e-04   9.93384e-01   2.84645e-03  -6.23520e-04\n",
      "   6  theta_lumi  -1.30614e-04   9.93353e-01   2.86885e-03  -6.65866e-04\n",
      "   7  theta_mH     8.79067e-05   9.93034e-01   2.04781e-03   1.51303e-03\n",
      "   8  theta_width   1.68217e-01   9.82342e-01   2.78729e-03  -1.17561e-04\n",
      "                               ERR DEF= 0.5\n",
      " **********\n",
      " **    7 **SET ERR         0.5\n",
      " **********\n",
      " **********\n",
      " **    8 **SET PRINT           0\n",
      " **********\n",
      " **********\n",
      " **    9 **HESSE        4000\n",
      " **********\n",
      " FCN=-432.306 FROM HESSE     STATUS=OK             61 CALLS         259 TOTAL\n",
      "                     EDM=1.00746e-07    STRATEGY= 1      ERROR MATRIX ACCURATE \n",
      "  EXT PARAMETER                                INTERNAL      INTERNAL  \n",
      "  NO.   NAME      VALUE            ERROR       STEP SIZE       VALUE   \n",
      "   1  mH           1.24016e+02   1.78144e+00   1.21576e-04   1.34262e-01\n",
      "   2  mu           8.73254e-01   1.81186e-01   2.64556e-05  -1.80041e-01\n",
      "   3  nbkg         4.10348e+02   2.30536e+01   1.23931e-04  -1.80279e-01\n",
      "   4  tau         -2.44693e-02   2.57973e-03   1.31203e-05   1.13358e+00\n",
      "   5  theta_efficiency  -1.18309e-04   9.93350e-01   5.69289e-04  -2.36619e-05\n",
      "   6  theta_lumi  -1.30614e-04   9.93347e-01   5.73770e-04  -2.61229e-05\n",
      "   7  theta_mH     8.79067e-05   9.93287e-01   4.09561e-04   1.75813e-05\n",
      "   8  theta_width   1.68217e-01   9.82367e-01   5.57458e-04   3.36497e-02\n",
      "                               ERR DEF= 0.5\n"
     ]
    }
   ],
   "source": [
    "ROOT.RooMsgService.instance().setGlobalKillBelow(5)\n",
    "fit_result = model.fitTo(data, ROOT.RooFit.Save(), RooFit.PrintLevel(0))"
   ]
  },
  {
   "cell_type": "code",
   "execution_count": 18,
   "metadata": {},
   "outputs": [
    {
     "name": "stdout",
     "output_type": "stream",
     "text": [
      "\n",
      "  RooFitResult: minimized FCN value: -432.306, estimated distance to minimum: 1.00746e-07\n",
      "                covariance matrix quality: Full, accurate covariance matrix\n",
      "                Status : MINIMIZE=0 HESSE=0 \n",
      "\n",
      "    Floating Parameter    FinalValue +/-  Error   \n",
      "  --------------------  --------------------------\n",
      "                    mH    1.2402e+02 +/-  1.78e+00\n",
      "                    mu    8.7325e-01 +/-  1.81e-01\n",
      "                  nbkg    4.1035e+02 +/-  2.31e+01\n",
      "                   tau   -2.4469e-02 +/-  2.58e-03\n",
      "      theta_efficiency   -1.1831e-04 +/-  9.93e-01\n",
      "            theta_lumi   -1.3061e-04 +/-  9.93e-01\n",
      "              theta_mH    8.7907e-05 +/-  9.93e-01\n",
      "           theta_width    1.6822e-01 +/-  9.82e-01\n",
      "\n"
     ]
    }
   ],
   "source": [
    "fit_result.Print()"
   ]
  },
  {
   "cell_type": "code",
   "execution_count": 19,
   "metadata": {
    "slideshow": {
     "slide_type": "subslide"
    }
   },
   "outputs": [
    {
     "data": {
      "image/png": "[encoded data removed]",
      "text/plain": [
       "<IPython.core.display.Image object>"
      ]
     },
     "metadata": {},
     "output_type": "display_data"
    }
   ],
   "source": [
    "frame = mass.frame(50)\n",
    "data.plotOn(frame)\n",
    "model.plotOn(frame)\n",
    "frame.Draw()\n",
    "ROOT.gPad.Draw()"
   ]
  },
  {
   "cell_type": "code",
   "execution_count": 20,
   "metadata": {
    "slideshow": {
     "slide_type": "subslide"
    }
   },
   "outputs": [
    {
     "data": {
      "text/plain": [
       "False"
      ]
     },
     "execution_count": 20,
     "metadata": {},
     "output_type": "execute_result"
    }
   ],
   "source": [
    "sbModel = RooStats.ModelConfig('sbModel', ws)\n",
    "sbModel.SetPdf('model')\n",
    "nps = ws.allVars().selectByName('theta*')\n",
    "nps.add(ws.var('tau'))\n",
    "nps.add(ws.var('nbkg'))\n",
    "sbModel.SetNuisanceParameters(nps)\n",
    "sbModel.SetObservables('mass')\n",
    "sbModel.SetParametersOfInterest('mu')\n",
    "sbModel.SetGlobalObservables(ws.allVars().selectByName('global*'))\n",
    "sbModel.SetSnapshot(ROOT.RooArgSet(ws.var('mu')))\n",
    "\n",
    "bModel = sbModel.Clone('bModel')\n",
    "ws.var('mu').setVal(0)\n",
    "bModel.SetSnapshot(ROOT.RooArgSet(ws.var('mu')))\n",
    "\n",
    "getattr(ws, 'import')(sbModel)\n",
    "getattr(ws, 'import')(bModel)\n",
    "\n",
    "ws.writeToFile('ws_shape.root')"
   ]
  },
  {
   "cell_type": "markdown",
   "metadata": {
    "slideshow": {
     "slide_type": "slide"
    }
   },
   "source": [
    "## Test statistics $t_\\mu$ and $\\tilde{t}_\\mu$\n",
    "\n",
    "$$ t_\\mu = -2\\log\\lambda (\\mu) = -2\\log \\frac{L(\\mu, \\hat{\\hat{\\theta}}(\\mu))}{L(\\hat{\\mu}, \\hat{\\theta})}$$\n",
    "\n",
    "High value means incompatiblity with data. If we want to test a specific $\\mu$ we can compute the p-value $= \\int_{t_{\\mu, obs}}^\\infty f(t_\\mu|\\mu) dt_\\mu$."
   ]
  },
  {
   "cell_type": "markdown",
   "metadata": {
    "slideshow": {
     "slide_type": "subslide"
    }
   },
   "source": [
    "Usually we can assume that $\\mu\\geq 0$, so we need a new test statistic:\n",
    "\n",
    "$$ \\tilde{t}_\\mu = -2\\log \\tilde\\lambda(\\mu)$$\n",
    "\n",
    "$$ \\tilde\\lambda(\\mu) = \\begin{cases} \n",
    "      \\hfill \\frac{L(\\mu, \\hat{\\hat{\\theta}}(\\mu))}{L(0, \\hat{\\theta}(0))}    \\hfill & \\hat{\\mu} < 0 \\\\\n",
    "      \\hfill \\frac{L(\\mu, \\hat{\\hat{\\theta}}(\\mu))}{L(\\hat{\\mu}, \\hat{\\theta})} \\hfill & \\hat{\\mu} \\geq 0 \\\\\n",
    "  \\end{cases}$$"
   ]
  },
  {
   "cell_type": "markdown",
   "metadata": {
    "slideshow": {
     "slide_type": "subslide"
    }
   },
   "source": [
    "## $q_0$ statistics for discovery of positive signal\n",
    "\n",
    "For discovery we want to exclude the hypothesis $s=0$ (background-only), assuming $\\mu\\geq 0$. Defining $q_0 = \\tilde{t}_0$:\n",
    "\n",
    "$$ q_0 = \n",
    "\\begin{cases} \n",
    "-2\\log\\lambda(0)\\qquad &\\hat \\mu\\geq 0 \\\\\n",
    "0\\qquad &\\hat \\mu < 0\n",
    "\\end{cases}\n",
    "$$\n",
    "\n",
    "If $\\hat \\mu<0$ it means that we are observing less events than the one predicted by the background-only model. Since we are truncating the definition of test statistics we are not considering downward fluctuation as discrepancies with the model. High value of $\\hat\\mu$ means high value of $q_0$ and large discrepancy with the background-only model."
   ]
  },
  {
   "cell_type": "markdown",
   "metadata": {
    "slideshow": {
     "slide_type": "subslide"
    }
   },
   "source": [
    " The p-value is computed as usual:\n",
    "\n",
    "$$ \\text{p-value} = p_0 = \\int_{q_{0, obs}}^\\infty f(q_0|\\mu=0)\\, dq_0$$\n",
    "\n",
    "### Exercize\n",
    "If we assume that the background model is true, how many times we will get $\\hat \\mu<0$? If $f(t_0|\\mu=0)$ is a $\\chi^2$ distribution what about $f(q_0|\\mu=0)$?"
   ]
  },
  {
   "cell_type": "markdown",
   "metadata": {
    "slideshow": {
     "slide_type": "subslide"
    }
   },
   "source": [
    "## $q_\\mu$ statistic for exclusion\n",
    "Suppose we want to put an upper limit, so we define as null hypothesis to exclude the hypotesis signal+background with $\\mu$ as signal multiplier.\n",
    "\n",
    "$$\n",
    "q_\\mu=\\begin{cases}\n",
    "-2\\log\\lambda(\\mu)\\qquad & \\hat\\mu \\leq \\mu\\\\\n",
    "0 \\qquad & \\hat\\mu > \\mu\n",
    "\\end{cases}\n",
    "$$\n",
    "\n",
    "we set $q_\\mu=0$ when observing a value of $\\mu$ greater than the one we are observing since we don't want it to enter in the rejection region when doing an upper limit; we don't want that upper fluctuation count as bad agreement with data."
   ]
  },
  {
   "cell_type": "markdown",
   "metadata": {
    "slideshow": {
     "slide_type": "subslide"
    }
   },
   "source": [
    " The p-value is computed in the usual way, assuming the null-hypothesis ($\\mu$) true:\n",
    "\n",
    "$$ \\text{p-value} = p_\\mu = \\int_{q_{\\mu, obs}}^\\infty f(q_\\mu|\\mu)\\, dq_\\mu$$\n",
    "\n",
    "\n",
    "### Questions\n",
    "What is the relation between $q_\\mu$ and $q_0$? Are you looking in the same tail of $\\mu$?"
   ]
  },
  {
   "cell_type": "markdown",
   "metadata": {
    "slideshow": {
     "slide_type": "slide"
    }
   },
   "source": [
    "Let's try to write the profiled likelihood ratio for the shape model:\n",
    "\n",
    "$$\\frac{\\sup L(0, m_H, \\theta)}{\\sup L(\\mu, m_H, \\theta)}$$\n",
    "\n",
    "Is $m_H$ playing a role in the numerator? No! The numerator is not a special case of the numerator! $m_H$ is not a nuisance parameter that can be profiled.\n",
    "\n",
    "The commont solution is to repeat the test for fixed value of $m_H$: in that case $m_H$ is considered to be a constant."
   ]
  },
  {
   "cell_type": "code",
   "execution_count": 21,
   "metadata": {
    "slideshow": {
     "slide_type": "subslide"
    }
   },
   "outputs": [
    {
     "name": "stdout",
     "output_type": "stream",
     "text": [
      "mH =  90.0 pvalue = 0.5  significance = -0.0\n",
      "mH =  93.15789473684211 pvalue = 0.5  significance = -0.0\n",
      "mH =  96.3157894736842 pvalue = 0.5  significance = -0.0\n",
      "mH =  99.47368421052632 pvalue = 0.5  significance = -0.0\n",
      "mH =  102.63157894736842 pvalue = 0.5  significance = -0.0\n",
      "mH =  105.78947368421052 pvalue = 0.5  significance = -0.0\n",
      "mH =  108.94736842105263 pvalue = 0.5  significance = -0.0\n",
      "mH =  112.10526315789474 pvalue = 0.32401875402616814  significance = 0.45649021159963166\n",
      "mH =  115.26315789473685 pvalue = 0.0022882359758567366  significance = 2.8354252768926704\n",
      "mH =  118.42105263157895 pvalue = 2.0904408881680056e-06  significance = 4.602181718136187\n",
      "mH =  121.57894736842105 pvalue = 3.004127529498947e-08  significance = 5.418555315581337\n",
      "mH =  124.73684210526315 pvalue = 1.2210300884842286e-08  significance = 5.577352983425476\n",
      "mH =  127.89473684210526 pvalue = 1.1319235530722378e-07  significance = 5.1762544091435325\n",
      "mH =  131.05263157894737 pvalue = 1.392703182775458e-05  significance = 4.190336848352099\n",
      "mH =  134.21052631578948 pvalue = 0.0074267354650348  significance = 2.435932135827435\n",
      "mH =  137.3684210526316 pvalue = 0.4957263154498457  significance = 0.010712743430943401\n",
      "mH =  140.5263157894737 pvalue = 0.5  significance = -0.0\n",
      "mH =  143.68421052631578 pvalue = 0.5  significance = -0.0\n",
      "mH =  146.8421052631579 pvalue = 0.5  significance = -0.0\n",
      "mH =  150.0 pvalue = 0.5  significance = -0.0\n"
     ]
    }
   ],
   "source": [
    "RooStats.AsymptoticCalculator.SetPrintLevel(-1)\n",
    "mH_values = np.linspace(mH.getMin(), mH.getMax(), 20)\n",
    "pvalues, pvalues_exp, zs, qvalues = [], [], [], []\n",
    "for mH_value in mH_values:\n",
    "    f = ROOT.TFile('ws_shape.root')\n",
    "    ws = f.Get('ws_shape')\n",
    "    mH = ws.var('mH')\n",
    "    mH.setVal(mH_value)\n",
    "    mH.setConstant(True)\n",
    "    data = ws.data('obsData')\n",
    "    #ws.pdf('model').fitTo(data)   # better to do a fit before\n",
    "    sbModel = ws.obj('sbModel')\n",
    "    bModel = ws.obj('bModel')\n",
    "    hypoCalc = RooStats.AsymptoticCalculator(data, sbModel, bModel)\n",
    "    hypoCalc.SetOneSidedDiscovery(True)\n",
    "    htr = hypoCalc.GetHypoTest()\n",
    "    print(\"mH = \", mH.getVal(), \"pvalue =\", htr.NullPValue(), \" significance =\", htr.Significance())\n",
    "    pval_exp = RooStats.AsymptoticCalculator.GetExpectedPValues(htr.NullPValue(), htr.AlternatePValue(), 0, False)\n",
    "    pvalues.append(htr.NullPValue()); zs.append(htr.Significance()); pvalues_exp.append(pval_exp)\n",
    "    del hypoCalc\n",
    "    del htr"
   ]
  },
  {
   "cell_type": "code",
   "execution_count": 22,
   "metadata": {
    "slideshow": {
     "slide_type": "subslide"
    }
   },
   "outputs": [
    {
     "data": {
      "image/png": "[encoded data removed]",
      "text/plain": [
       "<Figure size 1200x400 with 2 Axes>"
      ]
     },
     "metadata": {},
     "output_type": "display_data"
    }
   ],
   "source": [
    "fig, axs = plt.subplots(1, 2, figsize=(12, 4))\n",
    "axs[0].semilogy(mH_values, pvalues, '.-')\n",
    "axs[0].semilogy(mH_values, pvalues_exp, '--')\n",
    "axs[1].plot(mH_values, zs, '.-')\n",
    "axs[0].set_xlabel('mH'); axs[1].set_xlabel('mH')\n",
    "axs[0].set_ylabel('pvalue'); axs[1].set_ylabel('significance'); plt.show()"
   ]
  },
  {
   "cell_type": "markdown",
   "metadata": {
    "slideshow": {
     "slide_type": "fragment"
    }
   },
   "source": [
    "### Question\n",
    "Explain why p-value is never bigger than 0.5 (we have used $q_0$ as test statistic)."
   ]
  },
  {
   "cell_type": "markdown",
   "metadata": {
    "slideshow": {
     "slide_type": "subslide"
    }
   },
   "source": [
    "### Look elsewhere effect\n",
    "\n",
    "The maximum significance we have found is 5 around 125. Usually this is called \"local significace\", since it is computed for a particular $m_H$. The problem is that we have repeated the test many times and we have to consider that we are taking into account the maximum discrepancy. This is also know as \"problem of multiple comparisons\".\n",
    "\n",
    "One can solve this problem redefining the test statistic as:\n",
    "\n",
    "$$q_0^{global} = \\max_{m_H} q_0(m_H)$$\n",
    "\n",
    "But the distribution of $q_0^{global}$ is unknown. The other solution is to introduce a \"trial factor\" to correct the local-$p_0$ to obtain the global-$p_0$."
   ]
  },
  {
   "cell_type": "code",
   "execution_count": 23,
   "metadata": {
    "slideshow": {
     "slide_type": "subslide"
    }
   },
   "outputs": [
    {
     "data": {
      "text/html": [
       "\n",
       "        <iframe\n",
       "            width=\"900\"\n",
       "            height=\"500\"\n",
       "            src=\"http://xkcd.com/882/\"\n",
       "            frameborder=\"0\"\n",
       "            allowfullscreen\n",
       "            \n",
       "        ></iframe>\n",
       "        "
      ],
      "text/plain": [
       "<IPython.lib.display.IFrame at 0x7fe6b005fa60>"
      ]
     },
     "execution_count": 23,
     "metadata": {},
     "output_type": "execute_result"
    }
   ],
   "source": [
    "IFrame(\"http://xkcd.com/882/\", 900, 500)"
   ]
  },
  {
   "cell_type": "markdown",
   "metadata": {
    "slideshow": {
     "slide_type": "subslide"
    }
   },
   "source": [
    "## Exclusions\n",
    "\n",
    "We are also interested to know what is the minimum $\\mu$ that we can exclude. This is done as hypothesis inversion. We have to find a $\\mu_{95}$ that is exluded at 5%. As before this is done with a simple scan. Let's do it for $m_H=110 GeV$."
   ]
  },
  {
   "cell_type": "code",
   "execution_count": 24,
   "metadata": {
    "slideshow": {
     "slide_type": "subslide"
    }
   },
   "outputs": [
    {
     "data": {
      "text/plain": [
       "False"
      ]
     },
     "execution_count": 24,
     "metadata": {},
     "output_type": "execute_result"
    }
   ],
   "source": [
    "f = ROOT.TFile('ws_shape.root')\n",
    "ws = f.Get(\"ws_shape\")\n",
    "ws.var('mH').setVal(110)\n",
    "ws.var('mH').setConstant(True)\n",
    "ws.var('mu').setRange(0, 1)\n",
    "ws.writeToFile(\"ws_shape_110.root\")"
   ]
  },
  {
   "cell_type": "code",
   "execution_count": 25,
   "metadata": {
    "slideshow": {
     "slide_type": "subslide"
    }
   },
   "outputs": [
    {
     "name": "stdout",
     "output_type": "stream",
     "text": [
      "0x5647fca651c0\tws_shape_110.root\n",
      "Running HypoTestInverter on the workspace ws_shape\n",
      "\n",
      "RooWorkspace(ws_shape) ws_shape contents\n",
      "\n",
      "variables\n",
      "---------\n",
      "(global_efficiency,global_lumi,global_peak,global_width,mH,mass,mu,nbkg,nominal_efficiency,nominal_width,sigma_efficiency,sigma_lumi,sigma_mH,sigma_width,tau,theta_efficiency,theta_lumi,theta_mH,theta_width)\n",
      "\n",
      "p.d.f.s\n",
      "-------\n",
      "RooExponential::background[ x=mass c=tau ] = 0.0530606\n",
      "RooGaussian::constrain_eff[ x=global_efficiency mean=theta_efficiency sigma=1 ] = 1\n",
      "RooGaussian::constrain_lumi[ x=global_lumi mean=theta_lumi sigma=1 ] = 1\n",
      "RooGaussian::constrain_peak[ x=global_peak mean=theta_mH sigma=1 ] = 1\n",
      "RooGaussian::constrain_width[ x=global_width mean=theta_width sigma=1 ] = 0.985951\n",
      "RooProdPdf::constraints[ constrain_peak * constrain_lumi * constrain_width * constrain_eff ] = 0.985951\n",
      "RooProdPdf::model[ phys_pdf * constraints ] = 0.0523151\n",
      "RooAddPdf::phys_pdf[ nsignal * signal + nbkg * background ] = 0.0530606/1\n",
      "RooGaussian::signal[ x=mass mean=peak sigma=width ] = 0.139912\n",
      "\n",
      "functions\n",
      "--------\n",
      "RooFormulaVar::efficiency[ actualVars=(nominal_efficiency,sigma_efficiency,theta_efficiency) formula=\"x[0]*(1+exp(x[1]*x[2]))\" ] = 1.2\n",
      "RooFormulaVar::klumi[ actualVars=(sigma_lumi,theta_lumi) formula=\"(1+exp(x[0]*x[1]))\" ] = 2\n",
      "RooFormulaVar::kpeak[ actualVars=(sigma_mH,theta_mH) formula=\"1+x[0]*x[1]\" ] = 1\n",
      "RooFormulaVar::kwidth[ actualVars=(sigma_width,theta_width) formula=\"1+x[0]*x[1]\" ] = 1.00841\n",
      "RooProduct::nsignal[ nsignal_theory * mu * efficiency * klumi ] = 0\n",
      "RooFormulaVar::nsignal_theory[ actualVars=(mH) formula=\"7+x[0]*0.2\" ] = 29\n",
      "RooFormulaVar::peak[ actualVars=(mH,kpeak) formula=\"x[0]*x[1]\" ] = 110\n",
      "RooFormulaVar::width[ actualVars=(nominal_width,kwidth) formula=\"x[0]*x[1]\" ] = 5.04205\n",
      "\n",
      "datasets\n",
      "--------\n",
      "RooDataSet::obsData(mass)\n",
      "\n",
      "parameter snapshots\n",
      "-------------------\n",
      "sbModel__snapshot = (mu=0.873254 +/- 0.181186)\n",
      "bModel__snapshot = (mu=0 +/- 0.181186)\n",
      "\n",
      "named sets\n",
      "----------\n",
      "bModel__snapshot:(mu)\n",
      "sbModel_GlobalObservables:(global_peak,global_width,global_lumi,global_efficiency)\n",
      "sbModel_NuisParams:(theta_mH,theta_width,theta_lumi,theta_efficiency,tau,nbkg)\n",
      "sbModel_Observables:(mass)\n",
      "sbModel_POI:(mu)\n",
      "sbModel__snapshot:(mu)\n",
      "\n",
      "generic objects\n",
      "---------------\n",
      "RooStats::ModelConfig::sbModel\n",
      "RooStats::ModelConfig::bModel\n",
      "\n",
      "Using data set obsData\n",
      "StandardHypoTestInvDemo : POI initial value:   mu = 0\n",
      " **********\n",
      " **    1 **SET PRINT           0\n",
      " **********\n",
      " **********\n",
      " **    2 **SET NOGRAD\n",
      " **********\n",
      " PARAMETER DEFINITIONS:\n",
      "    NO.   NAME         VALUE      STEP SIZE      LIMITS\n",
      "     1 mu           0.00000e+00  1.81186e-01    0.00000e+00  1.00000e+00\n",
      " MINUIT WARNING IN PARAM DEF\n",
      " ============== STARTING VALUE IS AT LIMIT.\n",
      " MINUIT WARNING IN PARAMETR\n",
      " ============== VARIABLE1 IS AT ITS LOWER ALLOWED LIMIT.\n",
      " MINUIT WARNING IN PARAMETR\n",
      " ============== VARIABLE1 BROUGHT BACK INSIDE LIMITS.\n",
      "     2 nbkg         4.10348e+02  2.30536e+01    0.00000e+00  1.00000e+03\n",
      "     3 tau         -2.44693e-02  2.57973e-03   -5.00000e-01 -1.00000e-03\n",
      "     4 theta_efficiency  -1.18309e-04  9.93350e-01   -5.00000e+00  5.00000e+00\n",
      "     5 theta_lumi  -1.30614e-04  9.93347e-01   -5.00000e+00  5.00000e+00\n",
      "     6 theta_mH     8.79067e-05  9.93287e-01   -5.00000e+00  5.00000e+00\n",
      "     7 theta_width   1.68217e-01  9.82367e-01   -5.00000e+00  5.00000e+00\n",
      " **********\n",
      " **    3 **SET ERR         0.5\n",
      " **********\n",
      " **********\n",
      " **    4 **SET PRINT           0\n",
      " **********\n",
      " **********\n",
      " **    5 **SET STR           0\n",
      " **********\n",
      " **********\n",
      " **    6 **MIGRAD        3500           1\n",
      " **********\n",
      " MINUIT WARNING IN MIGrad    \n",
      " ============== VARIABLE1 IS AT ITS LOWER ALLOWED LIMIT.\n",
      " MIGRAD MINIMIZATION HAS CONVERGED.\n",
      " FCN=-416.671 FROM MIGRAD    STATUS=CONVERGED     152 CALLS         153 TOTAL\n",
      "                     EDM=2.29992e-05    STRATEGY= 0  ERROR MATRIX UNCERTAINTY  19.0 per cent\n",
      "  EXT PARAMETER                APPROXIMATE        STEP         FIRST   \n",
      "  NO.   NAME      VALUE            ERROR          SIZE      DERIVATIVE \n",
      "   1  mu           2.51183e-06   8.00418e-01  -4.43341e-02   9.84311e-04\n",
      "   2  nbkg         4.77088e+02   2.21312e+01   3.19896e-04   9.17268e-02\n",
      "   3  tau         -1.95183e-02   2.08491e-03  -6.71999e-06  -7.44129e-02\n",
      "   4  theta_efficiency   7.02347e-05   9.92239e-01  -7.86810e-04   3.51365e-04\n",
      "   5  theta_lumi   2.08818e-05   9.93156e-01  -3.18490e-04   1.04486e-04\n",
      "   6  theta_mH    -2.18335e-03   9.78387e-01  -1.40182e-03  -1.09281e-02\n",
      "   7  theta_width  -1.73515e-03   1.01189e+00   1.04788e-03  -8.68211e-03\n",
      "                               ERR DEF= 0.5\n",
      "StandardHypoTestInvDemo - Best Fit value : mu = 2.51183e-06 +/- 0.800418\n",
      "Time for fitting : Real time 0:00:00, CP time 0.010\n",
      "StandardHypoTestInvo: snapshot of S+B Model sbModel is set to the best fit value\n",
      "Doing a fixed scan  in interval : 0 , 5\n",
      "Time to perform limit scan \n",
      "Real time 0:00:00, CP time 0.160\n",
      "The computed upper limit is: 0.369278 +/- 0\n",
      "Expected upper limits, using the B (alternate) model : \n",
      " expected limit (median) 0.369227\n",
      " expected limit (-1 sig) 0.262796\n",
      " expected limit (+1 sig) 0.524426\n",
      " expected limit (-2 sig) 0.194767\n",
      " expected limit (+2 sig) 0.722169\n"
     ]
    },
    {
     "name": "stderr",
     "output_type": "stream",
     "text": [
      "Info in <StandardHypoTestInvDemo>: Using Minuit as minimizer for computing the test statistic\n",
      "Info in <StandardHypoTestInvDemo>:  Doing a first fit to the observed data \n",
      "Info in <StandardHypoTestInvDemo>: HypoTestInverterResult has been written in the file Asym_CLs_grid_ts3_ws_shape_110.root\n"
     ]
    }
   ],
   "source": [
    "ROOT.gROOT.LoadMacro('StandardHypoTestInvDemo.C')\n",
    "ROOT.StandardHypoTestInvDemo(\"ws_shape_110.root\", \"ws_shape\", \"sbModel\", \"bModel\", \"obsData\", 2, 3, True, 30)"
   ]
  },
  {
   "cell_type": "code",
   "execution_count": 26,
   "metadata": {
    "slideshow": {
     "slide_type": "subslide"
    }
   },
   "outputs": [
    {
     "data": {
      "image/png": "[encoded data removed]",
      "text/plain": [
       "<IPython.core.display.Image object>"
      ]
     },
     "metadata": {},
     "output_type": "display_data"
    }
   ],
   "source": [
    "fresult = ROOT.TFile(\"Asym_CLs_grid_ts3_ws_shape_110.root\")\n",
    "result = fresult.Get(\"result_mu\")\n",
    "plot = RooStats.HypoTestInverterPlot(\"result\", \"result\", result)\n",
    "plot.Draw()\n",
    "ROOT.gPad.Draw()"
   ]
  },
  {
   "cell_type": "markdown",
   "metadata": {
    "slideshow": {
     "slide_type": "slide"
    }
   },
   "source": [
    "## Example of result you can find around"
   ]
  },
  {
   "cell_type": "markdown",
   "metadata": {
    "slideshow": {
     "slide_type": "subslide"
    }
   },
   "source": [
    "<img src=\"img/figaux_004a.png\" width=\"80%\">"
   ]
  },
  {
   "cell_type": "markdown",
   "metadata": {
    "slideshow": {
     "slide_type": "subslide"
    }
   },
   "source": [
    "<img src=\"img/figaux_007a.png\" width=\"90%\">"
   ]
  },
  {
   "cell_type": "markdown",
   "metadata": {
    "slideshow": {
     "slide_type": "subslide"
    }
   },
   "source": [
    "<img src=\"img/figaux_007b.png\" width=\"90%\">"
   ]
  },
  {
   "cell_type": "markdown",
   "metadata": {
    "slideshow": {
     "slide_type": "subslide"
    }
   },
   "source": [
    "<img src=\"img/atlas_mH_ws.jpg\" width=\"75%\">"
   ]
  },
  {
   "cell_type": "markdown",
   "metadata": {
    "slideshow": {
     "slide_type": "slide"
    }
   },
   "source": [
    "## Topic not coverted, but important if you want to do hypothesis test in HEP\n",
    "\n",
    "   * Look elesewhere effect\n",
    "   * CLs\n",
    "   * Asimov dataset"
   ]
  },
  {
   "cell_type": "markdown",
   "metadata": {
    "slideshow": {
     "slide_type": "slide"
    }
   },
   "source": [
    "## Last (big) exercize\n",
    "Redo one of the example where we have use the frequentist calculator, without using it, reimplementing the toy generation and the computation of the test statistic by hand"
   ]
  }
 ],
 "metadata": {
  "celltoolbar": "Slideshow",
  "hide_input": false,
  "kernelspec": {
   "display_name": "Python 3 (ipykernel)",
   "language": "python",
   "name": "python3"
  },
  "language_info": {
   "codemirror_mode": {
    "name": "ipython",
    "version": 3
   },
   "file_extension": ".py",
   "mimetype": "text/x-python",
   "name": "python",
   "nbconvert_exporter": "python",
   "pygments_lexer": "ipython3",
   "version": "3.9.16"
  },
  "latex_envs": {
   "bibliofile": "biblio.bib",
   "cite_by": "apalike",
   "current_citInitial": 1,
   "eqLabelWithNumbers": true,
   "eqNumInitial": 0
  }
 },
 "nbformat": 4,
 "nbformat_minor": 1
}
